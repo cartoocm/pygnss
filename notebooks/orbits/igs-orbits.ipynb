{
 "metadata": {
  "css": [
   ""
  ],
  "name": ""
 },
 "nbformat": 3,
 "nbformat_minor": 0,
 "worksheets": [
  {
   "cells": [
    {
     "cell_type": "code",
     "collapsed": false,
     "input": [
      "import numpy as np"
     ],
     "language": "python",
     "metadata": {},
     "outputs": [],
     "prompt_number": 1
    },
    {
     "cell_type": "markdown",
     "metadata": {},
     "source": [
      "We want to be able to use the IGS post-processed POD and satellite clock offset determination."
     ]
    },
    {
     "cell_type": "markdown",
     "metadata": {},
     "source": [
      "The IGS data centers store their data for GPS in directories named by GPS week number."
     ]
    },
    {
     "cell_type": "markdown",
     "metadata": {},
     "source": [
      "We import our test data from the file `data/g072602f.dat`, which file of binary bytes. The data is from 7/26/2002 at 13:56 EST."
     ]
    },
    {
     "cell_type": "code",
     "collapsed": false,
     "input": [
      "with open('../data/g072602f.dat', 'r') as f:\n",
      "    signal = np.fromfile(f, dtype=np.byte)\n",
      "print('we have {0} seconds of data'.format(len(signal) / 5e6))"
     ],
     "language": "python",
     "metadata": {},
     "outputs": [
      {
       "output_type": "stream",
       "stream": "stdout",
       "text": [
        "we have 1.048576 seconds of data\n"
       ]
      }
     ],
     "prompt_number": 2
    },
    {
     "cell_type": "code",
     "collapsed": false,
     "input": [
      "n = np.arange(len(signal))\n",
      "fs = 5e6\n",
      "t = n / fs\n",
      "fi = 1.25e6\n",
      "baseband = signal * np.exp(-2j * np.pi * fi * t)"
     ],
     "language": "python",
     "metadata": {},
     "outputs": [],
     "prompt_number": 49
    },
    {
     "cell_type": "code",
     "collapsed": false,
     "input": [
      "import datetime\n",
      "import pytz"
     ],
     "language": "python",
     "metadata": {},
     "outputs": [],
     "prompt_number": 3
    },
    {
     "cell_type": "code",
     "collapsed": false,
     "input": [
      "year = 2002\n",
      "month = 7\n",
      "day = 26\n",
      "hour = 13\n",
      "minute = 56\n",
      "second = 0\n",
      "tz = pytz.timezone('US/Eastern')\n",
      "data_time = datetime.datetime(year, month, day, hour, minute, second, tzinfo=tz)"
     ],
     "language": "python",
     "metadata": {},
     "outputs": [],
     "prompt_number": 4
    },
    {
     "cell_type": "code",
     "collapsed": false,
     "input": [
      "gps_epoch = datetime.datetime(1980, 1, 1, 0, 0, 0, tzinfo=pytz.UTC)  # UTC is close enough for GPS\n",
      "delta = data_time - gps_epoch\n",
      "day_of_week = (data_time.weekday() + 1) % 7\n",
      "week_no = int(delta.days / 7.) - 1\n",
      "# day_of_week, week_no = np.modf(delta.days / 7.)\n",
      "# day_of_week, week_no = int(day_of_week * 7.), int(week_no)\n",
      "ftp_url = 'ftp://igscb.jpl.nasa.gov/pub/gps/{0}/'.format(week_no)\n",
      "filename = 'igs{0}{1}.sp3.Z'.format(week_no, day_of_week)\n",
      "print('week no. {0}\\nday of week {1}\\nurl {2}\\nfile name {3}'.format(week_no, day_of_week, ftp_url, filename))"
     ],
     "language": "python",
     "metadata": {},
     "outputs": [
      {
       "output_type": "stream",
       "stream": "stdout",
       "text": [
        "week no. 1176\n",
        "day of week 5\n",
        "url ftp://igscb.jpl.nasa.gov/pub/gps/1176/\n",
        "file name igs11765.sp3.Z\n"
       ]
      }
     ],
     "prompt_number": 5
    },
    {
     "cell_type": "code",
     "collapsed": false,
     "input": [
      "import urllib \n",
      "data = urllib.urlretrieve(ftp_url + filename, '../data/' + filename)"
     ],
     "language": "python",
     "metadata": {},
     "outputs": [],
     "prompt_number": 6
    },
    {
     "cell_type": "code",
     "collapsed": false,
     "input": [
      "%%bash\n",
      "cd ../data\n",
      "uncompress *.Z\n",
      "ls"
     ],
     "language": "python",
     "metadata": {},
     "outputs": [
      {
       "output_type": "stream",
       "stream": "stdout",
       "text": [
        "20131113.gps\n",
        "g072602f.dat\n",
        "gps_code_phase_assignments.json\n",
        "gs0_w0.dat\n",
        "igs11765.sp3\n",
        "igs11765.sp3.Z\n"
       ]
      },
      {
       "output_type": "stream",
       "stream": "stderr",
       "text": [
        "gzip: igs11765.sp3 already exists;\tnot overwritten\n"
       ]
      }
     ],
     "prompt_number": 7
    },
    {
     "cell_type": "code",
     "collapsed": false,
     "input": [
      "filename = filename[:-2]  # remove .Z suffix"
     ],
     "language": "python",
     "metadata": {},
     "outputs": [],
     "prompt_number": 8
    },
    {
     "cell_type": "code",
     "collapsed": false,
     "input": [
      "print(filename)"
     ],
     "language": "python",
     "metadata": {},
     "outputs": [
      {
       "output_type": "stream",
       "stream": "stdout",
       "text": [
        "igs11765.sp3\n"
       ]
      }
     ],
     "prompt_number": 9
    },
    {
     "cell_type": "code",
     "collapsed": false,
     "input": [
      "def seek_time(f, time):\n",
      "    while True:\n",
      "        line = f.readline()\n",
      "        if line == \"\":\n",
      "            break  # \"\" signifies EOF\n",
      "        if not line.startswith('*'):\n",
      "            continue\n",
      "        _, year, month, day, hour, minute, second = line.split()\n",
      "        file_time = datetime.datetime(int(year), int(month), int(day), int(hour), int(minute), int(float(second)),\n",
      "                                      tzinfo=pytz.UTC)\n",
      "        if file_time < time:\n",
      "            continue\n",
      "        return True\n",
      "    return False\n",
      "\n",
      "def parse_sp3_position_and_clock(f, data):\n",
      "    \"\"\"\n",
      "    data shape should be (32, 4)\n",
      "    there are always 32 PRN entries with 4 datums per entry: x, y, z, clk\n",
      "    \"\"\"\n",
      "    while True:\n",
      "        line = f.readline()\n",
      "        if line == \"\":\n",
      "            break  # \"\" signifies EOF\n",
      "        if not line.startswith('P'):\n",
      "            break\n",
      "        _, prn, x, y, z, clk = line.split()\n",
      "        data[int(prn)-1, :] = np.array([float(val) for val in [x, y, z, clk]])"
     ],
     "language": "python",
     "metadata": {},
     "outputs": [],
     "prompt_number": 128
    },
    {
     "cell_type": "markdown",
     "metadata": {},
     "source": [
      "We may want to search for the doppler frequency later than the epoch of the data."
     ]
    },
    {
     "cell_type": "code",
     "collapsed": false,
     "input": [
      "td = datetime.timedelta(days=0, hours=0, minutes=15, seconds=0)"
     ],
     "language": "python",
     "metadata": {},
     "outputs": [],
     "prompt_number": 141
    },
    {
     "cell_type": "code",
     "collapsed": false,
     "input": [
      "data = np.zeros((2, 32, 4))  # 2 epochs, 32 PRNs, 4 datums\n",
      "with open('../data/' + filename, 'r') as f:\n",
      "    if seek_time(f, data_time + td):\n",
      "        parse_sp3_position_and_clock(f, data[0, :, :])\n",
      "        parse_sp3_position_and_clock(f, data[1, :, :])"
     ],
     "language": "python",
     "metadata": {},
     "outputs": [],
     "prompt_number": 142
    },
    {
     "cell_type": "code",
     "collapsed": false,
     "input": [
      "sat_pos1 = data[0, :, :3]\n",
      "sat_pos2 = data[1, :, :3]\n",
      "sat_vel1 = (sat_pos2 - sat_pos1) / (15. * 60.)"
     ],
     "language": "python",
     "metadata": {},
     "outputs": [],
     "prompt_number": 143
    },
    {
     "cell_type": "markdown",
     "metadata": {},
     "source": [
      "Yay! We now have the *precise* position and clock offsets for each satellite at the approximate time our data was taken. We also made approximate satellite velocity estimates using two consecutive satellite positions (15 minutes apart). (Note: there are some sp3 files that have precise velocity estimates--these linse begin with 'V' instead of 'P'--this was not one of those files). The next thing we need to do is use the satellite position to calculate the doppler frequency for each satellite.\n",
      "\n",
      "I'm pretty sure the receiver was located at (452404.475, -4906838.703, 4036384.991) ECEF coordinates."
     ]
    },
    {
     "cell_type": "code",
     "collapsed": false,
     "input": [
      "sv_id = 18"
     ],
     "language": "python",
     "metadata": {},
     "outputs": [],
     "prompt_number": 150
    },
    {
     "cell_type": "code",
     "collapsed": false,
     "input": [
      "rx_ecef = np.array((452404.475, -4906838.703, 4036384.991))  # in meters\n",
      "rx_vel = np.zeros((3,))"
     ],
     "language": "python",
     "metadata": {},
     "outputs": [],
     "prompt_number": 151
    },
    {
     "cell_type": "code",
     "collapsed": false,
     "input": [
      "sv_ecef = 1000 * sat_pos1[sv_id - 1,:]\n",
      "sv_vel = 1000 * sat_vel1[sv_id - 1,:]"
     ],
     "language": "python",
     "metadata": {},
     "outputs": [],
     "prompt_number": 152
    },
    {
     "cell_type": "code",
     "collapsed": false,
     "input": [
      "fc = 1.57542e9\n",
      "c = 299792458"
     ],
     "language": "python",
     "metadata": {},
     "outputs": [],
     "prompt_number": 153
    },
    {
     "cell_type": "code",
     "collapsed": false,
     "input": [
      "r_los = (rx_ecef - sv_ecef) / np.linalg.norm(rx_ecef - sv_ecef)\n",
      "v_los = sv_vel.dot(r_los) + rx_vel.dot(r_los)\n",
      "print('line of sight velocity: {0}'.format(v_los))"
     ],
     "language": "python",
     "metadata": {},
     "outputs": [
      {
       "output_type": "stream",
       "stream": "stdout",
       "text": [
        "line of sight velocity: -147.168198099\n"
       ]
      }
     ],
     "prompt_number": 154
    },
    {
     "cell_type": "code",
     "collapsed": false,
     "input": [
      "fd = -fc * (np.sqrt((1 - v_los / c) / (1 + v_los / c)) - 1)\n",
      "print('doppler frequency: {0}'.format(fd))"
     ],
     "language": "python",
     "metadata": {},
     "outputs": [
      {
       "output_type": "stream",
       "stream": "stdout",
       "text": [
        "doppler frequency: -773.374290847\n"
       ]
      }
     ],
     "prompt_number": 155
    },
    {
     "cell_type": "markdown",
     "metadata": {},
     "source": [
      "We want to know if this matches the doppler frequency we detect in the signal."
     ]
    },
    {
     "cell_type": "code",
     "collapsed": false,
     "input": [
      "import imp\n",
      "gnss_algorithms = imp.load_source('gnss_algorithms', '../src/gnss_algorithms.py')\n",
      "gnss_codes = imp.load_source('gnss_codes', '../src/gnss_code_generation.py')"
     ],
     "language": "python",
     "metadata": {},
     "outputs": [],
     "prompt_number": 156
    },
    {
     "cell_type": "code",
     "collapsed": false,
     "input": [
      "l_blk = 20e-3\n",
      "n_blks = 3\n",
      "fs = 5e6\n",
      "fc = 1.57542e9\n",
      "code = gnss_codes.gps_l1_ca(sv_id)\n",
      "f_chip = 1.023e6\n",
      "fd_c, tau_c, snr = gnss_algorithms.aquire_coarse(baseband, l_blk, n_blks, fs, fc, code, f_chip)"
     ],
     "language": "python",
     "metadata": {},
     "outputs": [],
     "prompt_number": 157
    },
    {
     "cell_type": "code",
     "collapsed": false,
     "input": [
      "print('detected coarse doppler: ' + str(fd_c))"
     ],
     "language": "python",
     "metadata": {},
     "outputs": [
      {
       "output_type": "stream",
       "stream": "stdout",
       "text": [
        "detected coarse doppler: 100.0\n"
       ]
      }
     ],
     "prompt_number": 158
    }
   ],
   "metadata": {}
  }
 ]
}