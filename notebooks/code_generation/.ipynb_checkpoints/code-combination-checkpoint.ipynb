{
 "cells": [
  {
   "cell_type": "markdown",
   "metadata": {},
   "source": [
    "### code combination\n",
    "\n",
    "The need often arises to either add or multiplex two codes together. The addition is modulo-2 addition of the codes at their respective rates for their least common multiple. The multiplexing is time multiplexing which interleaves two codes with the same length. For our purposes, we will ant a general `Code` class that stores symbol and rate information. This class will define constructors capable of taking two code objects and combining them as described above."
   ]
  },
  {
   "cell_type": "code",
   "execution_count": 2,
   "metadata": {
    "collapsed": false
   },
   "outputs": [],
   "source": [
    "from fractions import gcd\n",
    "\n",
    "class Code:\n",
    "    \n",
    "    def __init__(self, sequence, rate):\n",
    "        self.sequence = sequence\n",
    "        self.rate = rate\n",
    "    \n",
    "    def time_multiplex(code_1, code_2, new_length):\n",
    "        \"\"\"\n",
    "        Given two codes `code_1` and `code_2` and a new length for the combined code,\n",
    "        returns a combined code of the interleaved sequences of `code_1` and `code_2` at\n",
    "        twice the rate of `code_1`/`code_2`.\n",
    "        \"\"\"\n",
    "        assert(code_1.rate == code_2.rate)\n",
    "        rate = code_1.rate\n",
    "        new_rate = rate * 2\n",
    "        t = np.arange(0., new_length / new_rate, 1. / rate)\n",
    "        sequence_1 = code_1.sequence[np.floor(t * rate) % len(code_1.sequence)]\n",
    "        sequence_2 = code_2.sequence[np.floor(t * rate) % len(code_2.sequence)]\n",
    "        # the following concatenates the arrays along their unit-dimensions (say, puts them into two rows)\n",
    "        # then reshapes them so they interleave into one long vector.\n",
    "        new_sequence = vstack((sequence_1, sequence_2)).reshape((-1,), order='F')\n",
    "        return Code(new_sequence, new_rate)\n",
    "    \n",
    "    def lcm(a, b):\n",
    "        \"\"\"\n",
    "        Finds the least common mutliple of two integers `a` and `b`.\n",
    "        Stolen from: http://rosettacode.org/wiki/Least_common_multiple#Python\n",
    "        \"\"\"\n",
    "        return abs(a * b) / fractions.gcd(a, b) if a and b else 0\n",
    "    \n",
    "    def combine(code_1, code_2, new_length, new_rate):\n",
    "        \"\"\"\n",
    "        Given two codes `code_1` and `code_2` and the new length and rate for a combined code,\n",
    "        returns the modulo-2 sum of the two codes of new length at the new rate.\n",
    "        \"\"\"\n",
    "        t = np.arange(0., new_length / new_rate, 1. / new_rate)\n",
    "        sequence = (code_1.sequence[np.floor(t * code_1.rate) % len(code_1.sequence)] \\\n",
    "                  + code_2.sequence[np.floor(t * code_2.rate) % len(code_2.sequence)]) % 2\n",
    "        return Code(sequence, new_rate)"
   ]
  },
  {
   "cell_type": "code",
   "execution_count": null,
   "metadata": {
    "collapsed": true
   },
   "outputs": [],
   "source": []
  }
 ],
 "metadata": {
  "kernelspec": {
   "display_name": "Python 3",
   "language": "python",
   "name": "python3"
  },
  "language_info": {
   "codemirror_mode": {
    "name": "ipython",
    "version": 3
   },
   "file_extension": ".py",
   "mimetype": "text/x-python",
   "name": "python",
   "nbconvert_exporter": "python",
   "pygments_lexer": "ipython3",
   "version": "3.4.2"
  }
 },
 "nbformat": 4,
 "nbformat_minor": 0
}
