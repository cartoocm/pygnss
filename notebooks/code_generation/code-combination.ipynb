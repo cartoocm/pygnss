{
 "cells": [
  {
   "cell_type": "markdown",
   "metadata": {},
   "source": [
    "### code combination\n",
    "\n",
    "The need often arises to either add or multiplex two codes together. The addition is modulo-2 addition of the codes at their respective rates for their least common multiple. The multiplexing is time multiplexing which interleaves two codes with the same length. For our purposes, we will ant a general `Code` class that stores symbol and rate information. This class will define constructors capable of taking two code objects and combining them as described above."
   ]
  },
  {
   "cell_type": "code",
   "execution_count": 14,
   "metadata": {
    "collapsed": false
   },
   "outputs": [],
   "source": [
    "%reload_ext autoreload\n",
    "%autoreload 2\n",
    "import numpy as np\n",
    "from gnss.codes import gps_l1\n",
    "from gnss.codes import Code  # we can only load this once we've already written the file __init__.py which contains the `Code` class"
   ]
  },
  {
   "cell_type": "code",
   "execution_count": 32,
   "metadata": {
    "collapsed": false
   },
   "outputs": [
    {
     "name": "stdout",
     "output_type": "stream",
     "text": [
      "Overwriting ../../gnss/codes/code.py\n"
     ]
    }
   ],
   "source": [
    "%%writefile ../../gnss/codes/code.py\n",
    "\n",
    "from fractions import gcd\n",
    "from numpy import arange, floor, vstack, asarray, repeat\n",
    "\n",
    "def lcm(a, b):\n",
    "    \"\"\"\n",
    "    Finds the least common mutliple of two integers `a` and `b`.\n",
    "    Stolen from: http://rosettacode.org/wiki/Least_common_multiple#Python\n",
    "    \"\"\"\n",
    "    return abs(a * b) / gcd(a, b) if a and b else 0\n",
    "    \n",
    "    \n",
    "class Code:\n",
    "    \n",
    "    def __init__(self, sequence, rate):\n",
    "        self.sequence = asarray(sequence)\n",
    "        self.rate = rate\n",
    "    \n",
    "    def __getitem__(self, key):\n",
    "        return self.sequence[key]\n",
    "    \n",
    "    def __xor__(self, other):\n",
    "        if len(self.sequence) != len(other.sequence):\n",
    "            raise ValueError('Code sequence lengths must be the same. Use Code.combine instead')\n",
    "        if self.rate != other.rate:\n",
    "            raise ValueError('Code rates must be the same. Use Code.combine instead')\n",
    "        return Code((self.sequence + other.sequence) % 2, self.rate)\n",
    "    \n",
    "    @property\n",
    "    def length(self):\n",
    "        return len(self.sequence)\n",
    "    \n",
    "    def time_multiplex(code_1, code_2):\n",
    "        \"\"\"\n",
    "        Given two codes `code_1` and `code_2` returns a combined code of the \n",
    "        interleaved sequences of `code_1` and `code_2` at twice the rate of \n",
    "        `code_1`/`code_2` and of length of the longer sequence.\n",
    "        \"\"\"\n",
    "        assert(code_1.rate == code_2.rate)\n",
    "        rate = code_1.rate\n",
    "        new_rate = rate * 2\n",
    "        length = max(len(code_1.sequence), len(code_2.sequence))\n",
    "        indices = arange(length)\n",
    "        sequence_1 = code_1.sequence[indices % len(code_1.sequence)]\n",
    "        sequence_2 = code_2.sequence[indices % len(code_2.sequence)]\n",
    "#         t = arange(0., new_length / new_rate, 1. / rate)\n",
    "#         sequence_1 = code_1.sequence[(floor(t * rate) % len(code_1.sequence)).astype(int)]\n",
    "#         sequence_2 = code_2.sequence[(floor(t * rate) % len(code_2.sequence)).astype(int)]\n",
    "        # the following concatenates the arrays along their unit-dimensions (say, puts them into two rows)\n",
    "        # then reshapes them so they interleave into one long vector.\n",
    "        new_sequence = vstack((sequence_1, sequence_2)).reshape((-1,), order='F')\n",
    "        return Code(new_sequence, new_rate)\n",
    "    \n",
    "    def combine(code_1, code_2, new_length, new_rate):\n",
    "        \"\"\"\n",
    "        Given two codes `code_1` and `code_2` and the new length and rate for a combined code,\n",
    "        returns the modulo-2 sum of the two codes of new length at the new rate.\n",
    "        \n",
    "        NOTE/TODO: seems to not be working with GPS L5 I+neuman hoffman overlay, use overlay instead\n",
    "        \"\"\"\n",
    "        t = arange(0., new_length / new_rate, 1. / new_rate)\n",
    "        sequence = (code_1.sequence[(floor(t * code_1.rate) % len(code_1.sequence)).astype(int)] \\\n",
    "                  + code_2.sequence[(floor(t * code_2.rate) % len(code_2.sequence)).astype(int)]) % 2\n",
    "        return Code(sequence, new_rate)\n",
    "\n",
    "    def overlay(code, overlay_code):\n",
    "        \"\"\"\n",
    "        Given `code`, assumes each overlay chip in `overlay_code` lasts one period of `code`.\n",
    "        Creates and returns new code of length `code.length * overlay_code.length` of the\n",
    "        original code modulo-2 summed with the overlay.\n",
    "        \"\"\"\n",
    "        code_seq = repeat(asarray([code.sequence]), overlay_code.length, axis=0).flatten()\n",
    "        overlay_seq = repeat(overlay_code.sequence, code.length)\n",
    "        return Code((code_seq + overlay_seq) % 2, code.rate)"
   ]
  },
  {
   "cell_type": "code",
   "execution_count": 23,
   "metadata": {
    "collapsed": true
   },
   "outputs": [],
   "source": [
    "from numpy import repeat, concatenate, asarray"
   ]
  },
  {
   "cell_type": "code",
   "execution_count": 30,
   "metadata": {
    "collapsed": false
   },
   "outputs": [
    {
     "data": {
      "text/plain": [
       "array([1, 2, 3, 1, 2, 3, 1, 2, 3])"
      ]
     },
     "execution_count": 30,
     "metadata": {},
     "output_type": "execute_result"
    }
   ],
   "source": [
    "a = asarray([[1, 2, 3],])\n",
    "# a = asarray([1, 2, 3])\n",
    "repeat(a, 3, axis=0).flatten()"
   ]
  },
  {
   "cell_type": "code",
   "execution_count": 11,
   "metadata": {
    "collapsed": true
   },
   "outputs": [],
   "source": [
    "from numpy import arange, floor, array"
   ]
  },
  {
   "cell_type": "code",
   "execution_count": 12,
   "metadata": {
    "collapsed": false
   },
   "outputs": [
    {
     "data": {
      "text/plain": [
       "array([ 0.,  0.,  0.,  0.,  0.,  0.,  0.,  0.,  0.,  0.])"
      ]
     },
     "execution_count": 12,
     "metadata": {},
     "output_type": "execute_result"
    }
   ],
   "source": [
    "t = arange(0., 20460 / 10230, 1 / 10230)\n",
    "floor(t[:10] * 1000)"
   ]
  },
  {
   "cell_type": "markdown",
   "metadata": {
    "collapsed": true
   },
   "source": [
    "We can now test our class using silly numpy array examples."
   ]
  },
  {
   "cell_type": "code",
   "execution_count": 15,
   "metadata": {
    "collapsed": false
   },
   "outputs": [
    {
     "name": "stdout",
     "output_type": "stream",
     "text": [
      "expected: [0 0 0 0 1 1 1 1]\n",
      "     got: [0 0 0 0 1 1 1 1]\n"
     ]
    }
   ],
   "source": [
    "a = array([1, 0, 0, 1])\n",
    "b = array([1, 1, 0, 0])\n",
    "a = Code(a, 1)\n",
    "b = Code(b, 2)\n",
    "c = Code.combine(a, b, 8, 2)\n",
    "print('expected: [0 0 0 0 1 1 1 1]')\n",
    "print('     got:', c.sequence)"
   ]
  },
  {
   "cell_type": "code",
   "execution_count": null,
   "metadata": {
    "collapsed": true
   },
   "outputs": [],
   "source": []
  }
 ],
 "metadata": {
  "kernelspec": {
   "display_name": "Python 3",
   "language": "python",
   "name": "python3"
  },
  "language_info": {
   "codemirror_mode": {
    "name": "ipython",
    "version": 3
   },
   "file_extension": ".py",
   "mimetype": "text/x-python",
   "name": "python",
   "nbconvert_exporter": "python",
   "pygments_lexer": "ipython3",
   "version": "3.4.3"
  }
 },
 "nbformat": 4,
 "nbformat_minor": 0
}
