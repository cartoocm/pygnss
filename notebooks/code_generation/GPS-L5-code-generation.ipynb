{
 "cells": [
  {
   "cell_type": "markdown",
   "metadata": {},
   "source": [
    "#### GPS L5 code generation\n",
    "\n",
    "The GPS L5 signal specification is given in IS-GPS 705.\n",
    "\n",
    "There are both in-phase and quadrature-phase codes.\n",
    "\n",
    "The in-phase code consists of the 10,230-bit I5-code at 10.23 Mbps along with a 10-bit Neumann Hoffman synchronization code at 1 Kbps.\n",
    "\n",
    "The quad-phase code consists of the 10,230-bit Q5-code at 10.23 Mbps along with a 20-bit Neumann Hoffman synchronization code at 1 Kbps."
   ]
  },
  {
   "cell_type": "code",
   "execution_count": 1,
   "metadata": {
    "collapsed": false
   },
   "outputs": [],
   "source": [
    "%reload_ext autoreload\n",
    "%autoreload 2\n",
    "import numpy as np\n",
    "from gnss import codes"
   ]
  },
  {
   "cell_type": "markdown",
   "metadata": {
    "collapsed": true
   },
   "source": [
    "From the IS-GPS 705:\n",
    "\n",
    "> The I5 and Q5 codes consist of the modulo-2 sum of two PRN codes, $XA(t)$ and $XBI_i(nI_i, t)$ or $XBQ_i(nQ_i, t)$ where $nI_i$ and $nQ_i$ are initial states of $XBI_i$ and $XBQ_i$ for satellite $i$.\n",
    "\n",
    "$XA$ has polynomial generator $XA: 1 + x^9 + x^{10} + x^{12} + x^{13}$ and is short-cycled at 8190 bits.\n",
    "\n",
    "$XBI_i$ and $XBQ_i$ both have generator $1 + x + x^3 + x^4 + x^6 + x^7 + x^8 + x^{12} + x^{13}$ and lasts its full 8191 bits."
   ]
  },
  {
   "cell_type": "code",
   "execution_count": null,
   "metadata": {
    "collapsed": false
   },
   "outputs": [],
   "source": [
    "# %load ../../gnss/codes/gps_l5.py\n",
    "\n",
    "\n",
    "from numpy import arange, zeros\n",
    "from collections import namedtuple\n",
    "from gnss.codes.code import Code\n",
    "\n",
    "class L5CodePhaseAssignment(namedtuple('L5CodePhaseAssignment', 'svid prn xb_advance_i xb_advance_q xb_initial_state_i xb_initial_state_q')):\n",
    "    \"\"\"\n",
    "    (svid prn, xb_advance_i, xb_advance_q, xb_initial_state_i, xb_initial_state_q)\n",
    "    Tuple struct to store data from Tabel 3-I of the IS-GPS 705 \n",
    "    specification, which contains shift register state information for L5\n",
    "    signals.\n",
    "    \n",
    "    `xb_advance_i`, `xb_advance_q`, are the code phase advance for I and Q signals respectively in chips\n",
    "    `xb_initial_state_i` and `xb_initial_state_q` are the initial shift register states\n",
    "    \n",
    "    \"\"\"\n",
    "    pass\n",
    "\n",
    "L5_CODE_PHASE_ASSIGNMENTS = {\n",
    "    1 : L5CodePhaseAssignment(1, 1, 266, 1701, 0b0101011100100, 0b1001011001100),\n",
    "    2 : L5CodePhaseAssignment(2, 2, 365, 323, 0b1100000110101, 0b0100011110110),\n",
    "    3 : L5CodePhaseAssignment(3, 3, 804, 5292, 0b0100000001000, 0b1111000100011),\n",
    "    4 : L5CodePhaseAssignment(4, 4, 1138, 2020, 0b1011000100110, 0b0011101101010),\n",
    "    5 : L5CodePhaseAssignment(5, 5, 1509, 5429, 0b1110111010111, 0b0011110110010),\n",
    "    6 : L5CodePhaseAssignment(6, 6, 1559, 7136, 0b0110011111010, 0b0101010101001),\n",
    "    7 : L5CodePhaseAssignment(7, 7, 1756, 1041, 0b1010010011111, 0b1111110000001),\n",
    "    8 : L5CodePhaseAssignment(8, 8, 2084, 5947, 0b1011110100100, 0b0110101101000),\n",
    "    9 : L5CodePhaseAssignment(9, 9, 2170, 4315, 0b1111100101011, 0b1011101000011),\n",
    "    10 : L5CodePhaseAssignment(10, 10, 2303, 148, 0b0111111011110, 0b0010010000110),\n",
    "    11 : L5CodePhaseAssignment(11, 11, 2527, 535, 0b0000100111010, 0b0001000000101),\n",
    "    12 : L5CodePhaseAssignment(12, 12, 2687, 1939, 0b1110011111001, 0b0101011000101),\n",
    "    13 : L5CodePhaseAssignment(13, 13, 2930, 5206, 0b0001110011100, 0b0100110100101),\n",
    "    14 : L5CodePhaseAssignment(14, 14, 3471, 5910, 0b0100000100111, 0b1010000111111),\n",
    "    15 : L5CodePhaseAssignment(15, 15, 3940, 3595, 0b0110101011010, 0b1011110001111),\n",
    "    16 : L5CodePhaseAssignment(16, 16, 4132, 5135, 0b0001111001001, 0b1101001011111),\n",
    "    17 : L5CodePhaseAssignment(17, 17, 4332, 6082, 0b0100110001111, 0b1110011001000),\n",
    "    18 : L5CodePhaseAssignment(18, 18, 4924, 6990, 0b1111000011110, 0b1011011100100),\n",
    "    19 : L5CodePhaseAssignment(19, 19, 5343, 3546, 0b1100100011111, 0b0011001011011),\n",
    "    20 : L5CodePhaseAssignment(20, 20, 5443, 1523, 0b0110101101101, 0b1100001110001),\n",
    "    21 : L5CodePhaseAssignment(21, 21, 5641, 4548, 0b0010000001000, 0b0110110010000),\n",
    "    22 : L5CodePhaseAssignment(22, 22, 5816, 4484, 0b1110111101111, 0b0010110001110),\n",
    "    23 : L5CodePhaseAssignment(23, 23, 5898, 1893, 0b1000011111110, 0b1000101111101),\n",
    "    24 : L5CodePhaseAssignment(24, 24, 5918, 3961, 0b1100010110100, 0b0110111110011),\n",
    "    25 : L5CodePhaseAssignment(25, 25, 5955, 7106, 0b1101001101101, 0b0100010011011),\n",
    "    26 : L5CodePhaseAssignment(26, 26, 6243, 5299, 0b1010110010110, 0b0101010111100),\n",
    "    27 : L5CodePhaseAssignment(27, 27, 6345, 4660, 0b0101011011110, 0b1000011111010),\n",
    "    28 : L5CodePhaseAssignment(28, 28, 6477, 276, 0b0111101010110, 0b1111101000010),\n",
    "    29 : L5CodePhaseAssignment(29, 29, 6518, 4389, 0b0101111100001, 0b0101000100100),\n",
    "    30 : L5CodePhaseAssignment(30, 30, 6875, 3783, 0b1000010110111, 0b1000001111001),\n",
    "    31 : L5CodePhaseAssignment(31, 31, 7168, 1591, 0b0001010011110, 0b0101111100101),\n",
    "    32 : L5CodePhaseAssignment(32, 32, 7187, 1601, 0b0000010111001, 0b1001000101010),\n",
    "    65 : L5CodePhaseAssignment(65, 33, 7329, 749, 0b1101010000001, 0b1011001000100),\n",
    "    66 : L5CodePhaseAssignment(66, 34, 7577, 1387, 0b1101111111001, 0b1111001000100),\n",
    "    67 : L5CodePhaseAssignment(67, 35, 7720, 1661, 0b1111011011100, 0b0110010110011),\n",
    "    68 : L5CodePhaseAssignment(68, 36, 7777, 3210, 0b1001011001000, 0b0011110101111),\n",
    "    69 : L5CodePhaseAssignment(69, 37, 8057, 708, 0b0011010010000, 0b0010011010001),}\n",
    "\n",
    "XA_LENGTH = 8190\n",
    "XB_LENGTH = 8191\n",
    "L5_CODE_LENGTH = 10230\n",
    "L5_CODE_RATE = 10230000\n",
    "NEUMAN_HOFFMAN_RATE = 1000\n",
    "\n",
    "def xa_code():\n",
    "    \"\"\"\n",
    "    Generates the XA codes used in generating the GPS L5 codes.\n",
    "    `state` represents the state of a 13-bit shift register.\n",
    "    Shift amounts should be one less than the degree of the polynomial\n",
    "    (since bit indexing starts at 1).\n",
    "    Taps: 9, 10, 12, 13\n",
    "    \"\"\"\n",
    "    code = zeros((XA_LENGTH,))\n",
    "    state = 0b1111111111111\n",
    "    for i in range(XA_LENGTH):\n",
    "        code[i] = (state >> 12) & 1\n",
    "        shift_in = ((state >> 12) ^ (state >> 11) ^ (state >> 9) ^ (state >> 8)) & 1\n",
    "        state = (state << 1) | shift_in\n",
    "    return code\n",
    "\n",
    "def xb_code():\n",
    "    \"\"\"\n",
    "    Generates the XB codes used in generating the GPS L5 codes.\n",
    "    `state` represents the state of a 13-bit shift register.\n",
    "    Shift amounts should be one less than the degree of the polynomial\n",
    "    (since bit indexing starts at 1).\n",
    "    Taps: 1, 3, 4, 6, 7, 8, 12, 13\n",
    "    \"\"\"\n",
    "    code = zeros((XB_LENGTH,))\n",
    "    state = 0b1111111111111\n",
    "    for i in range(XB_LENGTH):\n",
    "        code[i] = (state >> 12) & 1\n",
    "        shift_in = ((state >> 12) ^ (state >> 11) ^ (state >> 7) ^ (state >> 6)\n",
    "                    ^ (state >> 5) ^ (state >> 3) ^ (state >> 2) ^ (state >> 0)) & 1\n",
    "        state = (state << 1) | shift_in\n",
    "    return code\n",
    "\n",
    "def gps_l5(xb_advance, neuman_hoffman):\n",
    "    \"\"\"\n",
    "    Generates the GPS L5 code (either I or Q) given the initial state\n",
    "    of the XB shift register and the neuman_hoffman overlay code.\n",
    "    \"\"\"\n",
    "    indices = arange(L5_CODE_LENGTH)\n",
    "    xa = xa_code()\n",
    "    xb = xb_code()\n",
    "    sequence = (xa[indices % XA_LENGTH] + xb[(xb_advance + indices) % XB_LENGTH]) % 2  # <- initial state used in index\n",
    "    nh = Code(neuman_hoffman, NEUMAN_HOFFMAN_RATE)\n",
    "    code = Code(sequence, L5_CODE_RATE)\n",
    "    new_length = L5_CODE_LENGTH * len(nh.sequence)\n",
    "    return Code.overlay(code, nh)\n",
    "#     return Code.combine(code, nh, new_length, L5_CODE_RATE)\n",
    "#     return code\n",
    "\n",
    "def gps_l5_i(svid):\n",
    "    \"\"\"\n",
    "    Generates the in-phase code for GPS signal L5 given the SVID of\n",
    "    the desired code.\n",
    "    \"\"\"\n",
    "#     xb_initial_state = L5_CODE_PHASE_ASSIGNMENTS[svid].xb_initial_state_i\n",
    "    xb_advance_i = L5_CODE_PHASE_ASSIGNMENTS[svid].xb_advance_i\n",
    "    neuman_hoffman = [0, 0, 0, 0, 1, 1, 0, 1, 0, 1]\n",
    "#     neuman_hoffman = [1, 1, 1, 1, 0, 0, 1, 0, 1, 0]\n",
    "#     neuman_hoffman = [0, 0, 0, 0, 0, 0, 0, 0, 0, 0]\n",
    "    return gps_l5(xb_advance_i, neuman_hoffman)\n",
    "\n",
    "def gps_l5_q(svid):\n",
    "    \"\"\"\n",
    "    Generates the in-phase code for GPS signal L5 given the SVID of\n",
    "    the desired code.\n",
    "    \"\"\"\n",
    "#     xb_initial_state = L5_CODE_PHASE_ASSIGNMENTS[svid].xb_initial_state_q\n",
    "    xb_advance_q = L5_CODE_PHASE_ASSIGNMENTS[svid].xb_advance_q\n",
    "    neuman_hoffman = [0, 0, 0, 0, 0, 1, 0, 0, 1, 1, 0, 1, 0, 1, 0, 0, 1, 1, 1, 0]\n",
    "#     neuman_hoffman = [0, 0, 0, 0, 0, 0, 0, 0, 0, 0, 0, 0, 0, 0, 0, 0, 0, 0, 0, 0]\n",
    "    return gps_l5(xb_advance_q, neuman_hoffman)"
   ]
  },
  {
   "cell_type": "code",
   "execution_count": 33,
   "metadata": {
    "collapsed": true
   },
   "outputs": [],
   "source": [
    "from gnss import codes"
   ]
  },
  {
   "cell_type": "code",
   "execution_count": 34,
   "metadata": {
    "collapsed": false
   },
   "outputs": [
    {
     "name": "stdout",
     "output_type": "stream",
     "text": [
      "[ 1.  1.  0.  0.  1.  1.  0.  0.  1.  0.]\n",
      "[ 0.  0.  1.  1.  1.  0.  1.  0.  1.  1.]\n",
      "[ 1.  1.  0.  1.  1.  0.  0.  0.  1.  0.]\n",
      "[ 0.  1.  1.  1.  1.  0.  1.  1.  1.  0.]\n"
     ]
    }
   ],
   "source": [
    "code = codes.gps_l5_q(1)\n",
    "print(code[:10])\n",
    "print(code[10230-10:10230])\n",
    "code = codes.gps_l5_i(1)\n",
    "print(code[:10])\n",
    "print(code[10230-10:10230])"
   ]
  },
  {
   "cell_type": "markdown",
   "metadata": {},
   "source": [
    "PRN 1 Q first 10: 1     1     0     0     1     1     0     0     1     0\n",
    "\n",
    "PRN 1 Q last 10:  0     0     1     1     1     0     1     0     1     1\n",
    "\n",
    "PRN 1 I first 10: 1     1     0     1     1     0     0     0     1     0\n",
    "\n",
    "PRN 1 I last 10:  0     1     1     1     1     0     1     1     1     0"
   ]
  },
  {
   "cell_type": "markdown",
   "metadata": {},
   "source": [
    "The 20-bit Neuman-Hofman code for the Q channel is:\n",
    "\n",
    "$00000100110101001110$\n",
    "\n",
    "We combine the Q code and Neuman-Hofman using our `Code` class."
   ]
  },
  {
   "cell_type": "code",
   "execution_count": 6,
   "metadata": {
    "collapsed": false
   },
   "outputs": [],
   "source": [
    "import gnss.codes"
   ]
  }
 ],
 "metadata": {
  "kernelspec": {
   "display_name": "Python 3",
   "language": "python",
   "name": "python3"
  },
  "language_info": {
   "codemirror_mode": {
    "name": "ipython",
    "version": 3
   },
   "file_extension": ".py",
   "mimetype": "text/x-python",
   "name": "python",
   "nbconvert_exporter": "python",
   "pygments_lexer": "ipython3",
   "version": "3.4.3"
  }
 },
 "nbformat": 4,
 "nbformat_minor": 0
}
