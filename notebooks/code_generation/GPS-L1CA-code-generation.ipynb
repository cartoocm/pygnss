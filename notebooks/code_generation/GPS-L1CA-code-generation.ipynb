{
 "cells": [
  {
   "cell_type": "markdown",
   "metadata": {},
   "source": [
    "### GPS L1 C/A code generation\n",
    "\n",
    "http://www.gps.gov/technical/icwg/IS-GPS-200H.pdf\n",
    "\n",
    "We are going to demonstrate generation of the Gold codes and the GPS L1 CA signal PRN sequences. The file `gold_code.json` contains json formatted lists of data found in the GPS user segment interface specifications."
   ]
  },
  {
   "cell_type": "code",
   "execution_count": 1,
   "metadata": {
    "collapsed": false
   },
   "outputs": [],
   "source": [
    "%load_ext autoreload\n",
    "%autoreload 2\n",
    "import numpy as np\n",
    "from gnss.codes import gps_l1"
   ]
  },
  {
   "cell_type": "code",
   "execution_count": 2,
   "metadata": {
    "collapsed": false
   },
   "outputs": [
    {
     "name": "stdout",
     "output_type": "stream",
     "text": [
      "Overwriting ../../gnss/codes/gps_l1.py\n"
     ]
    }
   ],
   "source": [
    "%%writefile ../../gnss/codes/gps_l1.py\n",
    "\n",
    "\n",
    "import numpy as np\n",
    "from collections import namedtuple\n",
    "from gnss.codes import Code\n",
    "\n",
    "\n",
    "class L1CodePhaseAssignment(namedtuple('L1CodePhaseAssignment', 'svid prn ca_phase_select x2_phase_select ca_code_delay p_code_delay first_10_chips_ca first_12_chips_p')):\n",
    "    \"\"\"\n",
    "    (svid, prn, ca_phase_select, x2_phase_select, ca_code_delay, p_code_delay, first_10_chips_ca, first_12_chips_p)\n",
    "    Tuple struct to store data from Table 3-I of the IS-GPS 200 \n",
    "    specification, which contains code phase assignment information for GPS L1 signal.\n",
    "    \n",
    "    `ca_phase_select` is a 2-tuple in this structure.\n",
    "    \n",
    "    `first_12_chips_p`, `first_10_chips_ca` are represented in octal in the table,\n",
    "    but should just be integer types in this structure.\n",
    "    \n",
    "    Note that SVID and PRN numbers differ only for SVIDs 65-69.\n",
    "    \"\"\"\n",
    "    pass\n",
    "\n"
   ]
  },
  {
   "cell_type": "markdown",
   "metadata": {},
   "source": [
    "Table 3-I of the IS-GPS 200 specification lists the code phase assignments and information for the GPS L1 signal.\n",
    "Below, we have entered the data from this table into a dictionary mapping each SVID to its corresponding `L1CodePhaseAssignment` structure."
   ]
  },
  {
   "cell_type": "code",
   "execution_count": 3,
   "metadata": {
    "collapsed": false
   },
   "outputs": [
    {
     "name": "stdout",
     "output_type": "stream",
     "text": [
      "Appending to ../../gnss/codes/gps_l1.py\n"
     ]
    }
   ],
   "source": [
    "%%writefile -a ../../gnss/codes/gps_l1.py\n",
    "\n",
    "L1_CODE_PHASE_ASSIGNMENTS = {\n",
    "    1 : L1CodePhaseAssignment(1, 1, (2, 6), 1, 5, 1, 1440, 4444),\n",
    "    2 : L1CodePhaseAssignment(2, 2, (3, 7), 2, 6, 2, 1620, 4000),\n",
    "    3 : L1CodePhaseAssignment(3, 3, (4, 8), 3, 7, 3, 1710, 4333),\n",
    "    4 : L1CodePhaseAssignment(4, 4, (5, 9), 4, 8, 4, 1744, 4377),\n",
    "    5 : L1CodePhaseAssignment(5, 5, (1, 9), 5, 17, 5, 1133, 4355),\n",
    "    6 : L1CodePhaseAssignment(6, 6, (2, 10), 6, 18, 6, 1455, 4344),\n",
    "    7 : L1CodePhaseAssignment(7, 7, (1, 8), 7, 139, 7, 1131, 4340),\n",
    "    8 : L1CodePhaseAssignment(8, 8, (2, 9), 8, 140, 8, 1454, 4342),\n",
    "    9 : L1CodePhaseAssignment(9, 9, (3, 10), 9, 141, 9, 1626, 4343),\n",
    "    10 : L1CodePhaseAssignment(10, 10, (2, 3), 10, 251, 10, 1504, 4343),\n",
    "    11 : L1CodePhaseAssignment(11, 11, (3, 4), 11, 252, 11, 1642, 4343),\n",
    "    12 : L1CodePhaseAssignment(12, 12, (5, 6), 12, 254, 12, 1750, 4343),\n",
    "    13 : L1CodePhaseAssignment(13, 13, (6, 7), 13, 255, 13, 1764, 4343),\n",
    "    14 : L1CodePhaseAssignment(14, 14, (7, 8), 14, 256, 14, 1772, 4343),\n",
    "    15 : L1CodePhaseAssignment(15, 15, (8, 9), 15, 257, 15, 1775, 4343),\n",
    "    16 : L1CodePhaseAssignment(16, 16, (9, 10), 16, 258, 16, 1776, 4343),\n",
    "    17 : L1CodePhaseAssignment(17, 17, (1, 4), 17, 469, 17, 1156, 4343),\n",
    "    18 : L1CodePhaseAssignment(18, 18, (2, 5), 18, 470, 18, 1467, 4343),\n",
    "    19 : L1CodePhaseAssignment(19, 19, (3, 6), 19, 471, 19, 1633, 4343),\n",
    "    20 : L1CodePhaseAssignment(20, 20, (4, 7), 20, 472, 20, 1715, 4343),\n",
    "    21 : L1CodePhaseAssignment(21, 21, (5, 8), 21, 473, 21, 1746, 4343),\n",
    "    22 : L1CodePhaseAssignment(22, 22, (6, 9), 22, 474, 22, 1763, 4343),\n",
    "    23 : L1CodePhaseAssignment(23, 23, (1, 3), 23, 509, 23, 1063, 4343),\n",
    "    24 : L1CodePhaseAssignment(24, 24, (4, 6), 24, 512, 24, 1706, 4343),\n",
    "    25 : L1CodePhaseAssignment(25, 25, (5, 7), 25, 513, 25, 1743, 4343),\n",
    "    26 : L1CodePhaseAssignment(26, 26, (6, 8), 26, 514, 26, 1761, 4343),\n",
    "    27 : L1CodePhaseAssignment(27, 27, (7, 9), 27, 515, 27, 1770, 4343),\n",
    "    28 : L1CodePhaseAssignment(28, 28, (8, 10), 28, 516, 28, 1774, 4343),\n",
    "    29 : L1CodePhaseAssignment(29, 29, (1, 6), 29, 859, 29, 1127, 4343),\n",
    "    30 : L1CodePhaseAssignment(30, 30, (2, 7), 30, 860, 30, 1453, 4343),\n",
    "    31 : L1CodePhaseAssignment(31, 31, (3, 8), 31, 861, 31, 1625, 4343),\n",
    "    32 : L1CodePhaseAssignment(32, 32, (4, 9), 32, 862, 32, 1712, 4343),\n",
    "    65 : L1CodePhaseAssignment(65, 33, (5, 10), 33, 863, 33, 1745, 4343),\n",
    "    66 : L1CodePhaseAssignment(66, 34, (4, 10), 34, 950, 34, 1713, 4343),\n",
    "    67 : L1CodePhaseAssignment(67, 35, (1, 7), 35, 947, 35, 1134, 4343),\n",
    "    68 : L1CodePhaseAssignment(68, 36, (2, 8), 36, 948, 36, 1456, 4343),\n",
    "    69 : L1CodePhaseAssignment(69, 37, (4, 10), 37, 950, 37, 1713, 4343),}"
   ]
  },
  {
   "cell_type": "markdown",
   "metadata": {},
   "source": [
    "#### Gold codes\n",
    "\n",
    "GPS L1CA codes are generated using the modulo-2 sum of two Gold codes. Each Gold code is generated using a 10-bit shift register. The registers will go through a complete cycle of all possible non-zero states, and thus produce a repeating sequence of 1023 bits in length."
   ]
  },
  {
   "cell_type": "code",
   "execution_count": 4,
   "metadata": {
    "collapsed": false
   },
   "outputs": [
    {
     "name": "stdout",
     "output_type": "stream",
     "text": [
      "Appending to ../../gnss/codes/gps_l1.py\n"
     ]
    }
   ],
   "source": [
    "%%writefile -a ../../gnss/codes/gps_l1.py\n",
    "\n",
    "\n",
    "def gold_code(feedback_taps, output_taps):\n",
    "    \"\"\"Generates Gold code (length 1023 binary sequence) for the given feedback and output taps.\n",
    "    \n",
    "    Parameters\n",
    "    ----------\n",
    "    feedback_taps : array or ndarray of shape (M,)\n",
    "        the taps to use for feedback to the shift register's first value\n",
    "    output_taps : array or ndarray of shape (N,)\n",
    "        the taps to use for choosing the code output\n",
    "\n",
    "    Returns\n",
    "    -------\n",
    "    output : ndarray of shape(1023,)\n",
    "        the Gold code sequence\n",
    "\n",
    "    Notes\n",
    "    -----\n",
    "    \"\"\"\n",
    "    shift_register = np.ones((10,), dtype=np.uint8)\n",
    "    code = np.zeros((1023,), dtype=np.uint8)\n",
    "    for i in range(1023):\n",
    "        code[i] = np.sum(shift_register[output_taps]) % 2 \n",
    "        first = np.sum(shift_register[feedback_taps]) % 2 \n",
    "        shift_register[1:] = shift_register[:-1]\n",
    "        shift_register[0] = first\n",
    "    return code\n",
    "\n"
   ]
  },
  {
   "cell_type": "markdown",
   "metadata": {},
   "source": [
    "To actually create the GPS L1 C/A code, we combine 2 Gold codes. One of the codes is the same for each SVID, and the other has phase selects that are dependent upon the SVID."
   ]
  },
  {
   "cell_type": "code",
   "execution_count": 5,
   "metadata": {
    "collapsed": false
   },
   "outputs": [
    {
     "name": "stdout",
     "output_type": "stream",
     "text": [
      "Appending to ../../gnss/codes/gps_l1.py\n"
     ]
    }
   ],
   "source": [
    "%%writefile -a ../../gnss/codes/gps_l1.py\n",
    "\n",
    "\n",
    "CODE_RATE = 1.023e6\n",
    "NAV_RATE = 50\n",
    "\n",
    "def gps_l1ca(svid):\n",
    "    \"\"\"Generates GPS L1 CA PRN code for given SV id.\n",
    "    \n",
    "    Parameters\n",
    "    ----------\n",
    "    sv_id : int\n",
    "        the id of the satellite for which the \n",
    "\n",
    "    Returns\n",
    "    -------\n",
    "    output : ndarray of shape(1023,)\n",
    "        the complete code sequence\n",
    "\n",
    "    Notes\n",
    "    -----\n",
    "    \"\"\"\n",
    "    ps = L1_CODE_PHASE_ASSIGNMENTS[svid].ca_phase_select\n",
    "    g1 = gold_code([2, 9], [9])\n",
    "    g2 = gold_code([1, 2, 5, 7, 8, 9], [ps[0] - 1, ps[1] - 1])\n",
    "    return Code((g1 + g2) % 2, CODE_RATE)\n",
    "\n"
   ]
  },
  {
   "cell_type": "markdown",
   "metadata": {},
   "source": [
    "Let's check our code generator:"
   ]
  },
  {
   "cell_type": "code",
   "execution_count": 6,
   "metadata": {
    "collapsed": false
   },
   "outputs": [],
   "source": [
    "svid = 1\n",
    "code = gps_l1.gps_l1ca(svid)"
   ]
  },
  {
   "cell_type": "markdown",
   "metadata": {},
   "source": [
    "We can check that our C/A code generation is correct by comparing the octal conversion of the first 10 chips to the 'octal' field we got from the gold_code.txt file."
   ]
  },
  {
   "cell_type": "code",
   "execution_count": 11,
   "metadata": {
    "collapsed": false
   },
   "outputs": [
    {
     "name": "stdout",
     "output_type": "stream",
     "text": [
      "0o1440 1440\n"
     ]
    }
   ],
   "source": [
    "first_10_bits = int(''.join([repr(i) for i in code[:10]]), 2)\n",
    "print(oct(first_10_bits), oct(gps_l1.L1_CODE_PHASE_ASSIGNMENTS[svid].first_10_chips_ca))\n",
    "# TODO make `first_10_chips` entries in octal"
   ]
  },
  {
   "cell_type": "markdown",
   "metadata": {},
   "source": [
    "We can plot the code to get a feeling for it's general characteristics--which aren't very definitive since the code is pseudorandom."
   ]
  },
  {
   "cell_type": "code",
   "execution_count": 9,
   "metadata": {
    "collapsed": false
   },
   "outputs": [],
   "source": [
    "import matplotlib.pyplot as plt\n",
    "fig = plt.figure()\n",
    "ax = fig.add_subplot(1, 1, 1)\n",
    "ax.plot(code)\n",
    "ax.set_title('Gold Code for SVID {0}'.format(svid))\n",
    "plt.show()"
   ]
  },
  {
   "cell_type": "code",
   "execution_count": null,
   "metadata": {
    "collapsed": true
   },
   "outputs": [],
   "source": [
    "for svid in range(1, 33):\n",
    "    phase_assignment = gps_l1.L1_CODE_PHASE_ASSIGNMENTS[svid]\n",
    "    code = gps_l1.gps_l1_ca(svid)\n",
    "    first_10_bits = int(''.join([repr(i) for i in code[:10]]), 2)\n",
    "    print('first 10 bits: {0}   {2}'.format(oct(first_10_bits), oct(phase_assignment.first_10_chips_ca))\n",
    "#     np.savetxt('temp/gold_code_{0}.txt'.format(svid), code, fmt='%1u')"
   ]
  }
 ],
 "metadata": {
  "css": [
   ""
  ],
  "kernelspec": {
   "display_name": "Python 3",
   "language": "python",
   "name": "python3"
  },
  "language_info": {
   "codemirror_mode": {
    "name": "ipython",
    "version": 3
   },
   "file_extension": ".py",
   "mimetype": "text/x-python",
   "name": "python",
   "nbconvert_exporter": "python",
   "pygments_lexer": "ipython3",
   "version": "3.4.2"
  }
 },
 "nbformat": 4,
 "nbformat_minor": 0
}
