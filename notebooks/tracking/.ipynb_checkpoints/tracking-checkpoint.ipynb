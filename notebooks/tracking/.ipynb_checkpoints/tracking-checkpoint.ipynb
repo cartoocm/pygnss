{
 "cells": [
  {
   "cell_type": "code",
   "execution_count": 3,
   "metadata": {
    "collapsed": false
   },
   "outputs": [],
   "source": [
    "import numpy as np\n",
    "import matplotlib.pyplot as plt\n",
    "from gnss import codes\n",
    "from gnss.receiver import chan"
   ]
  },
  {
   "cell_type": "markdown",
   "metadata": {},
   "source": [
    "In this notebook we will attempt to track a signal."
   ]
  },
  {
   "cell_type": "code",
   "execution_count": 5,
   "metadata": {
    "collapsed": false
   },
   "outputs": [
    {
     "name": "stdout",
     "output_type": "stream",
     "text": [
      "we have 1.048576 seconds of data\n"
     ]
    }
   ],
   "source": [
    "filepath = '../../data/g072602f.dat'\n",
    "with open(filepath, 'r') as f:\n",
    "    signal = np.fromfile(f, dtype=np.byte)\n",
    "print('we have {0} seconds of data'.format(len(signal) / 5e6))"
   ]
  },
  {
   "cell_type": "code",
   "execution_count": null,
   "metadata": {
    "collapsed": true
   },
   "outputs": [],
   "source": [
    "signal = \n",
    "channel = channels.SignalChannel("
   ]
  },
  {
   "cell_type": "code",
   "execution_count": 3,
   "metadata": {
    "collapsed": false
   },
   "outputs": [],
   "source": [
    "fc = 1.57542e9\n",
    "fi = 1.25e6\n",
    "fs = 5e6\n",
    "f_chip = 1.023e6\n",
    "f_nav = 50."
   ]
  },
  {
   "cell_type": "markdown",
   "metadata": {},
   "source": [
    ".\n",
    "\n",
    ".\n",
    "\n",
    "."
   ]
  },
  {
   "cell_type": "markdown",
   "metadata": {},
   "source": [
    "When tracking, we assume that we have already aquired the doppler and code phase of the signal."
   ]
  },
  {
   "cell_type": "code",
   "execution_count": 5,
   "metadata": {
    "collapsed": false
   },
   "outputs": [],
   "source": [
    "sv_id = 18\n",
    "code = gnss_codes.gps_l1_ca(sv_id)\n",
    "fd_c, n0, snr = gnss_algorithms.acquire_coarse(signal, 10e-3, 3, fs, fc, fi, code, f_chip)\n",
    "print('coarse aquisition results:\\n\\tcoarse doppler: {0}\\tsample phase (n0): {1}\\tsnr: {2}'.format(fd_c, n0, snr))\n",
    "tau_nav, snr = gnss_algorithms.find_nav_bit_transition(signal, fs, fc, fi, fd_c, code, f_chip, n0 / fs)\n",
    "print('nav bit detection results:\\n\\tnavigation bit phase (bits): {0}\\tsnr: {1}'.format(tau_nav * f_nav, snr))\n",
    "fd_f = gnss_algorithms.acquire_fine(signal, 5e-3, 1e-3, 50, fs, fc, fi, fd_c, code, f_chip, tau_nav)\n",
    "print('fine aquisition results:\\nfine doppler: {0}'.format(fd_f))"
   ]
  },
  {
   "cell_type": "markdown",
   "metadata": {},
   "source": [
    "In tracking, we have a reference signal that we use to wipe off the code and carrier from the signal. We generate it using our estimates for code chip phase, doppler frequency, and signal phase--$(\\eta, f_d, \\theta)$."
   ]
  },
  {
   "cell_type": "code",
   "execution_count": 9,
   "metadata": {
    "collapsed": false
   },
   "outputs": [],
   "source": [
    "# define where we are in the signal--each time we move to the next tracking\n",
    "# block, we will update chip by the appropriate amount\n",
    "fd_chip = f_chip * (1 + fd_c / fc)\n",
    "now = tau_nav\n",
    "l_blk = 1e-3  # length of tracking block\n",
    "delay = 0.5 / f_chip  # early, prompt, late will have `delay` offset\n",
    "n0 = int(now * fs)  # first sample index for tracking block\n",
    "ns = int(l_blk * fs)  # number of samples per tracking block\n",
    "# use coarse doppler for fd\n",
    "fd = fd_c\n",
    "# wipe off estimated doppler\n",
    "output = baseband[n0:n0 + ns] * np.exp(-2j * np.pi * fd * t[n0: n0 + ns])\n",
    "# perform early, prompt, and late correlations\n",
    "early_indices = (np.floor((t[n0:n0 + ns] - delay) * f_chip * (1 + fd / fc)) % len(code)).astype(int)\n",
    "prompt_indices = (np.floor((t[n0:n0 + ns]) * f_chip * (1 + fd / fc)) % len(code)).astype(int)\n",
    "late_indices = (np.floor((t[n0:n0 + ns] + delay) * f_chip * (1 + fd / fc)) % len(code)).astype(int)\n",
    "early = np.sum((1 - 2 * code[early_indices]) * output)\n",
    "prompt = np.sum((1 - 2 * code[prompt_indices]) * output)\n",
    "late = np.sum((1 - 2 * code[late_indices]) * output)"
   ]
  },
  {
   "cell_type": "markdown",
   "metadata": {},
   "source": [
    "We can consolidate this correlator functionality into a function:"
   ]
  },
  {
   "cell_type": "markdown",
   "metadata": {},
   "source": [
    "If we have the 3 correlator outputs, what error should we provide as feedback to our DLL loop filter?\n",
    "\n",
    "Let $E$, $P$, and $L$ be the early, prompt, and late correlation outputs respectively.\n",
    "Each has a real and imaginary component--or a magnitude and a phase.\n",
    "\n",
    "We can always fit a polynomial of degree 2 through the magnitudes of the three points--this should yield the ML estimate for the correct code phase. Then this estimate minus the prompt phase yields the error. \n",
    "\n",
    "The correlator outputs are:\n",
    "\n",
    "$$\n",
    "x(t) = AN(t)C(t)\\cos((\\omega_{L1} + \\omega_d)t + \\theta) \\\\\n",
    "x(n) = AN(t)C(t)\\cos((\\omega_{L1} + \\omega_d)t + \\theta) \\\\\n",
    "Z_p = \n",
    "$$\n",
    "\n",
    "Consider the points $(-d, y_e), (0, y_p), (d, y_l)$.\n",
    "\n",
    "We can solve $\\mathbf{y} = X\\mathbf{a}$ for our coefficient vector $\\mathbf{a}$.\n",
    "\n",
    "$$\n",
    "\\newcommand{\\va}{\\mathbf{a}}\n",
    "\\newcommand{\\vy}{\\mathbf{y}}\n",
    "\\begin{align*}\n",
    "\\vy &= X \\va \\\\\n",
    "\\va &= X^{-1} \\vy \\\\\n",
    "X &= \\left(\\begin{array}{ccc}\n",
    "1 & -d & d^2 \\\\\n",
    "1 & 0 & 0 \\\\\n",
    "1 & d & d^2 \\\\\n",
    "\\end{array}\\right) \\\\\n",
    "\\end{align*}\n",
    "$$\n",
    "\n",
    "$$\n",
    "\\begin{align*}\n",
    "|X| &= 2d^3 \\\\\n",
    "adj(X) &= \\left(\\begin{array}{ccc}\n",
    "0 & -d^2 & d \\\\\n",
    "2d^3 & 0 & 2d \\\\\n",
    "0 & d^2 & d \\\\\n",
    "\\end{array}\\right)^T \\\\\n",
    "\\end{align*}\n",
    "$$\n",
    "\n",
    "$$\n",
    "\\begin{align*}\n",
    "X^{-1} &= \\frac{1}{2d^3} \\left(\\begin{array}{ccc}\n",
    "0 & 2d^3 & 0 \\\\\n",
    "-d^2 & 0 & d^2 \\\\\n",
    "d & 2d & d \\\\\n",
    "\\end{array}\\right) \\\\\n",
    "\\Rightarrow \\\\\n",
    "\\va = \\left[ y_p, \\frac{1}{2d}(y_l - y_e), \\frac{1}{2d^2}(y_e + y_l + 2y_p) \\right]\n",
    "\\end{align*} \\\\\n",
    "$$\n",
    "\n",
    "The next question is, where does the maximum occur for this function. It occurs where $\\frac{d}{dx}\\left(a_0 + a_1 x + a_2 x^2\\right) = 0 \\Rightarrow a_1 + 2a_2x = 0 \\Rightarrow x = -\\frac{a_1}{2a_2}$. The error is $-x$, so our feedback error has the full form:\n",
    "\n",
    "$$\n",
    "e = \\frac{a_1}{2a_2} = \\frac{d(y_l - y_e)}{y_e + y_l + 2y_p}\n",
    "$$"
   ]
  },
  {
   "cell_type": "code",
   "execution_count": 8,
   "metadata": {
    "collapsed": false
   },
   "outputs": [],
   "source": [
    "# feed the correlator output to the discriminators so they can estimate the error\n",
    "e_dll = delay * (np.abs(late) - np.abs(early)) / (np.abs(late) + np.abs(early) + 2 * np.abs(prompt))\n",
    "print(e_dll)"
   ]
  },
  {
   "cell_type": "markdown",
   "metadata": {},
   "source": [
    ".\n",
    "\n",
    "."
   ]
  },
  {
   "cell_type": "code",
   "execution_count": 10,
   "metadata": {
    "collapsed": false
   },
   "outputs": [],
   "source": [
    "def epl_correlate(baseband, t, n0, ns, fc, f_chip, code, delay, chip, fd, theta):\n",
    "    \"\"\"\n",
    "    baseband: ndarray(shape=(N,), dtype=complex)\n",
    "        baseband samples\n",
    "    t: ndarray(shape=(N,), dtype=int)\n",
    "        time array of sampling epochs\n",
    "    n0: int\n",
    "        the starting index of correlation block\n",
    "    ns: int\n",
    "        number of samples in correlation block\n",
    "    fc: float\n",
    "        transmitted carrier frequency\n",
    "    f_chip: float\n",
    "        the chipping frequency\n",
    "    code: ndarray(shape=(nc,), dtype=int)\n",
    "        the CDMA code to search for in the baseband signal\n",
    "    delay: float\n",
    "        the spacing between early, prompt, and late correlators\n",
    "    chip: float\n",
    "        code phase (chips) at sample n0\n",
    "    fd: float\n",
    "        estimated doppler frequency\n",
    "    theta: float\n",
    "        estimated carrier phase\n",
    "    \"\"\"\n",
    "    output = baseband[n0:n0 + ns] * np.exp(-1j * (2 * np.pi * fd * t[n0: n0 + ns] + theta))\n",
    "    early_indices = (np.floor(chip + (t[n0:n0 + ns] - delay) * f_chip * (1 + fd / fc)) % len(code)).astype(int)\n",
    "    prompt_indices = (np.floor(chip + t[n0:n0 + ns] * f_chip * (1 + fd / fc)) % len(code)).astype(int)\n",
    "    late_indices = (np.floor(chip + (t[n0:n0 + ns] + delay) * f_chip * (1 + fd / fc)) % len(code)).astype(int)\n",
    "    early = np.sum((1 - 2 * code[early_indices]) * output) / l_blk\n",
    "    prompt = np.sum((1 - 2 * code[prompt_indices]) * output) / l_blk\n",
    "    late = np.sum((1 - 2 * code[late_indices]) * output) / l_blk\n",
    "    return early, prompt, late"
   ]
  },
  {
   "cell_type": "markdown",
   "metadata": {},
   "source": [
    "We need to add in a loop filter so we're not thrown off by spurious noise.\n",
    "\n",
    "We need to design some filter loop parameters.\n",
    "\n",
    "If $L(n)$ is our raw discriminator output, we generate a filtered output $L_p(n) = L_p(n-1) + 4TB(L(n) - L_p(n-1))$ where $T$ is the integration time and $B$ is the noise equivalent bandwidth? So note that with a longer integration time, a differenc in current and past output is weighted more heavily.\n",
    "\n",
    "We can rewrite this equation as:\n",
    "\n",
    "$L_p(n) = (1 - 4TB)L_p(n-1) + 4TBL(n)$"
   ]
  },
  {
   "cell_type": "markdown",
   "metadata": {},
   "source": [
    ".\n",
    "\n",
    "."
   ]
  },
  {
   "cell_type": "markdown",
   "metadata": {},
   "source": [
    "Question: How long can we track with just the DLL?"
   ]
  },
  {
   "cell_type": "code",
   "execution_count": 12,
   "metadata": {
    "collapsed": false
   },
   "outputs": [],
   "source": [
    "now = tau_nav  # now is the time we're at in the data\n",
    "chip = 0.      # chip should be the code phase--at the start it is zero\n",
    "fd = fd_c\n",
    "theta = 0.\n",
    "delay = 0.5 / f_chip\n",
    "b = .01\n",
    "l_blk = 1e-3\n",
    "n_blks = int((t[-1] - now) / l_blk)\n",
    "outputs = np.zeros((4, n_blks))\n",
    "filtered_error = 0.\n",
    "\n",
    "for i in range(n_blks):\n",
    "    n0 = int(now * fs)\n",
    "    ns = int(l_blk * fs)\n",
    "    fd_chip = f_chip * (1. + fd / fc)\n",
    "    delay = .5 / fd_chip  # 1/2 chip delay\n",
    "    early, prompt, late = epl_correlate(baseband, t, n0, ns, fc, f_chip, code, delay, chip, fd, theta)\n",
    "    error = delay * (np.abs(late) - np.abs(early)) / (np.abs(late) + np.abs(early) + 2 * np.abs(prompt))\n",
    "    filtered_error = (1. - 4. * l_blk * b) * filtered_error + 4 * l_blk * b * error\n",
    "    chip -= filtered_error  # subtract off the error in code phase\n",
    "    now += l_blk\n",
    "    chip += l_blk * fd_chip\n",
    "    outputs[:, i] = now, chip, error, filtered_error"
   ]
  },
  {
   "cell_type": "code",
   "execution_count": 13,
   "metadata": {
    "collapsed": false
   },
   "outputs": [
    {
     "name": "stdout",
     "output_type": "stream",
     "text": [
      "7.47650845015e-08\n"
     ]
    }
   ],
   "source": [
    "print(np.mean(np.abs(outputs[2,:])))"
   ]
  },
  {
   "cell_type": "code",
   "execution_count": 15,
   "metadata": {
    "collapsed": false
   },
   "outputs": [],
   "source": [
    "fig = plt.figure()\n",
    "ax = fig.add_subplot(221)\n",
    "ax.plot(outputs[0,:])\n",
    "ax = fig.add_subplot(222)\n",
    "ax.plot(outputs[1,:] - outputs[0,:])\n",
    "#ax.set_ylim(top=1./1.023e6, bottom=-2./1.023e6)\n",
    "ax = fig.add_subplot(223)\n",
    "ax.plot(outputs[2,:])\n",
    "ax = fig.add_subplot(224)\n",
    "ax.plot(outputs[3,:])\n",
    "plt.show()"
   ]
  },
  {
   "cell_type": "markdown",
   "metadata": {},
   "source": [
    ".\n",
    "\n",
    "."
   ]
  },
  {
   "cell_type": "markdown",
   "metadata": {},
   "source": [
    "Next, we want a feedback error for our PLL loop filter."
   ]
  },
  {
   "cell_type": "markdown",
   "metadata": {},
   "source": [
    "The error between the current doppler frequency estimate and actual estimate will be the rate of change of the phase. We can just use the current output and last output of our phase discriminator, which we describe next."
   ]
  },
  {
   "cell_type": "markdown",
   "metadata": {},
   "source": [
    "We will need a phase discriminator to tell us the difference between the phase f\n",
    "\n",
    "$$\n",
    "\\newcommand{\\re}{\\text{Re}}\n",
    "\\newcommand{\\im}{\\text{Im}}\n",
    "L_\\theta = \\re{Z_P}\\im{Z_P}\n",
    " = \\cos{\\Delta\\theta}\\sin{\\Delta\\theta}\n",
    "$$\n",
    "`e_pll = np.real(prompt) * np.imag(prompt) / np.abs(prompt)`"
   ]
  },
  {
   "cell_type": "code",
   "execution_count": 17,
   "metadata": {
    "collapsed": false
   },
   "outputs": [
    {
     "data": {
      "text/plain": [
       "(0.29999999999999982, 2.0)"
      ]
     },
     "execution_count": 17,
     "metadata": {},
     "output_type": "execute_result"
    }
   ],
   "source": [
    "np.modf(2.3)"
   ]
  },
  {
   "cell_type": "code",
   "execution_count": 53,
   "metadata": {
    "collapsed": false
   },
   "outputs": [
    {
     "name": "stdout",
     "output_type": "stream",
     "text": [
      "70.0760200814\n"
     ]
    }
   ],
   "source": [
    "sv_id = 18\n",
    "code = gnss_codes.gps_l1_ca(sv_id)\n",
    "fd_c, n0, snr = gnss_algorithms.aquire_coarse(baseband, 10e-3, 3, fs, fc, code, f_chip)\n",
    "tau_nav, snr = gnss_algorithms.find_nav_bit_transition(baseband, fs, fc, fd_c, code, f_chip, n0 / fs)\n",
    "fd_f = gnss_algorithms.aquire_fine(baseband, 1e-3, 1e-3, 50, fs, fc, fd_c, code, f_chip, tau_nav)\n",
    "print(fd_f)"
   ]
  },
  {
   "cell_type": "markdown",
   "metadata": {},
   "source": [
    "TODO: NOW SHOULD BE FORCED TO ALGINMENT WITH SAMPLING TIME ARRAY"
   ]
  },
  {
   "cell_type": "code",
   "execution_count": 54,
   "metadata": {
    "collapsed": false
   },
   "outputs": [
    {
     "data": {
      "text/plain": [
       "2276"
      ]
     },
     "execution_count": 54,
     "metadata": {},
     "output_type": "execute_result"
    }
   ],
   "source": [
    "n0"
   ]
  },
  {
   "cell_type": "code",
   "execution_count": 55,
   "metadata": {
    "collapsed": false
   },
   "outputs": [],
   "source": [
    "now = n0 / fs  # now is the time we're at in the data\n",
    "chip = 0.  # tau should be a code phase epoch closest time to now\n",
    "fd = fd_f\n",
    "phi = 0.\n",
    "\n",
    "b_dll = 15.  # DLL equivalent noise bandwidth\n",
    "b_pll = 10.  # PLL equivalent noise bandwidth\n",
    "b_fll = 10.  # FLL equivalent noise bandwidth\n",
    "\n",
    "# kp = 0.01 * ti / 8.\n",
    "# ki = -0.001 * ti / (0.04 * 2. * np.pi)\n",
    "# kd = -0.08 / (ti * 2 * np.pi * 2);\n",
    "# kd2 = -0.08 / (ti * 2 * np.pi * 4);\n",
    "# kd2 = 0.\n",
    "\n",
    "#delay = 0.5 / f_chip  # <- now define delay in loop using `fd_chip`\n",
    "l_blk = 4e-3\n",
    "l_sep = 4e-3\n",
    "n_blks = int((t[-1] - now - l_blk) / l_sep)\n",
    "\n",
    "outputs = np.zeros((9, n_blks))\n",
    "corr_outputs = np.zeros((3, n_blks), dtype=complex)\n",
    "\n",
    "filtered_cp_error = filtered_ph_error = filtered_fd_error = 0.\n",
    "\n",
    "for i in range(n_blks):\n",
    "    fd_chip = f_chip * (1. + fd / fc)\n",
    "    delay = 0.5 / fd_chip\n",
    "    t_offset, n0 = np.modf(now * fs)\n",
    "    chip_offset = t_offset * fd_chip\n",
    "    ns = int(l_blk * fs)\n",
    "    \n",
    "    early, prompt, late = gnss_algorithms.epl_correlate(baseband, t, n0, ns, fc, f_chip, code, delay, chip - chip_offset, fd, phi)\n",
    "    \n",
    "    cp_error = delay * (np.abs(early) - np.abs(late)) / (np.abs(late) + np.abs(early) + 2 * np.abs(prompt))\n",
    "    ph_error = np.real(prompt) * np.imag(prompt) / np.abs(prompt)**2\n",
    "    fd_error = ph_error / (2. * np.pi * l_blk)\n",
    "    \n",
    "    filtered_cp_error = (1. - 4. * l_sep * b_dll) * filtered_cp_error + 4 * l_sep * b_dll * cp_error\n",
    "    filtered_ph_error = (1. - 4. * l_sep * b_pll) * filtered_ph_error + 4 * l_sep * b_dll * ph_error\n",
    "    filtered_fd_error = (1. - 4. * l_sep * b_fll) * filtered_fd_error + 4 * l_sep * b_fll * fd_error\n",
    "    \n",
    "    corr_outputs[:, i] = early, prompt, late\n",
    "    outputs[:, i] = cp_error, ph_error, fd_error, filtered_cp_error, filtered_ph_error, filtered_fd_error, chip, phi, fd\n",
    "    \n",
    "    chip += filtered_cp_error  # add back the error in code phase\n",
    "    phi -= filtered_ph_error  # add on carrier phase\n",
    "    \n",
    "    now += l_sep\n",
    "    chip += l_sep * fd_chip"
   ]
  },
  {
   "cell_type": "code",
   "execution_count": 56,
   "metadata": {
    "collapsed": false
   },
   "outputs": [],
   "source": [
    "#gnss_algorithms.remove_jumps(outputs[6, :], threshold=500. / f_chip, quantum=1023. / f_chip)"
   ]
  },
  {
   "cell_type": "code",
   "execution_count": 57,
   "metadata": {
    "collapsed": false
   },
   "outputs": [],
   "source": [
    "time = np.arange(n_blks) * l_sep\n",
    "fig = plt.figure()\n",
    "ax = fig.add_subplot(331); ax.plot(time, outputs[0,:] * f_chip)\n",
    "ax = fig.add_subplot(332); ax.plot(time, outputs[1,:])\n",
    "ax = fig.add_subplot(333); ax.plot(time, outputs[2,:])\n",
    "ax = fig.add_subplot(334); ax.plot(time, outputs[3,:] * f_chip)\n",
    "ax = fig.add_subplot(335); ax.plot(time, outputs[4,:])\n",
    "ax = fig.add_subplot(336); ax.plot(time, outputs[5,:])\n",
    "ax = fig.add_subplot(337); ax.plot(time, outputs[6,:] * f_chip);\n",
    "ax = fig.add_subplot(338); ax.plot(time, outputs[7,:])\n",
    "ax = fig.add_subplot(339); ax.plot(time, outputs[8,:])\n",
    "\n",
    "fig = plt.figure()\n",
    "ax = fig.add_subplot(331); ax.plot(time, np.unwrap(np.angle(corr_outputs[0,:]))); ax.set_ylim(top=np.pi, bottom=-np.pi)\n",
    "ax = fig.add_subplot(332); ax.plot(time, np.unwrap(np.angle(corr_outputs[1,:]))); ax.set_ylim(top=np.pi, bottom=-np.pi)\n",
    "ax = fig.add_subplot(333); ax.plot(time, np.unwrap(np.angle(corr_outputs[2,:]))); ax.set_ylim(top=np.pi, bottom=-np.pi)\n",
    "ax = fig.add_subplot(334); ax.plot(time, np.real(corr_outputs[0,:])); # ax.set_ylim(top=1., bottom=-1.)\n",
    "ax = fig.add_subplot(335); ax.plot(time, np.real(corr_outputs[1,:])); # ax.set_ylim(top=1., bottom=-1.)\n",
    "ax = fig.add_subplot(336); ax.plot(time, np.real(corr_outputs[2,:])); # ax.set_ylim(top=1., bottom=-1.)\n",
    "ax = fig.add_subplot(337); ax.plot(time, np.imag(corr_outputs[0,:])); # ax.set_ylim(top=1., bottom=-1.)\n",
    "ax = fig.add_subplot(338); ax.plot(time, np.imag(corr_outputs[1,:])); # ax.set_ylim(top=1., bottom=-1.)\n",
    "ax = fig.add_subplot(339); ax.plot(time, np.imag(corr_outputs[2,:])); # ax.set_ylim(top=1., bottom=-1.)\n",
    "plt.show()"
   ]
  },
  {
   "cell_type": "markdown",
   "metadata": {},
   "source": [
    "Our received signal after ADC is:\n",
    "\n",
    "$$ s(n) = \\sqrt(P_c) D(n) C(n) \\cos((\\omega_{IF} + \\omega_d)\\frac{n}{fs} + \\theta) + \\epsilon(n)$$\n",
    "\n",
    "At baseband, we have:\n",
    "\n",
    "$$ s(n) = \\sqrt(P_c) D(n) C(n) \\exp(j(\\omega_d\\frac{n}{fs} + \\theta)) + \\epsilon_A(n)\\exp(j\\epsilon_\\theta(n)) $$\n",
    "\n",
    "After wiping off estimated doppler, we have:\n",
    "\n",
    "$$ s(n) = \\sqrt(P_c) D(n) C(n) \\exp(j(2\\pi\\Delta f_d\\frac{n}{fs} + \\theta)) + \\epsilon_A(n)\\exp(j\\epsilon_\\theta(n)) $$"
   ]
  },
  {
   "cell_type": "markdown",
   "metadata": {},
   "source": [
    "Let's briefly ignore the navigation data $D$, code $C$, and amplitude terms:\n",
    "\n",
    "$$ s(n) = \\exp(j(2\\pi\\Delta f_d\\frac{n}{fs} + \\theta)) + N_0'(n) $$\n",
    "\n",
    "If we sum this over our integration time $T$, which corresponds to a block length of $N$ samples, we get:\n",
    "\n",
    "$$ \\begin{align*}\n",
    "\\sum_{n=0}^{N-1} s(n) &= \\exp(j\\theta)\\sum_{n=0}^{N-1} \\left[\\exp(j2\\pi\\Delta f_d\\frac{n}{fs}) + \\epsilon_A(n)\\exp(j\\epsilon_\\theta(n))\\right] \\\\\n",
    "&= \\exp(j\\theta)\\frac{1 - \\exp(j2\\pi\\Delta f_d\\frac{N}{fs})}{1 - \\exp(j2\\pi\\Delta f_d\\frac{1}{fs})}+ \\sum_{n=0}^{N-1} \\epsilon_A(n)\\exp(j\\epsilon_\\theta(n))\\\\\n",
    "&= \\exp(j\\theta)\\frac{\\exp(j\\pi\\Delta f_d\\frac{N}{fs})}{\\exp(j\\pi\\Delta f_d\\frac{1}{fs})}\\frac{\\exp(-j\\pi\\Delta f_d\\frac{N}{fs}) - \\exp(j\\pi\\Delta f_d\\frac{N}{fs})}{\\exp(-j\\pi\\Delta f_d\\frac{1}{fs}) - \\exp(j\\pi\\Delta f_d\\frac{1}{fs})}+ \\epsilon_A'\\exp(j\\epsilon_\\theta')\\\\\n",
    "&=\\exp(j\\theta)\\exp\\left(j\\pi\\Delta f_d\\frac{N-1}{fs}\\right)\\frac{\\sin\\pi\\Delta f_d T}{\\sin\\pi\\frac{\\Delta f_d}{fs}}+ \\epsilon_A'\\exp(j\\epsilon_\\theta')\\\\\n",
    "\\end{align*}$$\n",
    "\n",
    "Since $\\Delta f_d << fs \\Rightarrow sin\\pi\\frac{\\Delta f_d}{fs} \\approx \\pi\\frac{\\Delta f_d}{fs}$ and since $N/T = 1/fs$, we can write:\n",
    "\n",
    "$$ \\begin{align*}\n",
    "S_N = \\sum_{n=0}^{N-1} s(n) &=\\exp(j\\theta)\\exp\\left(j\\pi\\Delta f_d\\frac{N-1}{fs}\\right)N\\frac{\\sin\\pi\\Delta f_d T}{\\pi\\Delta f_d T}+ \\epsilon_A'\\exp(j\\epsilon_\\theta')\\\\\n",
    "&= N\\exp(j\\theta)\\exp\\left(j\\pi\\Delta f_d\\frac{N-1}{fs}\\right)\\text{sinc}\\pi\\Delta f_d T + \\epsilon_A'\\exp(j\\epsilon_\\theta')\\\\\n",
    "&\\approx N\\exp(j\\theta)\\exp\\left(j\\pi\\Delta f_d\\frac{N-1}{fs}\\right) + \\epsilon_A'\\exp(j\\epsilon_\\theta')\\\\\n",
    "\\end{align*}$$"
   ]
  },
  {
   "cell_type": "markdown",
   "metadata": {},
   "source": [
    "Our noise random variable for the integrated signal is--in magnitude phase notation--$\\epsilon_A'\\exp(j\\epsilon_\\theta')$. The magnitude $\\epsilon_A'$ has variance $\\sigma^2 = N\\sigma_{\\epsilon_A}^2$, and the phase is uniformly distributed between $(0, 2\\pi)$.\n",
    "\n"
   ]
  },
  {
   "cell_type": "code",
   "execution_count": 5,
   "metadata": {
    "collapsed": false
   },
   "outputs": [],
   "source": [
    "import pickle\n",
    "import collections\n",
    "AquisitionResult = collections.namedtuple(\"AquisitionResult\", \"fd tau snr\")\n",
    "results_filepath = filepath.split('.')[0] + '_coarse_aquisition_results.pk'\n",
    "coarse_aquisition_results = pickle.load(open(results_filepath, 'rb'))"
   ]
  },
  {
   "cell_type": "markdown",
   "metadata": {},
   "source": [
    "TODO:\n",
    "\n",
    "have a tracking outputs object that has circular buffers of definable sizes and gives push data and access into past."
   ]
  },
  {
   "cell_type": "code",
   "execution_count": 15,
   "metadata": {
    "collapsed": false
   },
   "outputs": [],
   "source": [
    "class TrackingOutputBuffer:\n",
    "    def __init__(self, **outputs):\n",
    "        self.outputs = outputs\n",
    "        self.buffers = {}\n",
    "        self.indices = {}\n",
    "        for key in outputs:\n",
    "            self.buffers[key] = np.zeros((outputs[key]['size'],), dtype=outputs[key]['dtype'])\n",
    "            self.indices[key] = 0\n",
    "    \n",
    "    def push(**outputs):\n",
    "        for key in outputs:\n",
    "            i = self.indices[key] += 1\n",
    "            self.buffers[key][i % self.outputs[key]['size']] = outputs[key]\n",
    "            \n",
    "    def plot(self):\n",
    "        keys = self.outputs.keys()\n",
    "        n = len(keys)\n",
    "        rows = cols = np.ceil(np.sqrt(n))\n",
    "        fig = plt.figure()\n",
    "        for r in range(rows):\n",
    "            for c in range(cols):\n",
    "                i = 3 * r + c + 1\n",
    "                ax = fig.add_subplot(r + 1, c + 1, i)\n",
    "                ax.plot(self.buffers[keys[i]])"
   ]
  }
 ],
 "metadata": {
  "css": [
   ""
  ],
  "kernelspec": {
   "display_name": "Python 3",
   "language": "python",
   "name": "python3"
  },
  "language_info": {
   "codemirror_mode": {
    "name": "ipython",
    "version": 3
   },
   "file_extension": ".py",
   "mimetype": "text/x-python",
   "name": "python",
   "nbconvert_exporter": "python",
   "pygments_lexer": "ipython3",
   "version": "3.4.2"
  }
 },
 "nbformat": 4,
 "nbformat_minor": 0
}
