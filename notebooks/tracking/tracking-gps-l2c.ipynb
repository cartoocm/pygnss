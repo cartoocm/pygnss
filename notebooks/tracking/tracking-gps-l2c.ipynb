{
 "cells": [
  {
   "cell_type": "code",
   "execution_count": 1,
   "metadata": {
    "collapsed": false
   },
   "outputs": [],
   "source": [
    "import numpy as np\n",
    "import matplotlib.pyplot as plt\n",
    "from gnss import codes\n",
    "from gnss.receiver import channels\n",
    "from gnss.signals import Signal\n",
    "from gnss.receiver import sources\n",
    "from gnss.filters import iir_filter\n",
    "from gnss.acquisition import coarse, fine\n",
    "from gnss.receiver import outputs\n",
    "from gnss.tracking import tracking"
   ]
  },
  {
   "cell_type": "code",
   "execution_count": 2,
   "metadata": {
    "collapsed": true
   },
   "outputs": [],
   "source": [
    "%reload_ext autoreload\n",
    "%autoreload 2"
   ]
  },
  {
   "cell_type": "code",
   "execution_count": 3,
   "metadata": {
    "collapsed": false
   },
   "outputs": [
    {
     "name": "stdout",
     "output_type": "stream",
     "text": [
      "1.3G\t/mnt/gluster/by-location/ascension-island/a1/gpsl2/usrp5/20130307_184310\r\n"
     ]
    }
   ],
   "source": [
    "!du -hs /mnt/gluster/by-location/ascension-island/a1/gpsl2/usrp5/20130307_184310"
   ]
  },
  {
   "cell_type": "markdown",
   "metadata": {},
   "source": [
    "\n",
    "We are using data from the USRP front ends. This data contains *signed 4-bit complex* samples.\n",
    "\n",
    "\n",
    "- L2:\n",
    "    - 5MHz sampling frequency\n",
    "    - 0Hz center frequency\n",
    "\n",
    "- L1/L5:\n",
    "    - 25MHz sampling\n",
    "    - 0Hz center frequency\n",
    "\n",
    "These files are large, so we should choose a reasonable buffer size for their data. 2 seconds worth of data would be:"
   ]
  },
  {
   "cell_type": "code",
   "execution_count": 4,
   "metadata": {
    "collapsed": false
   },
   "outputs": [
    {
     "data": {
      "text/plain": [
       "(10000000.0, 50000000.0)"
      ]
     },
     "execution_count": 4,
     "metadata": {},
     "output_type": "execute_result"
    }
   ],
   "source": [
    "5e6 * 2, 25e6 * 2"
   ]
  },
  {
   "cell_type": "markdown",
   "metadata": {},
   "source": [
    "which are 10 mega-samples and 50 mega-samples respectively."
   ]
  },
  {
   "cell_type": "code",
   "execution_count": 5,
   "metadata": {
    "collapsed": false
   },
   "outputs": [
    {
     "name": "stdout",
     "output_type": "stream",
     "text": [
      "we have 2.0 seconds of data\n"
     ]
    }
   ],
   "source": [
    "f_center = 0.\n",
    "f_samp = 5e6\n",
    "filepath = '/mnt/gluster/by-location/ascension-island/a1/gpsl2/usrp5/20130307_184310'\n",
    "source = sources.FileSignalSource(filepath, f_samp=f_samp, f_center=f_center, buffer_size=10e6, bit_depth=4, real=False)\n",
    "source.load()\n",
    "print('we have {0} seconds of data'.format(source.buffer_size / source.f_samp))"
   ]
  },
  {
   "cell_type": "code",
   "execution_count": 24,
   "metadata": {
    "collapsed": false
   },
   "outputs": [],
   "source": [
    "svid = 21\n",
    "signal = Signal.GPSL2(svid)\n",
    "\n",
    "c_acq = coarse.CoarseAcquirer(source, 20e-3, 2)\n",
    "f_acq = fine.FineAcquirer(source, 2e-3, 1e-3, 29)"
   ]
  },
  {
   "cell_type": "code",
   "execution_count": 25,
   "metadata": {
    "collapsed": false
   },
   "outputs": [
    {
     "name": "stdout",
     "output_type": "stream",
     "text": [
      "9834.148104 1100.0 0.0 21.2852301619\n"
     ]
    }
   ],
   "source": [
    "c_acq.acquire(signal)\n",
    "chip0 = c_acq.chip\n",
    "f_dopp = c_acq.f_dopp\n",
    "time = c_acq.time\n",
    "snr = c_acq.snr\n",
    "print(chip0, f_dopp, time, snr)"
   ]
  },
  {
   "cell_type": "code",
   "execution_count": 26,
   "metadata": {
    "collapsed": false
   },
   "outputs": [
    {
     "name": "stdout",
     "output_type": "stream",
     "text": [
      "9834.148104 1103.83367617 0.0\n"
     ]
    }
   ],
   "source": [
    "f_acq.acquire(signal, time, chip0, f_dopp)\n",
    "f_dopp = f_acq.f_dopp\n",
    "time = f_acq.time\n",
    "print(chip0, f_dopp, time)"
   ]
  },
  {
   "cell_type": "code",
   "execution_count": 23,
   "metadata": {
    "collapsed": false
   },
   "outputs": [
    {
     "name": "stdout",
     "output_type": "stream",
     "text": [
      "10216.876956 -1100.0 0.0923912 21.2912987945\n"
     ]
    }
   ],
   "source": [
    "c_acq.acquire(signal)\n",
    "chip1 = c_acq.chip\n",
    "f_dopp1 = c_acq.f_dopp\n",
    "time1 = c_acq.time\n",
    "snr1 = c_acq.snr\n",
    "print(chip1, f_dopp1, time1, snr1)"
   ]
  },
  {
   "cell_type": "code",
   "execution_count": null,
   "metadata": {
    "collapsed": true
   },
   "outputs": [],
   "source": [
    "f_acq.acquire(signal, time1, 0, f_dopp)\n",
    "f_dopp = f_acq.f_dopp\n",
    "time = f_acq.time\n",
    "print(chip0, f_dopp, time)"
   ]
  },
  {
   "cell_type": "code",
   "execution_count": 19,
   "metadata": {
    "collapsed": false
   },
   "outputs": [
    {
     "data": {
      "text/plain": [
       "0.8524999999208376"
      ]
     },
     "execution_count": 19,
     "metadata": {},
     "output_type": "execute_result"
    }
   ],
   "source": [
    "\n",
    "f_chip - 1.023e6"
   ]
  },
  {
   "cell_type": "code",
   "execution_count": 13,
   "metadata": {
    "collapsed": true
   },
   "outputs": [],
   "source": [
    "step = 2e-3\n",
    "f_update = 1. / step\n",
    "block_length = 2e-3\n",
    "block_size = block_length * source.f_samp\n",
    "\n",
    "dll_filter = iir_filter.FirstOrderLowpass(10, f_update)\n",
    "# pll_filter = iir_filter.FirstOrderLowpass(12, f_update)\n",
    "# pll_filter = iir_filter.SecondOrderLowpass(omega_n=5 * 12, zeta=1.7, fs=f_update)\n",
    "pll_filter = iir_filter.SecondOrderLowpassV2(omega_n=5 * 12, zeta=1.7, fs=f_update)\n",
    "\n",
    "delay = .5\n",
    "correlator = tracking.Correlator(chip_delays=[-delay, 0., delay])\n",
    "\n",
    "output_buff_size = 1000\n",
    "tracking_outputs = {\n",
    "    'phase': {'size': output_buff_size, 'dtype': np.float},\n",
    "    'chip': {'size': output_buff_size, 'dtype': np.float},\n",
    "    'i_corr': {'size': output_buff_size, 'dtype': np.float},\n",
    "    'q_corr': {'size': output_buff_size, 'dtype': np.float}\n",
    "    }\n",
    "output = outputs.TrackingOutputBuffer(**tracking_outputs)"
   ]
  },
  {
   "cell_type": "code",
   "execution_count": 30,
   "metadata": {
    "collapsed": true
   },
   "outputs": [],
   "source": [
    "time = 0.0\n",
    "output.clear()"
   ]
  },
  {
   "cell_type": "code",
   "execution_count": 31,
   "metadata": {
    "collapsed": true
   },
   "outputs": [],
   "source": [
    "theta = 0.\n",
    "chip = chip_out = chip0\n",
    "while time < source.max_time() - block_length:\n",
    "    code_corr, dopp_corr = correlator.correlate(signal, source, block_size, time, chip, f_dopp, theta)\n",
    "    early, prompt, late = code_corr\n",
    "    chip_error = tracking.delay_discriminator(early, prompt, late)\n",
    "    phase_error = -tracking.costas_discriminator(prompt)  # minus sign used b/c phase is subtracted in signal correlator\n",
    "    chip_error = dll_filter.f(chip_error)\n",
    "    phase_error = pll_filter.f(phase_error)\n",
    "    # error correction\n",
    "    chip -= chip_error\n",
    "    theta -= phase_error\n",
    "    # carrier-aiding and propagation\n",
    "    time += step\n",
    "    f_chip = signal.code.rate * (1. + f_dopp / signal.f_carrier)\n",
    "    chip += step * f_chip\n",
    "    theta += step * (source.f_center + f_dopp) * 2. * np.pi  # TODO: why do both theta update lines work?\n",
    "    # outputs\n",
    "    chip_out = chip_out - chip_error\n",
    "    output.push(**{'phase': phase_error, 'chip': chip_out, 'i_corr': np.real(prompt), 'q_corr': np.imag(prompt)})"
   ]
  },
  {
   "cell_type": "code",
   "execution_count": 32,
   "metadata": {
    "collapsed": true
   },
   "outputs": [],
   "source": [
    "output.plot()\n",
    "plt.show()"
   ]
  },
  {
   "cell_type": "code",
   "execution_count": null,
   "metadata": {
    "collapsed": true
   },
   "outputs": [],
   "source": []
  }
 ],
 "metadata": {
  "kernelspec": {
   "display_name": "Python 3",
   "language": "python",
   "name": "python3"
  },
  "language_info": {
   "codemirror_mode": {
    "name": "ipython",
    "version": 3
   },
   "file_extension": ".py",
   "mimetype": "text/x-python",
   "name": "python",
   "nbconvert_exporter": "python",
   "pygments_lexer": "ipython3",
   "version": "3.4.2"
  }
 },
 "nbformat": 4,
 "nbformat_minor": 0
}
