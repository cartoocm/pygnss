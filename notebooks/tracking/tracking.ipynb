{
 "cells": [
  {
   "cell_type": "code",
   "execution_count": 1,
   "metadata": {
    "collapsed": false
   },
   "outputs": [],
   "source": [
    "import numpy as np\n",
    "import matplotlib.pyplot as plt\n",
    "from gnss import codes\n",
    "from gnss.receiver import channels\n",
    "from gnss.signals import Signal\n",
    "from gnss.receiver import sources\n",
    "from gnss.filters import iir_filter\n",
    "from gnss.acquisition import coarse, fine\n",
    "from gnss.receiver import outputs"
   ]
  },
  {
   "cell_type": "code",
   "execution_count": 2,
   "metadata": {
    "collapsed": false
   },
   "outputs": [],
   "source": [
    "%reload_ext autoreload\n",
    "%autoreload 2"
   ]
  },
  {
   "cell_type": "markdown",
   "metadata": {},
   "source": [
    "In this notebook we will attempt to track a signal."
   ]
  },
  {
   "cell_type": "code",
   "execution_count": 3,
   "metadata": {
    "collapsed": false
   },
   "outputs": [
    {
     "name": "stdout",
     "output_type": "stream",
     "text": [
      "we have 1.048576 seconds of data\n"
     ]
    }
   ],
   "source": [
    "f_center = 1.25e6\n",
    "f_samp = 5e6\n",
    "filepath = '../../data/g072602f.dat'\n",
    "source = sources.FileSignalSource(filepath, f_samp=f_samp, f_center=f_center)\n",
    "source.load()\n",
    "print('we have {0} seconds of data'.format(source.buffer_size / source.f_samp))"
   ]
  },
  {
   "cell_type": "markdown",
   "metadata": {
    "collapsed": false
   },
   "source": [
    "In order to track with a DLL, we need to perform early, prompt, and late correlation. We may also wish to add a search dimension over doppler frequency. Thus, we make the function `correlate`."
   ]
  },
  {
   "cell_type": "code",
   "execution_count": 4,
   "metadata": {
    "collapsed": false
   },
   "outputs": [
    {
     "name": "stdout",
     "output_type": "stream",
     "text": [
      "Overwriting ../../gnss/tracking/tracking.py\n"
     ]
    }
   ],
   "source": [
    "%%writefile ../../gnss/tracking/tracking.py\n",
    "\n",
    "import numpy\n",
    "\n",
    "\n",
    "def code_samples(signal, f_dopp, t, chip=0.):\n",
    "    f_chip = signal.code.rate * (1. + f_dopp / signal.f_carrier)\n",
    "    return 1. - 2. * signal.code.sequence[(numpy.floor(chip + t * f_chip) % len(signal.code.sequence)).astype(int)]\n",
    "\n",
    "\n",
    "class Correlator:\n",
    "    \n",
    "    def __init__(self, chip_delays=[-.5, 0., .5], doppler_offsets=[]):\n",
    "        self.chip_delays = chip_delays\n",
    "        self.doppler_offsets = doppler_offsets\n",
    "    \n",
    "    def correlate(self, signal, source, block_size, time, chip, f_dopp, theta):\n",
    "        samples, time = source.get(block_size, time)\n",
    "        # TODO handle changes in time\n",
    "        t = numpy.arange(block_size) / source.f_samp\n",
    "        carrierless = samples * numpy.exp(-2j * numpy.pi * (source.f_center + f_dopp) * t - 1j * theta)\n",
    "        codeless = samples * code_samples(signal, f_dopp, t, chip)\n",
    "        chip_delay_outputs = (numpy.sum(carrierless * code_samples(signal, f_dopp, t, chip + delay)) \\\n",
    "                              for delay in self.chip_delays)\n",
    "        doppler_offset_outputs = (np.sum(codeless \\\n",
    "                    * numpy.exp(-2j * numpy.pi * (source.f_center + f_dopp + dopp_offset) * t - 1j * theta)) \\\n",
    "                    for dopp_offset in self.doppler_offsets)\n",
    "        return chip_delay_outputs, doppler_offset_outputs\n",
    "    \n",
    "    \n",
    "def delay_discriminator(early, prompt, late, delay=.5):\n",
    "    return delay * (numpy.abs(early) - numpy.abs(late)) / (numpy.abs(late) + numpy.abs(early) + 2 * numpy.abs(prompt))\n",
    "\n",
    "def costas_discriminator(prompt):\n",
    "    '''\n",
    "    Return Costas discriminator output for phase.\n",
    "    '''\n",
    "    return numpy.real(prompt) * numpy.imag(prompt) / numpy.abs(prompt)**2"
   ]
  },
  {
   "cell_type": "code",
   "execution_count": 5,
   "metadata": {
    "collapsed": true
   },
   "outputs": [],
   "source": [
    "from gnss.tracking import tracking"
   ]
  },
  {
   "cell_type": "code",
   "execution_count": 19,
   "metadata": {
    "collapsed": false
   },
   "outputs": [],
   "source": [
    "svid = 21\n",
    "signal = Signal.GPSL1CA(svid)\n",
    "\n",
    "c_acq = coarse.CoarseAcquirer(source, 5e-3, 3)\n",
    "f_acq = fine.FineAcquirer(source, 2e-3, 1e-3, 29)"
   ]
  },
  {
   "cell_type": "code",
   "execution_count": 20,
   "metadata": {
    "collapsed": false
   },
   "outputs": [
    {
     "name": "stdout",
     "output_type": "stream",
     "text": [
      "850.9314 2000.0 0.0 22.6375384847\n"
     ]
    }
   ],
   "source": [
    "c_acq.acquire(signal)\n",
    "chip0 = c_acq.chip\n",
    "f_dopp = c_acq.f_dopp\n",
    "time = c_acq.time\n",
    "snr = c_acq.snr\n",
    "print(chip0, f_dopp, time, snr)"
   ]
  },
  {
   "cell_type": "code",
   "execution_count": 21,
   "metadata": {
    "collapsed": false
   },
   "outputs": [
    {
     "name": "stdout",
     "output_type": "stream",
     "text": [
      "850.9314 1952.93614722 0.0\n"
     ]
    }
   ],
   "source": [
    "f_acq.acquire(signal, time, chip0, f_dopp)\n",
    "f_dopp = f_acq.f_dopp\n",
    "time = f_acq.time\n",
    "print(chip0, f_dopp, time)"
   ]
  },
  {
   "cell_type": "code",
   "execution_count": 22,
   "metadata": {
    "collapsed": false
   },
   "outputs": [],
   "source": [
    "step = 2.0006e-3\n",
    "f_update = 1. / step\n",
    "block_length = 2e-3\n",
    "block_size = block_length * source.f_samp\n",
    "\n",
    "dll_filter = iir_filter.FirstOrderLowpass(10, f_update)\n",
    "# pll_filter = iir_filter.FirstOrderLowpass(12, f_update)\n",
    "# pll_filter = iir_filter.SecondOrderLowpass(omega_n=5 * 12, zeta=1.7, fs=f_update)\n",
    "pll_filter = iir_filter.SecondOrderLowpassV2(omega_n=5 * 12, zeta=1.7, fs=f_update)\n",
    "\n",
    "delay = .5\n",
    "correlator = tracking.Correlator(chip_delays=[-delay, 0., delay])\n",
    "\n",
    "output_buff_size = 1000\n",
    "tracking_outputs = {\n",
    "    'phase': {'size': output_buff_size, 'dtype': np.float},\n",
    "    'chip': {'size': output_buff_size, 'dtype': np.float},\n",
    "    'i_corr': {'size': output_buff_size, 'dtype': np.float},\n",
    "    'q_corr': {'size': output_buff_size, 'dtype': np.float}\n",
    "    }\n",
    "output = outputs.TrackingOutputBuffer(**tracking_outputs)"
   ]
  },
  {
   "cell_type": "code",
   "execution_count": 26,
   "metadata": {
    "collapsed": false
   },
   "outputs": [],
   "source": [
    "time = 0.0\n",
    "output.clear()"
   ]
  },
  {
   "cell_type": "code",
   "execution_count": 27,
   "metadata": {
    "collapsed": false
   },
   "outputs": [],
   "source": [
    "theta = 0.\n",
    "chip = chip_out = chip0\n",
    "while time < source.max_time() - block_length:\n",
    "    code_corr, dopp_corr = correlator.correlate(signal, source, block_size, time, chip, f_dopp, theta)\n",
    "    early, prompt, late = code_corr\n",
    "    chip_error = tracking.delay_discriminator(early, prompt, late)\n",
    "    phase_error = -tracking.costas_discriminator(prompt)  # minus sign used b/c phase is subtracted in signal correlator\n",
    "    chip_error = dll_filter.f(chip_error)\n",
    "    phase_error = pll_filter.f(phase_error)\n",
    "    # error correction\n",
    "    chip -= chip_error\n",
    "    theta -= phase_error\n",
    "    # carrier-aiding and propagation\n",
    "    time += step\n",
    "    f_chip = signal.code.rate * (1. + f_dopp / signal.f_carrier)\n",
    "    chip += step * f_chip\n",
    "    theta += step * (source.f_center + f_dopp) * 2. * np.pi  # TODO: why do both theta update lines work?\n",
    "    # outputs\n",
    "    chip_out = chip_out - step * f_chip\n",
    "    output.push(**{'phase': phase_error, 'chip': chip_error, 'i_corr': np.real(prompt), 'q_corr': np.imag(prompt)})"
   ]
  },
  {
   "cell_type": "code",
   "execution_count": 28,
   "metadata": {
    "collapsed": false
   },
   "outputs": [],
   "source": [
    "output.plot()\n",
    "plt.show()"
   ]
  },
  {
   "cell_type": "markdown",
   "metadata": {},
   "source": [
    ".\n",
    "\n",
    ".\n",
    "\n",
    "."
   ]
  },
  {
   "cell_type": "markdown",
   "metadata": {},
   "source": [
    "Things:\n",
    "\n",
    "- adding time to `t` array in correlator works, but I don't think it's a good tracking method\n",
    "- updating using `phase += step * 2 * pi * (f_center + f_dopp)` works\n",
    "    - need to remember to subtract `theta` inside correlator\n",
    "    - because theta is used to subtract off, the resulting error will be negative\n",
    "        - should we change the costas correlator output or \"add phase error\" to phase?\n",
    "- `theta` update also works with `phase += step * 2 * pi * f_dopp`--this seems strange\n",
    "    - problem understood: verified using `step = 2.0006e-3`\n",
    "        - `f_center` rate is `8e-7`"
   ]
  },
  {
   "cell_type": "markdown",
   "metadata": {},
   "source": [
    ".\n",
    "\n",
    ".\n",
    "\n",
    "."
   ]
  },
  {
   "cell_type": "markdown",
   "metadata": {},
   "source": [
    "When tracking, we assume that we have already aquired the doppler and code phase of the signal.\n",
    "\n",
    "In tracking, we have a reference signal that we use to wipe off the code and carrier from the signal. We generate it using our estimates for code chip phase, doppler frequency, and signal phase--$(\\eta, f_d, \\theta)$."
   ]
  },
  {
   "cell_type": "markdown",
   "metadata": {},
   "source": [
    "If we have the 3 correlator outputs, what error should we provide as feedback to our DLL loop filter?\n",
    "\n",
    "Let $E$, $P$, and $L$ be the early, prompt, and late correlation outputs respectively.\n",
    "Each has a real and imaginary component--or a magnitude and a phase.\n",
    "\n",
    "We can always fit a polynomial of degree 2 through the magnitudes of the three points--this should yield the ML estimate for the correct code phase. Then this estimate minus the prompt phase yields the error. \n",
    "\n",
    "The correlator outputs are:\n",
    "\n",
    "$$\n",
    "x(t) = AN(t)C(t)\\cos((\\omega_{L1} + \\omega_d)t + \\theta) \\\\\n",
    "x(n) = AN(t)C(t)\\cos((\\omega_{L1} + \\omega_d)t + \\theta) \\\\\n",
    "Z_p = \n",
    "$$"
   ]
  },
  {
   "cell_type": "markdown",
   "metadata": {},
   "source": [
    "Consider the points $(-d, y_e), (0, y_p), (d, y_l)$.\n",
    "\n",
    "We can solve $\\mathbf{y} = X\\mathbf{a}$ for our coefficient vector $\\mathbf{a}$.\n",
    "\n",
    "$$\n",
    "\\newcommand{\\va}{\\mathbf{a}}\n",
    "\\newcommand{\\vy}{\\mathbf{y}}\n",
    "\\begin{align*}\n",
    "\\vy &= X \\va \\\\\n",
    "\\va &= X^{-1} \\vy \\\\\n",
    "X &= \\left(\\begin{array}{ccc}\n",
    "1 & -d & d^2 \\\\\n",
    "1 & 0 & 0 \\\\\n",
    "1 & d & d^2 \\\\\n",
    "\\end{array}\\right) \\\\\n",
    "\\end{align*}\n",
    "$$\n",
    "\n",
    "$$\n",
    "\\begin{align*}\n",
    "|X| &= 2d^3 \\\\\n",
    "adj(X) &= \\left(\\begin{array}{ccc}\n",
    "0 & -d^2 & d \\\\\n",
    "2d^3 & 0 & 2d \\\\\n",
    "0 & d^2 & d \\\\\n",
    "\\end{array}\\right)^T \\\\\n",
    "\\end{align*}\n",
    "$$\n",
    "\n",
    "$$\n",
    "\\begin{align*}\n",
    "X^{-1} &= \\frac{1}{2d^3} \\left(\\begin{array}{ccc}\n",
    "0 & 2d^3 & 0 \\\\\n",
    "-d^2 & 0 & d^2 \\\\\n",
    "d & 2d & d \\\\\n",
    "\\end{array}\\right) \\\\\n",
    "\\Rightarrow \\\\\n",
    "\\va = \\left[ y_p, \\frac{1}{2d}(y_l - y_e), \\frac{1}{2d^2}(y_e + y_l + 2y_p) \\right]\n",
    "\\end{align*} \\\\\n",
    "$$"
   ]
  },
  {
   "cell_type": "markdown",
   "metadata": {},
   "source": [
    "The next question is, where does the maximum occur for this function. It occurs where $\\frac{d}{dx}\\left(a_0 + a_1 x + a_2 x^2\\right) = 0 \\Rightarrow a_1 + 2a_2x = 0 \\Rightarrow x = -\\frac{a_1}{2a_2}$. The error is $-x$, so our feedback error has the full form:\n",
    "\n",
    "$$\n",
    "e = \\frac{a_1}{2a_2} = \\frac{d(y_l - y_e)}{y_e + y_l + 2y_p}\n",
    "$$"
   ]
  },
  {
   "cell_type": "markdown",
   "metadata": {},
   "source": [
    ".\n",
    "\n",
    "."
   ]
  },
  {
   "cell_type": "markdown",
   "metadata": {},
   "source": [
    "We need to add in a loop filter so we're not thrown off by spurious noise.\n",
    "\n",
    "We need to design some filter loop parameters.\n",
    "\n",
    "If $L(n)$ is our raw discriminator output, we generate a filtered output $L_p(n) = L_p(n-1) + 4TB(L(n) - L_p(n-1))$ where $T$ is the integration time and $B$ is the noise equivalent bandwidth. Note that with a longer integration time, a difference in current and past output is weighted more heavily.\n",
    "\n",
    "We can rewrite this equation as:\n",
    "\n",
    "$L_p(n) = (1 - 4TB)L_p(n-1) + 4TBL(n)$"
   ]
  },
  {
   "cell_type": "markdown",
   "metadata": {},
   "source": [
    "Next, we want a feedback error for our PLL loop filter.\n",
    "\n",
    "The error between the current doppler frequency estimate and actual estimate will be the rate of change of the phase. We can just use the current output and last output of our phase discriminator, which we describe next.\n",
    "\n",
    "We will need a phase discriminator to tell us the difference between the phase f\n",
    "\n",
    "$$\n",
    "\\newcommand{\\re}{\\text{Re}}\n",
    "\\newcommand{\\im}{\\text{Im}}\n",
    "L_\\theta = \\re{Z_P}\\im{Z_P}\n",
    " = \\cos{\\Delta\\theta}\\sin{\\Delta\\theta}\n",
    "$$\n",
    "`e_pll = np.real(prompt) * np.imag(prompt) / np.abs(prompt)`"
   ]
  },
  {
   "cell_type": "markdown",
   "metadata": {},
   "source": [
    "Our received signal after ADC is:\n",
    "\n",
    "$$ s(n) = \\sqrt(P_c) D(n) C(n) \\cos((\\omega_{IF} + \\omega_d)\\frac{n}{fs} + \\theta) + \\epsilon(n)$$\n",
    "\n",
    "At baseband, we have:\n",
    "\n",
    "$$ s(n) = \\sqrt(P_c) D(n) C(n) \\exp(j(\\omega_d\\frac{n}{fs} + \\theta)) + \\epsilon_A(n)\\exp(j\\epsilon_\\theta(n)) $$\n",
    "\n",
    "After wiping off estimated doppler, we have:\n",
    "\n",
    "$$ s(n) = \\sqrt(P_c) D(n) C(n) \\exp(j(2\\pi\\Delta f_d\\frac{n}{fs} + \\theta)) + \\epsilon_A(n)\\exp(j\\epsilon_\\theta(n)) $$"
   ]
  },
  {
   "cell_type": "markdown",
   "metadata": {},
   "source": [
    "Let's briefly ignore the navigation data $D$, code $C$, and amplitude terms:\n",
    "\n",
    "$$ s(n) = \\exp(j(2\\pi\\Delta f_d\\frac{n}{fs} + \\theta)) + N_0'(n) $$\n",
    "\n",
    "If we sum this over our integration time $T$, which corresponds to a block length of $N$ samples, we get:\n",
    "\n",
    "$$ \\begin{align*}\n",
    "\\sum_{n=0}^{N-1} s(n) &= \\exp(j\\theta)\\sum_{n=0}^{N-1} \\left[\\exp(j2\\pi\\Delta f_d\\frac{n}{fs}) + \\epsilon_A(n)\\exp(j\\epsilon_\\theta(n))\\right] \\\\\n",
    "&= \\exp(j\\theta)\\frac{1 - \\exp(j2\\pi\\Delta f_d\\frac{N}{fs})}{1 - \\exp(j2\\pi\\Delta f_d\\frac{1}{fs})}+ \\sum_{n=0}^{N-1} \\epsilon_A(n)\\exp(j\\epsilon_\\theta(n))\\\\\n",
    "&= \\exp(j\\theta)\\frac{\\exp(j\\pi\\Delta f_d\\frac{N}{fs})}{\\exp(j\\pi\\Delta f_d\\frac{1}{fs})}\\frac{\\exp(-j\\pi\\Delta f_d\\frac{N}{fs}) - \\exp(j\\pi\\Delta f_d\\frac{N}{fs})}{\\exp(-j\\pi\\Delta f_d\\frac{1}{fs}) - \\exp(j\\pi\\Delta f_d\\frac{1}{fs})}+ \\epsilon_A'\\exp(j\\epsilon_\\theta')\\\\\n",
    "&=\\exp(j\\theta)\\exp\\left(j\\pi\\Delta f_d\\frac{N-1}{fs}\\right)\\frac{\\sin\\pi\\Delta f_d T}{\\sin\\pi\\frac{\\Delta f_d}{fs}}+ \\epsilon_A'\\exp(j\\epsilon_\\theta')\\\\\n",
    "\\end{align*}$$\n",
    "\n",
    "Since $\\Delta f_d << fs \\Rightarrow \\sin\\pi\\frac{\\Delta f_d}{fs} \\approx \\pi\\frac{\\Delta f_d}{fs}$ and since $N/T = 1/fs$, we can write:\n",
    "\n",
    "$$ \\begin{align*}\n",
    "S_N = \\sum_{n=0}^{N-1} s(n) &=\\exp(j\\theta)\\exp\\left(j\\pi\\Delta f_d\\frac{N-1}{fs}\\right)N\\frac{\\sin\\pi\\Delta f_d T}{\\pi\\Delta f_d T}+ \\epsilon_A'\\exp(j\\epsilon_\\theta')\\\\\n",
    "&= N\\exp(j\\theta)\\exp\\left(j\\pi\\Delta f_d\\frac{N-1}{fs}\\right)\\text{sinc}\\pi\\Delta f_d T + \\epsilon_A'\\exp(j\\epsilon_\\theta')\\\\\n",
    "&\\approx N\\exp(j\\theta)\\exp\\left(j\\pi\\Delta f_d\\frac{N-1}{fs}\\right) + \\epsilon_A'\\exp(j\\epsilon_\\theta')\\\\\n",
    "\\end{align*}$$"
   ]
  },
  {
   "cell_type": "markdown",
   "metadata": {},
   "source": [
    "Our noise random variable for the integrated signal is--in magnitude phase notation--$\\epsilon_A'\\exp(j\\epsilon_\\theta')$. The magnitude $\\epsilon_A'$ has variance $\\sigma^2 = N\\sigma_{\\epsilon_A}^2$, and the phase is uniformly distributed between $(0, 2\\pi)$.\n",
    "\n"
   ]
  }
 ],
 "metadata": {
  "css": [
   ""
  ],
  "kernelspec": {
   "display_name": "Python 3",
   "language": "python",
   "name": "python3"
  },
  "language_info": {
   "codemirror_mode": {
    "name": "ipython",
    "version": 3
   },
   "file_extension": ".py",
   "mimetype": "text/x-python",
   "name": "python",
   "nbconvert_exporter": "python",
   "pygments_lexer": "ipython3",
   "version": "3.4.2"
  }
 },
 "nbformat": 4,
 "nbformat_minor": 0
}
