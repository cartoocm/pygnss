{
 "cells": [
  {
   "cell_type": "markdown",
   "metadata": {},
   "source": [
    "Plotting functionality should be separated from the data structures."
   ]
  },
  {
   "cell_type": "code",
   "execution_count": 7,
   "metadata": {
    "collapsed": false
   },
   "outputs": [
    {
     "name": "stdout",
     "output_type": "stream",
     "text": [
      "Overwriting ../../gnss/visualization/acquisition.py\n"
     ]
    }
   ],
   "source": [
    "%%writefile ../../gnss/visualization/acquisition.py\n",
    "\n",
    "import numpy\n",
    "from numpy import ones, uint8, uint32\n",
    "from bokeh.plotting import figure\n",
    "\n",
    "def plot_coarse_acquisition_results(acq):\n",
    "    c1, c2 = acq.plot_code_window\n",
    "    r, c = acq.plot_corr.shape\n",
    "    img = ones((r, c), dtype=uint32)\n",
    "    view = img.view(dtype=uint8).reshape((r, c, 4))\n",
    "    view[:, :, 0] = (acq.plot_corr / numpy.max(acq.plot_corr) * 255).astype(uint8)\n",
    "    view[:, :, 1] = (acq.plot_corr / numpy.max(acq.plot_corr) * 128).astype(uint8)\n",
    "    view[:, :, 3] = (acq.plot_corr / numpy.max(acq.plot_corr) * 255).astype(uint8)\n",
    "    dopp_min, dopp_max = acq.dopp_bins[0], acq.dopp_bins[-1]\n",
    "    p = figure(title='correlation', x_range=[c1, c2], y_range=[dopp_min, dopp_max], \n",
    "               x_axis_label='code phase (samples)', y_axis_label='doppler (Hz)')\n",
    "    p.image_rgba(image=[img], x=[c1], y=[dopp_min], dw=[c2 - c1], dh=[dopp_max - dopp_min])\n",
    "    return p\n",
    "\n",
    "def plot_fine_acquisition_results(acquirer):\n",
    "    p = figure(title='correlation', x_range=[c1, c2], y_range=[dopp_min, dopp_max], \n",
    "               x_axis_label='code phase (samples)', y_axis_label='doppler (Hz)')\n",
    "    p.image_rgba(image=[img], x=[c1], y=[dopp_min], dw=[c2 - c1], dh=[dopp_max - dopp_min])\n",
    "    return p"
   ]
  },
  {
   "cell_type": "code",
   "execution_count": 6,
   "metadata": {
    "collapsed": false
   },
   "outputs": [
    {
     "name": "stdout",
     "output_type": "stream",
     "text": [
      "Overwriting ../../gnss/visualization/tracking.py\n"
     ]
    }
   ],
   "source": [
    "%%writefile ../../gnss/visualization/tracking.py\n",
    "\n",
    "from numpy import sqrt, ceil, arange\n",
    "import matplotlib.pyplot as pyplot\n",
    "from bokeh.plotting import GridPlot, VBox, HBox, figure\n",
    "\n",
    "def plot_outputs(store, library='bokeh'):\n",
    "    keys = store.outputs.keys()\n",
    "    n = len(keys)\n",
    "    fig = None\n",
    "    rows = cols = int(ceil(sqrt(n)))\n",
    "    if library is 'matplotlib':\n",
    "        fig = fig if fig else pyplot.figure()\n",
    "        for i, key in enumerate(keys, 1):\n",
    "            ax = fig.add_subplot(rows, cols, i)\n",
    "            ax.plot(store.buffers[key])\n",
    "            ax.set_title(key)\n",
    "        return fig\n",
    "    elif library is 'bokeh':\n",
    "        plots = []\n",
    "        for key in store.outputs.keys():\n",
    "            plot = figure(title=key, plot_width=250, plot_height=250, tools=\"pan,wheel_zoom,box_zoom,reset,save\")\n",
    "            plot.line(arange(store.outputs[key]['size']), store.buffers[key], size=12, alpha=0.7)\n",
    "            plots.append(plot)\n",
    "        grid = GridPlot(children=[plots], title=\"tracking outputs\")\n",
    "        return grid\n",
    "    return None"
   ]
  },
  {
   "cell_type": "code",
   "execution_count": null,
   "metadata": {
    "collapsed": true
   },
   "outputs": [],
   "source": []
  }
 ],
 "metadata": {
  "kernelspec": {
   "display_name": "Python 3",
   "language": "python",
   "name": "python3"
  },
  "language_info": {
   "codemirror_mode": {
    "name": "ipython",
    "version": 3
   },
   "file_extension": ".py",
   "mimetype": "text/x-python",
   "name": "python",
   "nbconvert_exporter": "python",
   "pygments_lexer": "ipython3",
   "version": "3.4.3"
  }
 },
 "nbformat": 4,
 "nbformat_minor": 0
}
