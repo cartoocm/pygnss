{
 "cells": [
  {
   "cell_type": "markdown",
   "metadata": {},
   "source": [
    "In order to make nice plots in a generic, object oriented way, we want to have objects that contain relevant information for visual display.\n",
    "\n",
    "Here we develop a `PlotSeries` object. This object will store 2 dimensions of data as well as a data label and label position."
   ]
  },
  {
   "cell_type": "code",
   "execution_count": 1,
   "metadata": {
    "collapsed": false
   },
   "outputs": [
    {
     "ename": "SyntaxError",
     "evalue": "unexpected EOF while parsing (<ipython-input-1-a37535ce306d>, line 3)",
     "output_type": "error",
     "traceback": [
      "\u001b[1;36m  File \u001b[1;32m\"<ipython-input-1-a37535ce306d>\"\u001b[1;36m, line \u001b[1;32m3\u001b[0m\n\u001b[1;33m    def __init__(self):\u001b[0m\n\u001b[1;37m                       ^\u001b[0m\n\u001b[1;31mSyntaxError\u001b[0m\u001b[1;31m:\u001b[0m unexpected EOF while parsing\n"
     ]
    }
   ],
   "source": [
    "class PlotSeries:\n",
    "    \n",
    "    def __init__(self, x, y, label='', label_position=None):\n",
    "        self._x = x\n",
    "        self._y = y\n",
    "        self.label = label\n",
    "        self.label_position = label_position if label_position else (x[0], y[0])\n",
    "    \n",
    "    def adjust_labels(series_objects, mode='follow data', x_pad=1., y_pad=1.):\n",
    "        '''\n",
    "        Adjusts the label positions for `PlotSeries` objects so that\n",
    "        they do not overlap.\n",
    "        `series_objects` should contain a list/array of `PlotSeries` objects\n",
    "        whose labels will be adjusted.\n",
    "        `mode` specifies how to adjust the labels:\n",
    "            'up', 'down', 'left' and 'right' will move labels up, down, left, \n",
    "            and right respectively when labels overlap.\n",
    "            'follow data' will have labels move along the data, assuming the label\n",
    "            starts at (x[0], y[0])\n",
    "        `x_pad` and `y_pad` are the distance required between label positions for\n",
    "        them to be considered non-overlapping\n",
    "        \n",
    "        TODO: more generic x_pad/y_pad and taking into consideration label width/height/size\n",
    "        '''\n",
    "        pass\n",
    "\n",
    "    \n",
    "class IonoProfile(PlotSeries):\n",
    "    \n",
    "    def __init__(self, ed, alt, label='', label_position=None):\n",
    "        PlotSeries.__init__(self, ed, alt, label, label_position)\n",
    "    \n",
    "    @property.getter\n",
    "    def electron_density(self):\n",
    "        return self._x\n",
    "    \n",
    "    @property.getter\n",
    "    def altitude(self):\n",
    "        return self._y\n",
    "    \n",
    "\n",
    "class LatLonSeries(PlotSeries):\n",
    "    \n",
    "    def __init__(self, lon, lat, label='', label_position=None):\n",
    "        PlotSeries.__init__(self, lon, lat, label, label_position)\n",
    "        \n",
    "    @property.getter\n",
    "    def longitude(self):\n",
    "        return self._x\n",
    "    \n",
    "    @property.getter\n",
    "    def latitude(self):\n",
    "        return self._y\n",
    "\n",
    "    \n",
    "class AzElSeries(PlotSeries):\n",
    "    \n",
    "    def __init__(self, az, el, label='', label_position=None):\n",
    "        PlotSeries.__init__(self, az, el, label, label_position)\n",
    "        \n",
    "    @property.getter\n",
    "    def azimuth(self):\n",
    "        return self._x\n",
    "    \n",
    "    @property.getter\n",
    "    def elevation(self):\n",
    "        return self._y\n"
   ]
  },
  {
   "cell_type": "markdown",
   "metadata": {
    "collapsed": true
   },
   "source": [
    "At some point, we need to choose a plotting library/backend. Here is a plot example, in which we prefix the object name with 'MPL' to indicate that the plotting object uses matplotlib."
   ]
  },
  {
   "cell_type": "code",
   "execution_count": null,
   "metadata": {
    "collapsed": true
   },
   "outputs": [],
   "source": [
    "class MPLIonoProfilePlot:\n",
    "    '''\n",
    "    Plots a set of ionosphere profiles with profile \n",
    "    altitude on the y-axis and electron density on the x-axis.\n",
    "    '''"
   ]
  }
 ],
 "metadata": {
  "kernelspec": {
   "display_name": "Python 3",
   "language": "python",
   "name": "python3"
  },
  "language_info": {
   "codemirror_mode": {
    "name": "ipython",
    "version": 3
   },
   "file_extension": ".py",
   "mimetype": "text/x-python",
   "name": "python",
   "nbconvert_exporter": "python",
   "pygments_lexer": "ipython3",
   "version": "3.4.2"
  }
 },
 "nbformat": 4,
 "nbformat_minor": 0
}
