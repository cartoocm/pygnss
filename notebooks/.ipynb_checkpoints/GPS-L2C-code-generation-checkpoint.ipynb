{
 "cells": [
  {
   "cell_type": "markdown",
   "metadata": {},
   "source": [
    "## L2 CM/CL code generation\n",
    "\n",
    "The IS_GPS 200 spec has all the details on L2 code generation.\n",
    "\n",
    "We ignore the L2P code, which is usually (i.e. always) encrypted by the government. The L2 CM/CL codes are generated using a shift register. They are time multiplexed at a rate of 1.023MHz. A data signal is also modulo-2 summed on top of the CM code.\n",
    "\n",
    "The length of the CM code is 10230 chips. At 511.5kbps, this code lasts 20 milliseconds.\n",
    "\n",
    "The length of the CL code is 767250 chips and lasts 1.5 seconds.\n",
    "\n",
    "We have the generator polynomial $1 + x^3 + x^4 + x^5 + x^6 + x^9 + x^{11} + x^{16} + x^{19} + x^{21} + x^{24} + x^{27}$"
   ]
  },
  {
   "cell_type": "code",
   "execution_count": 8,
   "metadata": {
    "collapsed": false
   },
   "outputs": [
    {
     "data": {
      "text/plain": [
       "5"
      ]
     },
     "execution_count": 8,
     "metadata": {},
     "output_type": "execute_result"
    }
   ],
   "source": [
    "register = np.ones(32,)"
   ]
  },
  {
   "cell_type": "code",
   "execution_count": 13,
   "metadata": {
    "collapsed": false
   },
   "outputs": [],
   "source": [
    "l2_cm_initial_states = [\n",
    "        0o742417664,\n",
    "        0o756014035,\n",
    "        0o002747144,\n",
    "        0o066265724,\n",
    "        0o601403471,\n",
    "        0o703232733,\n",
    "        0o124510070,\n",
    "        0o617316361,\n",
    "        0o047541621,\n",
    "        0o733031046,\n",
    "        0o713512145,\n",
    "        0o024437606,\n",
    "        0o021264003,\n",
    "        0o230655351,\n",
    "        0o001314400,\n",
    "        0o222021506,\n",
    "        0o540264026,\n",
    "        0o205521705,\n",
    "        0o064022144,\n",
    "        0o120161274,\n",
    "        0o044023533,\n",
    "        0o724744327,\n",
    "        0o045743577,\n",
    "        0o741201660,\n",
    "        0o700274134,\n",
    "        0o010247261,\n",
    "        0o713433445,\n",
    "        0o737324162,\n",
    "        0o311627434,\n",
    "        0o710452007,\n",
    "        0o722462133,\n",
    "        0o050172213,\n",
    "        0o500653703,\n",
    "        0o755077436,\n",
    "        0o136717361,\n",
    "        0o756675453,\n",
    "        0o435506112,]"
   ]
  },
  {
   "cell_type": "code",
   "execution_count": null,
   "metadata": {
    "collapsed": true
   },
   "outputs": [],
   "source": [
    " l2_cl_initial_states = [\n",
    "        0o624145772,\n",
    "        0o506610362,\n",
    "        0o220360016,\n",
    "        0o710406104,\n",
    "        0o001143345,\n",
    "        0o053023326,\n",
    "        0o652521276,\n",
    "        0o206124777,\n",
    "        0o015563374,\n",
    "        0o561522076,\n",
    "        0o023163525,\n",
    "        0o117776450,\n",
    "        0o606516355,\n",
    "        0o046515565,\n",
    "        0o671511621,\n",
    "        0o605402220,\n",
    "        0o002576207,\n",
    "        0o525163451,\n",
    "        0o266527765,\n",
    "        0o006760703,\n",
    "        0o501474556,\n",
    "        0o743747443,\n",
    "        0o615534726,\n",
    "        0o720727474,\n",
    "        0o700521043,\n",
    "        0o222567263,\n",
    "        0o132765304,\n",
    "        0o746332245,\n",
    "        0o102300466,\n",
    "        0o255231716,\n",
    "        0o437661701,\n",
    "        0o717047302,\n",
    "        0o222614207,\n",
    "        0o561123307,\n",
    "        0o240713073,]\n"
   ]
  },
  {
   "cell_type": "code",
   "execution_count": null,
   "metadata": {
    "collapsed": true
   },
   "outputs": [],
   "source": [
    "cm_length = 10230\n",
    "cm_code = np.zeros((cm_length,))\n",
    "svid = 1\n",
    "state = initial_states[svid - 1]\n",
    "for i in range(cm_length):\n",
    "    state = shift_state(state)\n",
    "    cm_code[i] = state & 0x1"
   ]
  }
 ],
 "metadata": {
  "kernelspec": {
   "display_name": "Python 3",
   "language": "python",
   "name": "python3"
  },
  "language_info": {
   "codemirror_mode": {
    "name": "ipython",
    "version": 3
   },
   "file_extension": ".py",
   "mimetype": "text/x-python",
   "name": "python",
   "nbconvert_exporter": "python",
   "pygments_lexer": "ipython3",
   "version": "3.4.2"
  }
 },
 "nbformat": 4,
 "nbformat_minor": 0
}
