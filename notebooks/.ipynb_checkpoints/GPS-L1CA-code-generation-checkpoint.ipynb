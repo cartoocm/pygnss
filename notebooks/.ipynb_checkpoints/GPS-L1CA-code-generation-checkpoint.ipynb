{
 "cells": [
  {
   "cell_type": "code",
   "execution_count": 1,
   "metadata": {
    "collapsed": false
   },
   "outputs": [],
   "source": [
    "import numpy as np"
   ]
  },
  {
   "cell_type": "markdown",
   "metadata": {},
   "source": [
    "### GPS L1 C/A code generation"
   ]
  },
  {
   "cell_type": "markdown",
   "metadata": {},
   "source": [
    "http://www.gps.gov/technical/icwg/IS-GPS-200H.pdf"
   ]
  },
  {
   "cell_type": "markdown",
   "metadata": {},
   "source": [
    "We are going to demonstrate generation of the Gold codes and the GPS L1 CA signal PRN sequences. The file `gold_code.json` contains json formatted lists of data found in the GPS user segment interface specifications."
   ]
  },
  {
   "cell_type": "code",
   "execution_count": 2,
   "metadata": {
    "collapsed": false
   },
   "outputs": [],
   "source": [
    "import json\n",
    "f = open('../data/gps_code_phase_assignments.json', 'r')\n",
    "gold_code_data = json.load(f)\n",
    "print(gold_code_data.keys())"
   ]
  },
  {
   "cell_type": "code",
   "execution_count": 4,
   "metadata": {
    "collapsed": false
   },
   "outputs": [
    {
     "name": "stdout",
     "output_type": "stream",
     "text": [
      "PRN: 1\n",
      "PS1: 2\tPS2: 6\n",
      "chip delay: 5\n",
      "octal: 1440\n"
     ]
    }
   ],
   "source": [
    "# choose sv id\n",
    "sv_id = 1\n",
    "\n",
    "prn = gold_code_data['prn'][sv_id-1]\n",
    "ps1, ps2 = gold_code_data['ps_ca'][sv_id-1][0], gold_code_data['ps_ca'][sv_id-1][1]\n",
    "delay = gold_code_data['delay_ca'][sv_id-1]\n",
    "octal = gold_code_data['octal_ca'][sv_id-1]\n",
    "print('PRN: {0}\\nPS1: {1}\\tPS2: {2}\\nchip delay: {3}\\noctal: {4}'.format(prn, ps1, ps2, delay, octal))"
   ]
  },
  {
   "cell_type": "code",
   "execution_count": 5,
   "metadata": {
    "collapsed": false
   },
   "outputs": [],
   "source": [
    "g1 = np.ones((10,))\n",
    "g2 = np.ones((10,))\n",
    "g1_out = np.zeros((1023,), dtype=int)\n",
    "g2_out = np.zeros((1023,), dtype=int)\n",
    "for i in range(1023):\n",
    "    g1_out[i] = g1[9]\n",
    "    g2_out[i] = (g2[ps1 - 1] + g2[ps2 - 1]) % 2\n",
    "    g1_first = (g1[2] + g1[9]) % 2  # feedback on 3, 10\n",
    "    g2_first = (g2[1] + g2[2] + g2[5] + g2[7] + g2[8] + g2[9]) % 2  # feedback on 2, 3, 6, 8, 9, 10\n",
    "    g1[1:] = g1[:9]\n",
    "    g2[1:] = g2[:9]\n",
    "    g1[0] = g1_first\n",
    "    g2[0] = g2_first"
   ]
  },
  {
   "cell_type": "code",
   "execution_count": 6,
   "metadata": {
    "collapsed": false
   },
   "outputs": [],
   "source": [
    "code = (g1_out + g2_out) % 2"
   ]
  },
  {
   "cell_type": "markdown",
   "metadata": {},
   "source": [
    "We can check that our C/A code generation is correct by comparing the octal conversion of the first 10 chips to the 'octal' field we got from the gold_code.txt file."
   ]
  },
  {
   "cell_type": "code",
   "execution_count": 7,
   "metadata": {
    "collapsed": false
   },
   "outputs": [
    {
     "data": {
      "text/plain": [
       "'1100100000'"
      ]
     },
     "execution_count": 7,
     "metadata": {},
     "output_type": "execute_result"
    }
   ],
   "source": [
    "bits = ''.join([repr(i) for i in code[:10]])\n",
    "bits"
   ]
  },
  {
   "cell_type": "code",
   "execution_count": 8,
   "metadata": {
    "collapsed": false
   },
   "outputs": [
    {
     "data": {
      "text/plain": [
       "'01440'"
      ]
     },
     "execution_count": 8,
     "metadata": {},
     "output_type": "execute_result"
    }
   ],
   "source": [
    "oct(int(bits, 2))"
   ]
  },
  {
   "cell_type": "markdown",
   "metadata": {},
   "source": [
    "We can plot the code to get a feeling for it's general characteristics--which aren't very definitive since the code is pseudorandom."
   ]
  },
  {
   "cell_type": "code",
   "execution_count": 9,
   "metadata": {
    "collapsed": false
   },
   "outputs": [],
   "source": [
    "import matplotlib.pyplot as plt"
   ]
  },
  {
   "cell_type": "code",
   "execution_count": 10,
   "metadata": {
    "collapsed": false
   },
   "outputs": [],
   "source": [
    "fig = plt.figure()\n",
    "ax = fig.add_subplot(1, 1, 1)\n",
    "ax.plot(code)\n",
    "ax.set_title('Gold Code for PRN {0}'.format(prn))\n",
    "plt.show()"
   ]
  },
  {
   "cell_type": "markdown",
   "metadata": {},
   "source": [
    "Before we make our Gold code generation routine reusable by placing it in it's own file, we prototype its function implementation here."
   ]
  },
  {
   "cell_type": "code",
   "execution_count": 11,
   "metadata": {
    "collapsed": false
   },
   "outputs": [],
   "source": [
    "def gold_code(feedback_taps, output_taps):\n",
    "    \"\"\"Generates Gold code (length 1023 binary sequence) for the given feedback and output taps.\n",
    "    \n",
    "    Parameters\n",
    "    ----------\n",
    "    feedback_taps : array or ndarray of shape (M,)\n",
    "        the taps to use for feedback to the shift register's first value\n",
    "    output_taps : array or ndarray of shape (N,)\n",
    "        the taps to use for choosing the code output\n",
    "\n",
    "    Returns\n",
    "    -------\n",
    "    output : ndarray of shape(1023,)\n",
    "        the Gold code sequence\n",
    "\n",
    "    Notes\n",
    "    -----\n",
    "    \"\"\"\n",
    "    shift_register = np.ones((10,), dtype=np.uint8)\n",
    "    code = np.zeros((1023,), dtype=np.uint8)\n",
    "    for i in range(1023):\n",
    "        code[i] = np.sum(shift_register[output_taps]) % 2 \n",
    "        first = np.sum(shift_register[feedback_taps]) % 2 \n",
    "        shift_register[1:] = shift_register[:-1]\n",
    "        shift_register[0] = first\n",
    "    return code"
   ]
  },
  {
   "cell_type": "code",
   "execution_count": 12,
   "metadata": {
    "collapsed": false
   },
   "outputs": [],
   "source": [
    "def gps_l1_ca(sv_id):\n",
    "    \"\"\"Generates GPS L1 CA PRN code for given SV id.\n",
    "    \n",
    "    Parameters\n",
    "    ----------\n",
    "    sv_id : int\n",
    "        the id of the satellite for which the \n",
    "\n",
    "    Returns\n",
    "    -------\n",
    "    output : ndarray of shape(1023,)\n",
    "        the complete code sequence\n",
    "\n",
    "    Notes\n",
    "    -----\n",
    "    \"\"\"\n",
    "    phase_select = {1: (2, 6), \n",
    "                    2: (3, 7), \n",
    "                    3: (4, 8), \n",
    "                    4: (5, 9), \n",
    "                    5: (1, 9), \n",
    "                    6: (2, 10),\n",
    "                    7: (1, 8), \n",
    "                    8: (2, 9), \n",
    "                    9: (3, 10),\n",
    "                    10: (2, 3), \n",
    "                    11: (3, 4), \n",
    "                    12: (5, 6), \n",
    "                    13: (6, 7), \n",
    "                    14: (7, 8), \n",
    "                    15: (8, 9), \n",
    "                    16: (9, 10),\n",
    "                    17: (1, 4), \n",
    "                    18: (2, 5), \n",
    "                    19: (3, 6), \n",
    "                    20: (4, 7), \n",
    "                    21: (5, 8), \n",
    "                    22: (6, 9), \n",
    "                    23: (1, 3), \n",
    "                    24: (4, 6), \n",
    "                    25: (5, 7), \n",
    "                    26: (6, 8), \n",
    "                    27: (7, 9), \n",
    "                    28: (8, 10),\n",
    "                    29: (1, 6), \n",
    "                    30: (2, 7), \n",
    "                    31: (3, 8), \n",
    "                    32: (4, 9), \n",
    "                    65: (5, 10),\n",
    "                    66: (4, 10),\n",
    "                    67: (1, 7), \n",
    "                    68: (2, 8), \n",
    "                    69: (4, 10)}\n",
    "    ps = phase_select[sv_id]\n",
    "    g1 = gold_code([2, 9], [9])\n",
    "    g2 = gold_code([1, 2, 5, 7, 8, 9], [ps[0] - 1, ps[1] - 1])\n",
    "    return (g1 + g2) % 2"
   ]
  },
  {
   "cell_type": "code",
   "execution_count": 13,
   "metadata": {
    "collapsed": false
   },
   "outputs": [],
   "source": [
    "code = gps_l1_ca(1)"
   ]
  },
  {
   "cell_type": "code",
   "execution_count": 14,
   "metadata": {
    "collapsed": false
   },
   "outputs": [
    {
     "data": {
      "text/plain": [
       "'01440'"
      ]
     },
     "execution_count": 14,
     "metadata": {},
     "output_type": "execute_result"
    }
   ],
   "source": [
    "bits = ''.join([repr(i) for i in code[:10]])\n",
    "oct(int(bits, 2))"
   ]
  },
  {
   "cell_type": "code",
   "execution_count": null,
   "metadata": {
    "collapsed": true
   },
   "outputs": [],
   "source": [
    "for sv_id in range(1, 33):\n",
    "    prn = gold_code_data['prn'][sv_id-1]\n",
    "    ps1, ps2 = gold_code_data['ps_ca'][sv_id-1][0], gold_code_data['ps_ca'][sv_id-1][1]\n",
    "    delay = gold_code_data['delay_ca'][sv_id-1]\n",
    "    octal = gold_code_data['octal_ca'][sv_id-1]\n",
    "    print('PRN: {0}\\nPS1: {1}\\tPS2: {2}\\toctal: {3}'.format(prn, ps1, ps2, octal))\n",
    "    code = gps_l1_ca(sv_id)\n",
    "    bits = ''.join([repr(i) for i in code[:10]])\n",
    "    octal = oct(int(bits, 2))\n",
    "    print('PS1: {0}\\tPS2: {1}\\toctal: {2}'.format(phase_select[sv_id][0], phase_select[sv_id][1], octal))\n",
    "    np.savetxt('temp/gold_code_{0}.txt'.format(sv_id), code, fmt='%1u')"
   ]
  },
  {
   "cell_type": "code",
   "execution_count": 17,
   "metadata": {
    "collapsed": false
   },
   "outputs": [
    {
     "name": "stdout",
     "output_type": "stream",
     "text": [
      "[1 1 0 0 1 0 0 0 0 0]\n"
     ]
    }
   ],
   "source": [
    "prn = 1\n",
    "code = gps_l1_ca(prn)\n",
    "print(code[:10])"
   ]
  },
  {
   "cell_type": "code",
   "execution_count": 20,
   "metadata": {
    "collapsed": false
   },
   "outputs": [
    {
     "name": "stdout",
     "output_type": "stream",
     "text": [
      "800\n"
     ]
    }
   ],
   "source": [
    "print(int(''.join([str(d) for d in code[:10]]), 2))"
   ]
  }
 ],
 "metadata": {
  "css": [
   ""
  ],
  "kernelspec": {
   "display_name": "Python 3",
   "language": "python",
   "name": "python3"
  },
  "language_info": {
   "codemirror_mode": {
    "name": "ipython",
    "version": 3
   },
   "file_extension": ".py",
   "mimetype": "text/x-python",
   "name": "python",
   "nbconvert_exporter": "python",
   "pygments_lexer": "ipython3",
   "version": "3.4.2"
  }
 },
 "nbformat": 4,
 "nbformat_minor": 0
}
