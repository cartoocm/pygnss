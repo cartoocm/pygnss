{
 "cells": [
  {
   "cell_type": "code",
   "execution_count": 1,
   "metadata": {
    "collapsed": false
   },
   "outputs": [],
   "source": [
    "\n",
    "import numpy as np\n",
    "import datetime\n",
    "import pytz\n",
    "import urllib2\n",
    "from collections import namedtuple"
   ]
  },
  {
   "cell_type": "markdown",
   "metadata": {},
   "source": [
    "GPS time was synchronized with UTC time on 1 January 1980. UTC and GPS time both follow TAI (International Atomic Time). However, UTC applies leap seconds every so often in order to stay synchronized to the mean solar time--i.e. the time of day based on sun position in the sky. GPS does not apply these leap seconds. At the GPS epoch in 1980, UTC was offset from TAI by 9 seconds? Thus GPS time is offset from TAI by 9 seconds.\n",
    "\n",
    "See the [leap seconds page of wikipedia] for more information.\n",
    "\n",
    "[leap seconds page of wikipedia]:http://en.wikipedia.org/wiki/Leap_second\n",
    "\n",
    "We usually want to determine GPS time offset from UTC. We will use this [leap seconds list] to determine the offset.\n",
    "\n",
    "[leap seconds list]:http://www.ietf.org/timezones/data/leap-seconds.list"
   ]
  },
  {
   "cell_type": "code",
   "execution_count": 2,
   "metadata": {
    "collapsed": false
   },
   "outputs": [],
   "source": [
    "OffsetEpoch = namedtuple('OffsetEpoch', ['epoch', 'offset'])"
   ]
  },
  {
   "cell_type": "markdown",
   "metadata": {},
   "source": [
    "The leap seconds in the file are given as occuring at some NTPTimestamp.\n",
    "\n",
    "> The NTP timestamps are in units of seconds since the NTP epoch,\n",
    "> which is 1 January 1900, 00:00:00."
   ]
  },
  {
   "cell_type": "code",
   "execution_count": 3,
   "metadata": {
    "collapsed": false
   },
   "outputs": [],
   "source": [
    "ntp_epoch = datetime.datetime(year=1900, month=1, day=1, hour=0, minute=0, second=0, tzinfo=pytz.UTC)\n",
    "gps_epoch = datetime.datetime(year=1980, month=1, day=6, hour=0, minute=0, second=0, tzinfo=pytz.UTC)\n",
    "SECONDS_IN_WEEK = 60 * 60 * 24 * 7"
   ]
  },
  {
   "cell_type": "code",
   "execution_count": 4,
   "metadata": {
    "collapsed": false
   },
   "outputs": [],
   "source": [
    "leap_seconds_list_url = 'http://www.ietf.org/timezones/data/leap-seconds.list'\n",
    "leap_seconds_data = urllib2.urlopen(leap_seconds_list_url)\n",
    "leap_second_epochs = []\n",
    "for line in leap_seconds_data:\n",
    "    if line.startswith('#$'):\n",
    "        file_update_ntp = int(line.split()[1])\n",
    "    elif line.startswith('#@'):\n",
    "        file_expiration_ntp = int(line.split()[1])\n",
    "    elif line.startswith('#') or line == \"\":\n",
    "        # if line is comment or blank, ignore\n",
    "        continue\n",
    "    else:\n",
    "        ntp_timestamp = int(line.split()[0])\n",
    "        offset = int(line.split()[1])\n",
    "        epoch = ntp_epoch + datetime.timedelta(seconds=ntp_timestamp)\n",
    "        leap_second_epochs.append(OffsetEpoch(epoch, offset))"
   ]
  },
  {
   "cell_type": "markdown",
   "metadata": {},
   "source": [
    "The offset of GPS time to UTC is what the offset of UTC was during the GPS epoch, which is 1 Januray 1980."
   ]
  },
  {
   "cell_type": "code",
   "execution_count": 5,
   "metadata": {
    "collapsed": false
   },
   "outputs": [],
   "source": [
    "def utc_tai_offset(time):\n",
    "    \"\"\"\n",
    "    Calculates the offset (number of leap seconds) between a\n",
    "    given time and TAI. If `time` is before the first leap\n",
    "    seconds were introduced in 1972, returns 10--which is the\n",
    "    original offset introduced in 1972. Otherwise, returns \n",
    "    the offset corresponding to the last offset before\n",
    "    `time`.\n",
    "    \n",
    "    input\n",
    "    -----\n",
    "    time: datetime.datetime\n",
    "        the time for which to find leap seconds\n",
    "    \n",
    "    output\n",
    "    ------\n",
    "    offset: datetime.timedelta\n",
    "        the total leap second offset\n",
    "    \"\"\"\n",
    "    for i in range(len(leap_second_epochs)):\n",
    "        if leap_second_epochs[i].epoch > time:\n",
    "            offset = leap_second_epochs[i-1].offset if i > 0 else leap_second_epochs[0].offset\n",
    "            return datetime.timedelta(seconds=offset)\n",
    "    return datetime.timedelta(seconds=leap_second_epochs[-1].offset)"
   ]
  },
  {
   "cell_type": "code",
   "execution_count": 6,
   "metadata": {
    "collapsed": false
   },
   "outputs": [],
   "source": [
    "gps_tai_offset = utc_tai_offset(gps_epoch)"
   ]
  },
  {
   "cell_type": "code",
   "execution_count": 7,
   "metadata": {
    "collapsed": false
   },
   "outputs": [
    {
     "name": "stdout",
     "output_type": "stream",
     "text": [
      "offset between GPS time and International Atomic Reference time is:\n",
      "\t0:00:19\n"
     ]
    }
   ],
   "source": [
    "print('offset between GPS time and International Atomic Reference time is:\\n\\t{0}'.format(gps_tai_offset))"
   ]
  },
  {
   "cell_type": "markdown",
   "metadata": {},
   "source": [
    "Now that we have the leap seconds available to us, we can calculate the GPS time from UTC."
   ]
  },
  {
   "cell_type": "code",
   "execution_count": 9,
   "metadata": {
    "collapsed": false
   },
   "outputs": [],
   "source": [
    "class gpstime:\n",
    "    \"\"\"\n",
    "    Creates `gpstime` from `datetime` object.\n",
    "    GPS time is specified any of the following:\n",
    "     - total seconds (without leap) since GPS epoch\n",
    "     - week number and day of week\n",
    "     - week number and seconds into week\n",
    "    \"\"\"\n",
    "    \n",
    "    gps_tai_offset = utc_tai_offset(gps_epoch)\n",
    "    \n",
    "    def __init__(self, time):\n",
    "        \"\"\"\n",
    "        input\n",
    "        -----\n",
    "        time: datetime.datetime\n",
    "            the time to convert to GPS time\n",
    "        \"\"\"\n",
    "        time_gps_offset = utc_tai_offset(time) - self.gps_tai_offset\n",
    "        self.leap_second_offset = time_gps_offset\n",
    "        self.timedelta = time - gps_epoch + time_gps_offset\n",
    "\n",
    "    def week_dow(self):\n",
    "        frac_week, week = np.modf(self.timedelta.total_seconds() / SECONDS_IN_WEEK)\n",
    "        return int(week), frac_week * 7\n",
    "    \n",
    "    def week_seconds(self):\n",
    "        frac_week, week = np.modf(self.timedelta.total_seconds() / SECONDS_IN_WEEK)\n",
    "        return int(week), round(frac_week * 7 * 24 * 60 * 60)"
   ]
  },
  {
   "cell_type": "code",
   "execution_count": 18,
   "metadata": {
    "collapsed": false
   },
   "outputs": [
    {
     "name": "stdout",
     "output_type": "stream",
     "text": [
      "(0, 0.0)\n"
     ]
    }
   ],
   "source": [
    "print(gpstime(gps_epoch)).week_dow()"
   ]
  },
  {
   "cell_type": "code",
   "execution_count": 19,
   "metadata": {
    "collapsed": false
   },
   "outputs": [],
   "source": [
    "import dateutil.parser\n",
    "file_start = dateutil.parser.parse('2014-08-08 12:49:19+00:00')"
   ]
  },
  {
   "cell_type": "code",
   "execution_count": 20,
   "metadata": {
    "collapsed": false
   },
   "outputs": [
    {
     "name": "stdout",
     "output_type": "stream",
     "text": [
      "(1804, 478175.0)\n"
     ]
    }
   ],
   "source": [
    "our_week, our_seconds = gpstime(file_start).week_seconds()\n",
    "print(our_week, our_seconds)"
   ]
  },
  {
   "cell_type": "code",
   "execution_count": 22,
   "metadata": {
    "collapsed": false
   },
   "outputs": [],
   "source": [
    "delta = file_start - gps_epoch + datetime.timedelta(seconds=16)\n",
    "our_weeks_2 = delta.total_seconds() / (60 * 60 * 24 * 7)"
   ]
  },
  {
   "cell_type": "code",
   "execution_count": 24,
   "metadata": {
    "collapsed": false
   },
   "outputs": [
    {
     "name": "stdout",
     "output_type": "stream",
     "text": [
      "(1804, 478175.0)\n"
     ]
    }
   ],
   "source": [
    "frac_week, week = np.modf(our_weeks_2)\n",
    "our_week_2 = int(week)\n",
    "our_seconds_2 = round((our_weeks_2 - our_week_2) * 7 * 24 * 60 * 60)\n",
    "print(our_week_2, our_seconds_2)"
   ]
  },
  {
   "cell_type": "code",
   "execution_count": 25,
   "metadata": {
    "collapsed": false
   },
   "outputs": [
    {
     "name": "stdout",
     "output_type": "stream",
     "text": [
      "7.00444444444\n"
     ]
    }
   ],
   "source": [
    "online_seconds = 452959\n",
    "print((our_seconds - online_seconds) / 3600.)"
   ]
  },
  {
   "cell_type": "code",
   "execution_count": 26,
   "metadata": {
    "collapsed": false
   },
   "outputs": [
    {
     "name": "stdout",
     "output_type": "stream",
     "text": [
      "-6.0\n"
     ]
    }
   ],
   "source": [
    "online_seconds = 499775\n",
    "print((our_seconds - online_seconds) / 3600.)"
   ]
  },
  {
   "cell_type": "code",
   "execution_count": 27,
   "metadata": {
    "collapsed": false
   },
   "outputs": [
    {
     "name": "stdout",
     "output_type": "stream",
     "text": [
      "-1.0\n"
     ]
    }
   ],
   "source": [
    "online_seconds = 481775\n",
    "print((our_seconds - online_seconds) / 3600.)"
   ]
  },
  {
   "cell_type": "code",
   "execution_count": 28,
   "metadata": {
    "collapsed": false
   },
   "outputs": [
    {
     "data": {
      "text/plain": [
       "4"
      ]
     },
     "execution_count": 28,
     "metadata": {},
     "output_type": "execute_result"
    }
   ],
   "source": [
    "file_start.weekday()"
   ]
  },
  {
   "cell_type": "code",
   "execution_count": 29,
   "metadata": {
    "collapsed": false
   },
   "outputs": [
    {
     "data": {
      "text/plain": [
       "1"
      ]
     },
     "execution_count": 29,
     "metadata": {},
     "output_type": "execute_result"
    }
   ],
   "source": [
    "gps_epoch.weekday()"
   ]
  },
  {
   "cell_type": "code",
   "execution_count": 30,
   "metadata": {
    "collapsed": false
   },
   "outputs": [
    {
     "data": {
      "text/plain": [
       "datetime.timedelta(0, 16)"
      ]
     },
     "execution_count": 30,
     "metadata": {},
     "output_type": "execute_result"
    }
   ],
   "source": [
    "gpstime(file_start).leap_second_offset"
   ]
  },
  {
   "cell_type": "code",
   "execution_count": null,
   "metadata": {
    "collapsed": false
   },
   "outputs": [],
   "source": []
  }
 ],
 "metadata": {
  "css": [
   ""
  ],
  "kernelspec": {
   "display_name": "Python 3",
   "language": "python",
   "name": "python3"
  },
  "language_info": {
   "codemirror_mode": {
    "name": "ipython",
    "version": 3
   },
   "file_extension": ".py",
   "mimetype": "text/x-python",
   "name": "python",
   "nbconvert_exporter": "python",
   "pygments_lexer": "ipython3",
   "version": "3.4.2"
  }
 },
 "nbformat": 4,
 "nbformat_minor": 0
}
