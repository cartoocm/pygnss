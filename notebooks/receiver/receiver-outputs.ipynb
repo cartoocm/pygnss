{
 "cells": [
  {
   "cell_type": "markdown",
   "metadata": {},
   "source": [
    "### receiver outputs\n",
    "\n",
    "We need to immediately visualize or store our tracking/positioning outputs for verification. The `TrackingOutputBuffer` helps make this task easier for tracking outputs."
   ]
  },
  {
   "cell_type": "code",
   "execution_count": 4,
   "metadata": {
    "collapsed": false
   },
   "outputs": [
    {
     "name": "stdout",
     "output_type": "stream",
     "text": [
      "Overwriting ../../gnss/receiver/outputs.py\n"
     ]
    }
   ],
   "source": [
    "%%writefile ../../gnss/receiver/outputs.py\n",
    "\n",
    "\n",
    "import numpy\n",
    "import matplotlib.pyplot as pyplot\n",
    "\n",
    "class TrackingOutputBuffer:\n",
    "    \n",
    "    def __init__(self, **outputs):\n",
    "        self.outputs = outputs\n",
    "        self.buffers = {}\n",
    "        self.indices = {}\n",
    "        for key in outputs:\n",
    "            self.buffers[key] = numpy.zeros((outputs[key]['size'],), dtype=outputs[key]['dtype'])\n",
    "            self.indices[key] = 0\n",
    "    \n",
    "    def push(self, **outputs):\n",
    "        for key in outputs:\n",
    "            i = self.indices[key] = self.indices[key] + 1\n",
    "            self.buffers[key][i % self.outputs[key]['size']] = outputs[key]\n",
    "    \n",
    "    def clear(self):\n",
    "        for key in self.outputs:\n",
    "            self.buffers[key][:] = 0.\n",
    "            self.indices[key] = 0\n",
    "            \n",
    "    def plot(self):\n",
    "        keys = self.outputs.keys()\n",
    "        n = len(keys)\n",
    "        rows = cols = int(numpy.ceil(numpy.sqrt(n)))\n",
    "        fig = pyplot.figure()\n",
    "        for i, key in enumerate(keys, 1):\n",
    "            ax = fig.add_subplot(rows, cols, i)\n",
    "            ax.plot(self.buffers[key])\n",
    "            ax.set_title(key)\n",
    "        return fig\n",
    "    \n",
    "    "
   ]
  },
  {
   "cell_type": "code",
   "execution_count": null,
   "metadata": {
    "collapsed": true
   },
   "outputs": [],
   "source": []
  }
 ],
 "metadata": {
  "kernelspec": {
   "display_name": "Python 3",
   "language": "python",
   "name": "python3"
  },
  "language_info": {
   "codemirror_mode": {
    "name": "ipython",
    "version": 3
   },
   "file_extension": ".py",
   "mimetype": "text/x-python",
   "name": "python",
   "nbconvert_exporter": "python",
   "pygments_lexer": "ipython3",
   "version": "3.4.2"
  }
 },
 "nbformat": 4,
 "nbformat_minor": 0
}
