{
 "cells": [
  {
   "cell_type": "markdown",
   "metadata": {},
   "source": [
    "### receiver outputs\n",
    "\n",
    "We need to immediately visualize or store our tracking/positioning outputs for verification. The `TrackingOutputBuffer` helps make this task easier for tracking outputs."
   ]
  },
  {
   "cell_type": "code",
   "execution_count": 1,
   "metadata": {
    "collapsed": false
   },
   "outputs": [
    {
     "name": "stdout",
     "output_type": "stream",
     "text": [
      "Overwriting ../../gnss/receiver/outputs.py\n"
     ]
    }
   ],
   "source": [
    "%%writefile ../../gnss/receiver/outputs.py\n",
    "\n",
    "from collections import OrderedDict\n",
    "from numpy import zeros, nan, arange, ceil, sqrt\n",
    "import matplotlib.pyplot as pyplot\n",
    "from bokeh.plotting import GridPlot, VBox, HBox, figure\n",
    "\n",
    "class TrackingOutputBuffer:\n",
    "    \n",
    "    def __init__(self, **outputs):\n",
    "        self.outputs = outputs\n",
    "        self.buffers = OrderedDict\n",
    "        self.indices = {}\n",
    "        for key in outputs:\n",
    "            self.buffers[key] = zeros((outputs[key]['size'],), dtype=outputs[key]['dtype'])\n",
    "            self.buffers[key][:] = nan\n",
    "            self.indices[key] = 0\n",
    "    \n",
    "    def push(self, **outputs):\n",
    "        for key in outputs:\n",
    "            i = self.indices[key]\n",
    "            self.buffers[key][i % self.outputs[key]['size']] = outputs[key]\n",
    "            self.indices[key] = self.indices[key] + 1\n",
    "    \n",
    "    def clear(self):\n",
    "        for key in self.outputs:\n",
    "            self.buffers[key][:] = 0.\n",
    "            self.indices[key] = 0\n",
    "            \n",
    "    def plot(self, library='matplotlib'):\n",
    "        keys = self.outputs.keys()\n",
    "        n = len(keys)\n",
    "        fig = None\n",
    "        rows = cols = int(ceil(sqrt(n)))\n",
    "        if library is 'matplotlib':\n",
    "            fig = fig if fig else pyplot.figure()\n",
    "            for i, key in enumerate(keys, 1):\n",
    "                ax = fig.add_subplot(rows, cols, i)\n",
    "                ax.plot(self.buffers[key])\n",
    "                ax.set_title(key)\n",
    "            return fig\n",
    "        elif library is 'bokeh':\n",
    "            plots = []\n",
    "            for key in self.outputs.keys():\n",
    "                plot = figure(title=key, plot_width=250, plot_height=250, tools=\"pan,wheel_zoom,box_zoom,reset,save\")\n",
    "                plot.line(arange(self.outputs[key]['size']), self.buffers[key], size=12, alpha=0.7)\n",
    "                plots.append(plot)\n",
    "            grid = GridPlot(children=[plots], title=\"tracking outputs\")\n",
    "            return grid\n",
    "        return None\n",
    "    \n",
    "    "
   ]
  },
  {
   "cell_type": "code",
   "execution_count": null,
   "metadata": {
    "collapsed": true
   },
   "outputs": [],
   "source": []
  }
 ],
 "metadata": {
  "kernelspec": {
   "display_name": "Python 3",
   "language": "python",
   "name": "python3"
  },
  "language_info": {
   "codemirror_mode": {
    "name": "ipython",
    "version": 3
   },
   "file_extension": ".py",
   "mimetype": "text/x-python",
   "name": "python",
   "nbconvert_exporter": "python",
   "pygments_lexer": "ipython3",
   "version": "3.4.3"
  }
 },
 "nbformat": 4,
 "nbformat_minor": 0
}
