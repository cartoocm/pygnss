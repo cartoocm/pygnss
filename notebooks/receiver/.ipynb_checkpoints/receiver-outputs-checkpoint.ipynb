{
 "cells": [
  {
   "cell_type": "markdown",
   "metadata": {},
   "source": [
    "### receiver outputs\n",
    "\n",
    "We need to immediately visualize or store our tracking/positioning outputs for verification. The `TrackingOutputBuffer` helps make this task easier for tracking outputs."
   ]
  },
  {
   "cell_type": "code",
   "execution_count": 2,
   "metadata": {
    "collapsed": false
   },
   "outputs": [
    {
     "name": "stdout",
     "output_type": "stream",
     "text": [
      "Writing ../../gnss/tracking/output_buffer.py\n"
     ]
    }
   ],
   "source": [
    "%%writefile ../../gnss/receiver/outputs.py\n",
    "\n",
    "\n",
    "class TrackingOutputBuffer:\n",
    "    \n",
    "    def __init__(self, **outputs):\n",
    "        self.outputs = outputs\n",
    "        self.buffers = {}\n",
    "        self.indices = {}\n",
    "        for key in outputs:\n",
    "            self.buffers[key] = np.zeros((outputs[key]['size'],), dtype=outputs[key]['dtype'])\n",
    "            self.indices[key] = 0\n",
    "    \n",
    "    def push(**outputs):\n",
    "        for key in outputs:\n",
    "            i = self.indices[key] = self.indices[key] + 1\n",
    "            self.buffers[key][i % self.outputs[key]['size']] = outputs[key]\n",
    "            \n",
    "    def plot(self):\n",
    "        keys = self.outputs.keys()\n",
    "        n = len(keys)\n",
    "        rows = cols = np.ceil(np.sqrt(n))\n",
    "        fig = plt.figure()\n",
    "        for r in range(rows):\n",
    "            for c in range(cols):\n",
    "                i = 3 * r + c + 1\n",
    "                ax = fig.add_subplot(r + 1, c + 1, i)\n",
    "                ax.plot(self.buffers[keys[i]])\n",
    "        return fig"
   ]
  },
  {
   "cell_type": "code",
   "execution_count": null,
   "metadata": {
    "collapsed": true
   },
   "outputs": [],
   "source": []
  }
 ],
 "metadata": {
  "kernelspec": {
   "display_name": "Python 3",
   "language": "python",
   "name": "python3"
  },
  "language_info": {
   "codemirror_mode": {
    "name": "ipython",
    "version": 3
   },
   "file_extension": ".py",
   "mimetype": "text/x-python",
   "name": "python",
   "nbconvert_exporter": "python",
   "pygments_lexer": "ipython3",
   "version": "3.4.2"
  }
 },
 "nbformat": 4,
 "nbformat_minor": 0
}
