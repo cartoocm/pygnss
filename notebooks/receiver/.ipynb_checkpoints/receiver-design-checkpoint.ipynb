{
 "cells": [
  {
   "cell_type": "markdown",
   "metadata": {},
   "source": [
    "#### receiver design\n",
    "\n",
    "First, we outline our **design goals**:\n",
    "\n",
    "- full GNSS constellation support (at least potential to support...)\n",
    "- reasonably fast post processing (at least real time for one signal)\n",
    "- ability to control and dynamically change receiver functionality/algorithms\n",
    "\n",
    "The design should accomodate the natural and intuitive flow of a GNSS receiver, that is, it should follow this **data flow**:\n",
    "\n",
    "1. data read into signal buffer from file (or potentially USRP front-end)\n",
    "2. channels in un-acquired state attempt to acquire signal\n",
    "3. channels in coarse-acquired state attempt fine signal acquisition\n",
    "4. channels that have acquired their signals begin tracking\n",
    "5. tracking outputs are fed to output buffer\n",
    "6. output buffer is either displayed or written to file"
   ]
  },
  {
   "cell_type": "code",
   "execution_count": 1,
   "metadata": {
    "collapsed": true
   },
   "outputs": [],
   "source": [
    "# %load_ext autoreload\n",
    "# %autoreload 2\n",
    "import numpy as np"
   ]
  },
  {
   "cell_type": "code",
   "execution_count": 5,
   "metadata": {
    "collapsed": false
   },
   "outputs": [
    {
     "name": "stdout",
     "output_type": "stream",
     "text": [
      "Writing ../../gnss/receiver/sources.py\n"
     ]
    }
   ],
   "source": [
    "%%writefile ../../gnss/receiver/sources.py\n",
    "\n",
    "\n",
    "from os.path import getsize\n",
    "\n",
    "\n",
    "class SignalSource:\n",
    "    \"\"\"\n",
    "    Provides an abstract interface to digitized data from a GNSS front-end.\n",
    "    The actual source might be a file, in-memory buffer from USRP, or the network.\n",
    "    These interfaces should be implemented as derived classes of `SignalSource`.\n",
    "    \n",
    "    We can send the Channels sliced views of the buffer. These views do not copy by default.\n",
    "    \"\"\"\n",
    "    \n",
    "    def __init__(self, f_samp, f_center, buffer_size, bit_depth=8, real=False):\n",
    "        self.f_samp = f_samp\n",
    "        self.bit_depth = bit_depth\n",
    "        self.real = real\n",
    "        self.buffer_size = buffer_size\n",
    "        self.buffer = np.zeros((buffer_size,))\n",
    "        \n",
    "    # abstract???\n",
    "\n",
    "\n",
    "class FileSignalSource(SignalSource):\n",
    "    \n",
    "    def __init__(self, filepath, f_samp, f_center, buffer_size=None, bit_depth=8, real=False):\n",
    "        if not buffer_size:\n",
    "            # get file size\n",
    "            buffer_size = getsize(filepath)\n",
    "        super(FileSignalSource, self).__init__(f_samp, f_center, buffer_size, bit_depth, real)\n",
    "        self.filepath = filepath\n",
    "        self.file_loc = 0\n",
    "    \n",
    "    def load(self):\n",
    "        with open(\"temp\", \"rb\") as f:  # reopen the file\n",
    "            f.seek(self.file_loc, os.SEEK_SET)  # seek\n",
    "            self.buffer = np.fromfile(self.filepath, dtype=np.byte, count=self.buffer_size)\n",
    "\n",
    "            \n",
    "            "
   ]
  },
  {
   "cell_type": "code",
   "execution_count": 9,
   "metadata": {
    "collapsed": false
   },
   "outputs": [
    {
     "name": "stdout",
     "output_type": "stream",
     "text": [
      "Overwriting ../../gnss/receiver/channels.py\n"
     ]
    }
   ],
   "source": [
    "%%writefile ../../gnss/receiver/channels.py\n",
    "\n",
    "\n",
    "class SatChannel:\n",
    "    \"\"\"\n",
    "    Keeps track of tracking status for a single GNSS satellite.\n",
    "    `SignalChannel` objects are childs of their corresponding `SatChannel` objects.\n",
    "    \"\"\"\n",
    "    \n",
    "    def __init__(self, svid):\n",
    "        self.svid = svid\n",
    "        self.channels = []\n",
    "    \n",
    "    def register_signal_channel(self, channel):\n",
    "        self.channels.append(channel)\n",
    "    \n",
    "    def process(self, time, data):\n",
    "        for channel in self.channels:\n",
    "            channel.process(time, data)\n",
    "            \n",
    "            \n",
    "class SignalChannel:\n",
    "    \"\"\"\n",
    "    Keeps track of acquisition and tracking states for a single GNSS signal.\n",
    "    \"\"\"\n",
    "    \n",
    "    def __init__(self, signal):\n",
    "        self.signal = signal\n",
    "    \n",
    "    def process(self, time, data):\n",
    "        if self.state is 'TRACK':\n",
    "            self.track(time, data)\n",
    "        elif self.state is 'ACQUIRE':\n",
    "            self.acquire(time, data)\n",
    "        else:  # state is to do nothing\n",
    "            pass\n",
    "    \n",
    "    def acquire(self, time, data):\n",
    "        # check how accurate our acquisition is, then act accordingly\n",
    "        pass\n",
    "    \n",
    "    def track(self, time, data):\n",
    "        # check if we're moving forward or backward, propagate to `time`, and perform tracking algorithm\n",
    "        pass"
   ]
  },
  {
   "cell_type": "code",
   "execution_count": 10,
   "metadata": {
    "collapsed": false
   },
   "outputs": [
    {
     "name": "stdout",
     "output_type": "stream",
     "text": [
      "Overwriting ../../gnss/signals/__init__.py\n"
     ]
    }
   ],
   "source": [
    "%%writefile ../../gnss/signals/__init__.py\n",
    "\n",
    "\n",
    "from gnss.codes import gps_l1\n",
    "\n",
    "class Signal:\n",
    "    \"\"\"\n",
    "    Defines attributes of a GNSS signal.\n",
    "    \n",
    "    `code_2` is a code assumed to be 90 degrees out of phase with `code_1`.\n",
    "    -8 is unkown GLONASS frequency number.\n",
    "    \"\"\"\n",
    "    \n",
    "    def __init__(self, svid, f_carrier, code, code_2, f_nav=None, code_nav=None, signal_type='', freq_no=-8):\n",
    "        self.f_carrier = f_carrier\n",
    "        self.code = code\n",
    "        self.f_nav = f_nav\n",
    "        self.code_nav = code_nav\n",
    "        self.signal_type = signal_type\n",
    "    \n",
    "    def GPSL1CA(svid):\n",
    "        code = gps_l1.gps_l1ca(svid)\n",
    "        return Signal(1.57542e9, code, 50., signal_type='GPSL1CA')\n",
    "    \n",
    "    def GPSL2(svid):\n",
    "        code = gps_l2.gps_l2c(svid)\n",
    "        return Signal(1.2276e9, code, signal_type='GPSL2C')\n",
    "      \n",
    "    def GPSL5(svid):\n",
    "        code_i = gps_l5.gps_l5i(svid)\n",
    "        code_q = gps_l5.gps_l5q(svid)\n",
    "        return Signal(1.15476e9, code_i, signal_type='GPSL5')\n",
    "    "
   ]
  },
  {
   "cell_type": "code",
   "execution_count": 7,
   "metadata": {
    "collapsed": false
   },
   "outputs": [
    {
     "name": "stdout",
     "output_type": "stream",
     "text": [
      "Writing ../../gnss/receiver/controllers.py\n"
     ]
    }
   ],
   "source": [
    "%%writefile ../../gnss/receiver/controllers.py\n",
    "\n",
    "\n",
    "class ChannelController:\n",
    "    \"\"\"\n",
    "    At a given time, a `ChannelController` object is focused on a particular time range\n",
    "    of data for a particular signal. It can tell any of its registered Channels to process \n",
    "    this segment of data. The data resides inside a `SignalBuffer` object, while information\n",
    "    about the data format resides inside the `SignalSource` object\n",
    "    \"\"\"\n",
    "    \n",
    "    def __init__(self, signal_source):\n",
    "        self.signal_source = signal_source\n",
    "        self.signal_buffer = signal_buffer\n",
    "    \n",
    "    def add_channel(self, channel):\n",
    "        self.channels.append(channel)\n",
    "        \n",
    "        "
   ]
  },
  {
   "cell_type": "code",
   "execution_count": null,
   "metadata": {
    "collapsed": true
   },
   "outputs": [],
   "source": []
  }
 ],
 "metadata": {
  "kernelspec": {
   "display_name": "Python 3",
   "language": "python",
   "name": "python3"
  },
  "language_info": {
   "codemirror_mode": {
    "name": "ipython",
    "version": 3
   },
   "file_extension": ".py",
   "mimetype": "text/x-python",
   "name": "python",
   "nbconvert_exporter": "python",
   "pygments_lexer": "ipython3",
   "version": "3.4.2"
  }
 },
 "nbformat": 4,
 "nbformat_minor": 0
}
