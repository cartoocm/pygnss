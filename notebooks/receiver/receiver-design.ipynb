{
 "cells": [
  {
   "cell_type": "markdown",
   "metadata": {},
   "source": [
    "#### receiver design\n",
    "\n",
    "First, we outline our **design goals**:\n",
    "\n",
    "- full GNSS constellation support (at least potential to support...)\n",
    "- reasonably fast post processing (at least real time for one signal)\n",
    "- ability to control and dynamically change receiver functionality/algorithms\n",
    "\n",
    "The design should accomodate the natural and intuitive flow of a GNSS receiver, that is, it should follow this **data flow**:\n",
    "\n",
    "1. data read into signal buffer from file (or potentially USRP front-end)\n",
    "2. channels in un-acquired state attempt to acquire signal\n",
    "3. channels in coarse-acquired state attempt fine signal acquisition\n",
    "4. channels that have acquired their signals begin tracking\n",
    "5. tracking outputs are fed to output buffer\n",
    "6. output buffer is either displayed or written to file"
   ]
  },
  {
   "cell_type": "code",
   "execution_count": 1,
   "metadata": {
    "collapsed": true
   },
   "outputs": [],
   "source": [
    "# %load_ext autoreload\n",
    "# %autoreload 2\n",
    "import numpy as np"
   ]
  },
  {
   "cell_type": "code",
   "execution_count": 9,
   "metadata": {
    "collapsed": false
   },
   "outputs": [
    {
     "name": "stdout",
     "output_type": "stream",
     "text": [
      "Overwriting ../../gnss/receiver/channels.py\n"
     ]
    }
   ],
   "source": [
    "%%writefile ../../gnss/receiver/channels.py\n",
    "\n",
    "\n",
    "class SatChannel:\n",
    "    \"\"\"\n",
    "    Keeps track of tracking status for a single GNSS satellite.\n",
    "    `SignalChannel` objects are childs of their corresponding `SatChannel` objects.\n",
    "    \"\"\"\n",
    "    \n",
    "    def __init__(self, svid):\n",
    "        self.svid = svid\n",
    "        self.channels = []\n",
    "    \n",
    "    def register_signal_channel(self, channel):\n",
    "        self.channels.append(channel)\n",
    "    \n",
    "    def process(self, time, data):\n",
    "        for channel in self.channels:\n",
    "            channel.process(time, data)\n",
    "            \n",
    "            \n",
    "class SignalChannel:\n",
    "    \"\"\"\n",
    "    Keeps track of acquisition and tracking states for a single GNSS signal.\n",
    "    \"\"\"\n",
    "    \n",
    "    def __init__(self, signal):\n",
    "        self.signal = signal\n",
    "    \n",
    "    def process(self, time, data):\n",
    "        if self.state is 'TRACK':\n",
    "            self.track(time, data)\n",
    "        elif self.state is 'ACQUIRE':\n",
    "            self.acquire(time, data)\n",
    "        else:  # state is to do nothing\n",
    "            pass\n",
    "    \n",
    "    def acquire(self, time, data):\n",
    "        # check how accurate our acquisition is, then act accordingly\n",
    "        pass\n",
    "    \n",
    "    def track(self, time, data):\n",
    "        # check if we're moving forward or backward, propagate to `time`, and perform tracking algorithm\n",
    "        pass"
   ]
  },
  {
   "cell_type": "code",
   "execution_count": 7,
   "metadata": {
    "collapsed": false
   },
   "outputs": [
    {
     "name": "stdout",
     "output_type": "stream",
     "text": [
      "Writing ../../gnss/receiver/controllers.py\n"
     ]
    }
   ],
   "source": [
    "%%writefile ../../gnss/receiver/controllers.py\n",
    "\n",
    "\n",
    "class ChannelController:\n",
    "    \"\"\"\n",
    "    At a given time, a `ChannelController` object is focused on a particular time range\n",
    "    of data for a particular signal. It can tell any of its registered Channels to process \n",
    "    this segment of data. The data resides inside a `SignalBuffer` object, while information\n",
    "    about the data format resides inside the `SignalSource` object\n",
    "    \"\"\"\n",
    "    \n",
    "    def __init__(self, signal_source):\n",
    "        self.signal_source = signal_source\n",
    "        self.signal_buffer = signal_buffer\n",
    "    \n",
    "    def add_channel(self, channel):\n",
    "        self.channels.append(channel)\n",
    "        \n",
    "        "
   ]
  },
  {
   "cell_type": "code",
   "execution_count": null,
   "metadata": {
    "collapsed": true
   },
   "outputs": [],
   "source": []
  }
 ],
 "metadata": {
  "kernelspec": {
   "display_name": "Python 3",
   "language": "python",
   "name": "python3"
  },
  "language_info": {
   "codemirror_mode": {
    "name": "ipython",
    "version": 3
   },
   "file_extension": ".py",
   "mimetype": "text/x-python",
   "name": "python",
   "nbconvert_exporter": "python",
   "pygments_lexer": "ipython3",
   "version": "3.4.2"
  }
 },
 "nbformat": 4,
 "nbformat_minor": 0
}
