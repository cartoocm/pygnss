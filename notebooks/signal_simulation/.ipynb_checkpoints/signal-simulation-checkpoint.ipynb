{
 "cells": [
  {
   "cell_type": "markdown",
   "metadata": {},
   "source": [
    "### signal simulation\n",
    "\n",
    "Here we demonstrate simulation of the GPS L1 CA signal. We assume that the carrier has been downconverted to around 1.25MHz, and then sampled at a rate of 5MHz. During the downconversion process, in-phase and quadrature phase signals were generated. We will simulate as if we only use one of these."
   ]
  },
  {
   "cell_type": "code",
   "execution_count": 3,
   "metadata": {
    "collapsed": false
   },
   "outputs": [],
   "source": [
    "import numpy as np\n",
    "import matplotlib.pyplot as plt\n",
    "from gnss import codes"
   ]
  },
  {
   "cell_type": "code",
   "execution_count": 3,
   "metadata": {
    "collapsed": false
   },
   "outputs": [],
   "source": [
    "sv_id = 1        # SV id\n",
    "duration = 1e-3  # signal duration\n",
    "fs = 5e6         # sample rate\n",
    "fc = 1.57542e9   # transmitted carrier frequency\n",
    "fi = 1.25e6      # downconverted carrier frequency at time of sampling\n",
    "fd = 1000.       # doppler frequency added to carrier frequency\n",
    "phi = 0.         # initial carrier phase offset at time of sampling, in radians\n",
    "\n",
    "f_chip = 1.023e6 # CA code chipping frequency\n",
    "\n",
    "# initial code phase offset (in chips)\n",
    "n0 = 512.  # initial code sample phase (used for easy verification in correlation results)\n",
    "c0 = (n0 / fs) * f_chip * (1. + fd / fc)  # chip phase equals time offset / doppler adjusted chip period\n",
    "\n",
    "# carrier-to-noise ratio\n",
    "cn0 = 49."
   ]
  },
  {
   "cell_type": "code",
   "execution_count": 4,
   "metadata": {
    "collapsed": false
   },
   "outputs": [
    {
     "name": "stdout",
     "output_type": "stream",
     "text": [
      "number of samples: 5000\n"
     ]
    }
   ],
   "source": [
    "# number of samples\n",
    "n = int(duration * fs)\n",
    "print('number of samples: {0}'.format(n))\n",
    "# time array\n",
    "t = np.arange(n) / fs"
   ]
  },
  {
   "cell_type": "code",
   "execution_count": 5,
   "metadata": {
    "collapsed": false
   },
   "outputs": [],
   "source": [
    "ca_code = code_gen.gps_l1_ca(sv_id)\n",
    "ca_indices = (np.floor(c0 + t * f_chip * (1 + fd / fc)) % 1023).astype(int)\n",
    "ca_samples = 1. - 2. * ca_code[ca_indices]\n",
    "signal = ca_samples * np.cos(2 * np.pi * (fi + fd) * t + phi)\n",
    "downconverted_signal = signal * np.exp(-2j * np.pi * (fi +  fd) * t)"
   ]
  },
  {
   "cell_type": "code",
   "execution_count": 29,
   "metadata": {
    "collapsed": false
   },
   "outputs": [],
   "source": [
    "start, end = 0, 500\n",
    "plt.subplot(121)\n",
    "plt.plot(np.real(signal[start:end]))\n",
    "plt.plot(ca_samples[start:end])\n",
    "plt.title('signal')\n",
    "\n",
    "plt.subplot(122)\n",
    "plt.plot(np.real(downconverted_signal[start:end]))\n",
    "plt.title('downconverted signal')\n",
    "plt.xlabel('sample number')\n",
    "plt.show()"
   ]
  },
  {
   "cell_type": "markdown",
   "metadata": {},
   "source": [
    "To make this functionality easily reusable, we will make a function for simulating receiver signals."
   ]
  },
  {
   "cell_type": "code",
   "execution_count": 18,
   "metadata": {
    "collapsed": false
   },
   "outputs": [],
   "source": [
    "%%wr\n",
    "from numpy import sin, cos, floor, ones, arange\n",
    "\n",
    "def generate_signal(fs=5e6, duration=1e-3, fc=1.57542e9, fi=1.25e6, fd=0., phi=0., \n",
    "                    i_code=None, i_code_phase=0., q_code=None, q_code_phase=0., real=True):\n",
    "    \"\"\"\n",
    "    Generates `n` signal samples, where `n` is `duration * fs`. The carrier is\n",
    "    multiplied by mapped code samples, where `0` maps to `1` and `1` maps to `-1`.\n",
    "    This effectively implements BPSK of the code onto the carrier. If `real` is true,\n",
    "    (default) then the carrier is just a cosine, otherwise, the carrier is a complex\n",
    "    expontential.\n",
    "    \n",
    "    Parameters\n",
    "    ------\n",
    "    fs : float\n",
    "        receiver sampling rate (default 5MHz)\n",
    "    duration: float\n",
    "        signal duration in seconds\n",
    "    fc: float\n",
    "        the transmitted carrier frequency\n",
    "    fi: float\n",
    "        intermediate frequency, i.e., the (receiver downconverted) carrier frequency\n",
    "        (default 1.25MHz)\n",
    "    fd: float\n",
    "        the doppler frequency added to signal carrier frequency (default 0Hz)\n",
    "    phi: float\n",
    "        the initial phase offset of the carrier signal in radians (default 0rad)\n",
    "    i_code: Code object\n",
    "        the code to modulate on the in-phase carrier\n",
    "    i_code_phase: float\n",
    "        phase of in-phase code (in chips)\n",
    "    q_code: Code object\n",
    "        the code to modulate on the quad-phase carrier (ignored if real=True)\n",
    "    q_code_phase: float\n",
    "        phase of quad-phase code (in chips)\n",
    "    real: boolean (default True)\n",
    "        if True, returns real sinusoid modulated by code, otherwise returns complex\n",
    "        exponential modulated by code.\n",
    "        \n",
    "    \"\"\"\n",
    "    # we create a time vector according to user specified sampling rate and duration\n",
    "    n = int(duration * fs)\n",
    "    t = arange(n) / fs\n",
    "    \n",
    "    # samples will store the simulated signal, we use in-phase samples if real=True\n",
    "    i_samples = ones((n,), dtype=float)\n",
    "    if not real:\n",
    "        q_samples = ones((n,), dtype=float)\n",
    "\n",
    "    # the doppler frequency affects the chip rate by a factor of (1 + fd/fc)\n",
    "    # the code indices are detemined by taking the floor of the sampling time\n",
    "    # divided by the doppler frequency adjusted chip period, which is equivalent\n",
    "    # to multiplying by the corrected chip rate.\n",
    "    if i_code:\n",
    "        indices = (floor(i_code_phase + t * (i_code.rate * (1. + fd / fc))) % len(i_code.sequence)).astype(int)\n",
    "        i_samples *= 1 - 2 * i_code.sequence[indices]\n",
    "    if q_code and not real:\n",
    "        indices = (floor(q_code_phase + t * (q_code.rate * (1. + fd / fc))) % len(q_code.sequence)).astype(int)\n",
    "        q_samples *= 1 - 2 * q_code.sequence[indices]\n",
    "    \n",
    "    # we multiply the samples by either a real or complex sinusoid\n",
    "    if real:\n",
    "        i_samples *= cos(2 * np.pi * (fi + fd) * t + phi)\n",
    "        return i_samples\n",
    "    else:\n",
    "        i_samples *= cos(2 * np.pi * (fi + fd) * t + phi)\n",
    "        q_samples *= sin(2 * np.pi * (fi + fd) * t + phi)\n",
    "        return i_samples + 1j * q_samples"
   ]
  },
  {
   "cell_type": "markdown",
   "metadata": {},
   "source": [
    "We have that $C/N_0 = 10 \\log_{10}(\\frac{P_s}{P_n}) = 10\\log_{10}P_s - 10\\log_{10}P_n$\n",
    "\n",
    "The noise power $P_n = kT_k$ where $k = 1.38*10^{-23}$ is Boltzmann's constant.\n",
    "\n",
    "We estimate $T_k = T_{ANT} + T_{RX}*(1-NF) \\approx 100^\\circ + 435^\\circ \\approx 535^\\circ K$, where $T_{ANT}$ is the antenna sky noise, and $T_{RX}$ is the receiver thermal noise, which we multiply by $(1-NF)$, with $NF$ being the receiver noise figure.\n",
    "\n",
    "With these assumptions, we find $P_n = k T_k \\approx -201 dBW$.\n",
    "\n",
    "A nominal $C/N_0$ ratio is around $49dW$."
   ]
  },
  {
   "cell_type": "code",
   "execution_count": 19,
   "metadata": {
    "collapsed": false
   },
   "outputs": [],
   "source": [
    "def add_noise(signals, cn0s=[49.], tk=535., rx_bandwidth=2e6):\n",
    "    \"\"\"\n",
    "    Adds noise to a signal.\n",
    "    \n",
    "    Parameters\n",
    "    ----------\n",
    "    signals: list of ndarrays of shape (N,)\n",
    "        signal vectors that will be modified by an amplitude term and added together\n",
    "    cn0s: list of floats\n",
    "        signal-to-noise ratios (in dbHz), which typically ranges between 33-55 dbHz,\n",
    "        for corresponding signal in signals list. (nominal 49)\n",
    "    tk: float\n",
    "        receiver system noise temperature, which is a combination of sky noise and\n",
    "        thermal noise in the receiver. (default 535)\n",
    "    rx_bandwidth: float\n",
    "        receiver bandwidth (default 2MHz)\n",
    "    \n",
    "    Notes\n",
    "    -----\n",
    "    \"\"\"\n",
    "    # define Boltzmann's constant\n",
    "    k = 1.38e-23\n",
    "    noise_pwr = k * tk\n",
    "    # calculate signal amplitude using relationship Ps = 1/2 A^2 and\n",
    "    # CN0 = 10 * log(Ps/Pn) with Ps in Watts and Pn in Watts/Hz\n",
    "    amplitudes = [np.sqrt(2 * noise_pwr) * 10 ** (cn0 / 20.) for cn0 in cn0s]\n",
    "    samples = np.zeros(signals[0].shape)\n",
    "    for signal, a in zip(signals, amplitudes):\n",
    "        samples += a * signal\n",
    "    # noise amplitude depends on receiver bandwidth\n",
    "    noise_var = noise_pwr * rx_bandwidth\n",
    "    return samples + np.sqrt(noise_var) * np.random.randn(n)"
   ]
  },
  {
   "cell_type": "markdown",
   "metadata": {},
   "source": [
    "And a function to quantize a signal as well."
   ]
  },
  {
   "cell_type": "code",
   "execution_count": 20,
   "metadata": {
    "collapsed": false
   },
   "outputs": [],
   "source": [
    "def quantize(signal, bits=4, signal_level=1.):\n",
    "    \"\"\"\n",
    "    Quantizes a signal.\n",
    "    \n",
    "    Parameters\n",
    "    ----------\n",
    "    bits: int\n",
    "        bits in ADC--the number of signal quantization levels will be 2^`bits`\n",
    "    signal_level: float\n",
    "        the tuned incoming signal level relative to ADC max voltage\n",
    "        \n",
    "    Notes\n",
    "    -----\n",
    "    \"\"\"\n",
    "    levels = 2 ** (bits - 1)\n",
    "    return np.floor(levels * signal / np.max(signal))"
   ]
  },
  {
   "cell_type": "markdown",
   "metadata": {},
   "source": [
    "We can use our new functions like this:"
   ]
  },
  {
   "cell_type": "code",
   "execution_count": 30,
   "metadata": {
    "collapsed": false
   },
   "outputs": [],
   "source": [
    "ca_code = code_gen.gps_l1_ca(sv_id)\n",
    "codes = [(ca_code, 1.023e6, 0., False)]\n",
    "\n",
    "code_samples = generate_signal(fs=fs, duration=duration, fc=fc, fi=0., fd=0., phi=0., codes=codes)\n",
    "signal = generate_signal(fs=fs, duration=duration, fc=fc, fi=fi, fd=fd, phi=phi, codes=codes, real=False)\n",
    "signal = add_noise(signals=[signal], cn0s=[70.])\n",
    "signal = quantize(signal)"
   ]
  },
  {
   "cell_type": "code",
   "execution_count": 31,
   "metadata": {
    "collapsed": false
   },
   "outputs": [],
   "source": [
    "downconverted_signal = signal * generate_signal(fs=fs, duration=duration, fc=fc, fi=-fi, \n",
    "                                                     fd=-fd, phi=phi, codes=[], real=False)"
   ]
  },
  {
   "cell_type": "markdown",
   "metadata": {},
   "source": [
    "Plotting our results, we can see the high frequency components as well as the code modulation components of the signal."
   ]
  },
  {
   "cell_type": "code",
   "execution_count": 32,
   "metadata": {
    "collapsed": false
   },
   "outputs": [],
   "source": [
    "plt.subplot(131)\n",
    "plt.plot(code_samples[:100])\n",
    "plt.title('code')\n",
    "\n",
    "plt.subplot(132)\n",
    "plt.plot(np.abs(signal[:100]))\n",
    "plt.title('signal')\n",
    "\n",
    "plt.subplot(133)\n",
    "plt.plot(np.abs(downconverted_signal[:100]))\n",
    "plt.title('downconverted signal')\n",
    "plt.xlabel('sample number')\n",
    "plt.show()"
   ]
  },
  {
   "cell_type": "markdown",
   "metadata": {},
   "source": [
    "We can see that the downconverted signal still has high-frequency components that inhibit the recovery of the CA code. We can fix this by filtering the signal."
   ]
  },
  {
   "cell_type": "code",
   "execution_count": 24,
   "metadata": {
    "collapsed": false
   },
   "outputs": [],
   "source": [
    "signal_freq = np.fft.fft(downconverted_signal)\n",
    "plt.plot(np.abs(signal_freq))\n",
    "plt.show()"
   ]
  },
  {
   "cell_type": "markdown",
   "metadata": {},
   "source": [
    "We can recover the CA code by filtering. (WHY DOES THE GAUSSIAN LPF WORK???)"
   ]
  },
  {
   "cell_type": "code",
   "execution_count": 26,
   "metadata": {
    "collapsed": false
   },
   "outputs": [],
   "source": [
    "# lpf = np.ones(signal_freq.shape)\n",
    "# lpf[1250:3750] = 0. # high frequencies in middle\n",
    "lpf = 1. - np.exp(-0.5 * ((np.arange(n) - n / 2) / 1000.)**2)  # discard pdf amplitude 1./(1000. * np.sqrt(2 * np.pi))\n",
    "filtered_freq = lpf * signal_freq\n",
    "filtered_signal = np.fft.ifft(filtered_freq)"
   ]
  },
  {
   "cell_type": "code",
   "execution_count": 27,
   "metadata": {
    "collapsed": false
   },
   "outputs": [
    {
     "name": "stderr",
     "output_type": "stream",
     "text": [
      "/usr/lib/python2.7/dist-packages/numpy/core/numeric.py:460: ComplexWarning: Casting complex values to real discards the imaginary part\n",
      "  return array(a, dtype, copy=False, order=order)\n"
     ]
    }
   ],
   "source": [
    "plt.subplot(231)\n",
    "plt.plot(np.fft.fftshift(np.fft.fft(signal)))\n",
    "plt.title('original signal spectrum')\n",
    "plt.subplot(232)\n",
    "plt.plot(np.fft.fftshift(signal_freq))\n",
    "plt.title('downconverted signal spectrum')\n",
    "plt.subplot(233)\n",
    "plt.plot(np.fft.fftshift(lpf))\n",
    "plt.title('filter spectrum')\n",
    "plt.subplot(234)\n",
    "plt.plot(downconverted_signal[:100])\n",
    "plt.title('downconverted signal')\n",
    "plt.subplot(235)\n",
    "plt.plot(np.fft.fftshift(filtered_freq))\n",
    "plt.title('filtered signal spectrum')\n",
    "plt.subplot(236)\n",
    "plt.plot(filtered_signal[:100])\n",
    "plt.title('filtered signal')\n",
    "plt.show()"
   ]
  },
  {
   "cell_type": "code",
   "execution_count": 28,
   "metadata": {
    "collapsed": false
   },
   "outputs": [],
   "source": [
    "plt.subplot(231)\n",
    "plt.plot(np.real(downconverted_signal[:250]))\n",
    "plt.title('real downconverted signal')\n",
    "plt.subplot(232)\n",
    "plt.plot(np.imag(downconverted_signal[:250]))\n",
    "plt.title('imag downconverted signal')\n",
    "plt.subplot(233)\n",
    "plt.plot(np.absolute(downconverted_signal[:250]))\n",
    "plt.title('abs downconverted signal')\n",
    "plt.subplot(234)\n",
    "plt.plot(np.real(filtered_signal[:250]))\n",
    "plt.title('real filtered signal')\n",
    "plt.subplot(235)\n",
    "plt.plot(np.imag(filtered_signal[:250]))\n",
    "plt.title('imag filtered signal')\n",
    "plt.subplot(236)\n",
    "plt.plot(np.absolute(filtered_signal[:250]))\n",
    "plt.title('abs filtered signal')\n",
    "plt.show()"
   ]
  },
  {
   "cell_type": "code",
   "execution_count": null,
   "metadata": {
    "collapsed": false
   },
   "outputs": [],
   "source": []
  }
 ],
 "metadata": {
  "css": [
   ""
  ],
  "kernelspec": {
   "display_name": "Python 3",
   "language": "python",
   "name": "python3"
  },
  "language_info": {
   "codemirror_mode": {
    "name": "ipython",
    "version": 3
   },
   "file_extension": ".py",
   "mimetype": "text/x-python",
   "name": "python",
   "nbconvert_exporter": "python",
   "pygments_lexer": "ipython3",
   "version": "3.4.2"
  }
 },
 "nbformat": 4,
 "nbformat_minor": 0
}
