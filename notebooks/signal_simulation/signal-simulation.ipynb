{
 "cells": [
  {
   "cell_type": "markdown",
   "metadata": {},
   "source": [
    "### signal simulation\n",
    "\n",
    "Here we demonstrate simulation of the GPS L1 CA signal. We assume that the carrier has been downconverted to around 1.25MHz, and then sampled at a rate of 5MHz. During the downconversion process, in-phase and quadrature phase signals were generated. We will simulate as if we only use one of these."
   ]
  },
  {
   "cell_type": "code",
   "execution_count": 1,
   "metadata": {
    "collapsed": false
   },
   "outputs": [],
   "source": [
    "import numpy as np\n",
    "import matplotlib.pyplot as plt\n",
    "from gnss import codes\n",
    "from gnss import signals"
   ]
  },
  {
   "cell_type": "markdown",
   "metadata": {},
   "source": [
    "We will want to be able to create and store a signal struct that generically defines the parameters of the signal (this is esspecially important when designing a generic receiver architecture)."
   ]
  },
  {
   "cell_type": "code",
   "execution_count": 1,
   "metadata": {
    "collapsed": false
   },
   "outputs": [
    {
     "name": "stdout",
     "output_type": "stream",
     "text": [
      "Overwriting ../../gnss/signals/__init__.py\n"
     ]
    }
   ],
   "source": [
    "%%writefile ../../gnss/signals/__init__.py\n",
    "\n",
    "\n",
    "from gnss.codes import gps_l1, gps_l2, gps_l5\n",
    "\n",
    "GPSL1_CARRIER_FREQUENCY = 1.57542e9\n",
    "GPSL2_CARRIER_FREQUENCY = 1.2276e9\n",
    "GPSL5_CARRIER_FREQUENCY = 1.17645e9\n",
    "\n",
    "class Signal:\n",
    "    \"\"\"\n",
    "    Defines attributes of a GNSS signal, which is comprised of one code modulated on one carrier frequency.\n",
    "    \n",
    "    \n",
    "    -8 is unkown GLONASS frequency number.\n",
    "    \"\"\"\n",
    "    \n",
    "    def __init__(self, svid, f_carrier, code, f_nav=None, code_nav=None, signal_type='', freq_no=-8):\n",
    "        self.f_carrier = f_carrier\n",
    "        self.code = code\n",
    "        self.f_nav = f_nav\n",
    "        self.code_nav = code_nav\n",
    "        self.signal_type = signal_type\n",
    "    \n",
    "    def GPSL1CA(svid):\n",
    "        code = gps_l1.gps_l1ca(svid)\n",
    "        return Signal(svid, GPSL1_CARRIER_FREQUENCY, code, 50., signal_type='GPSL1CA')\n",
    "    \n",
    "    def GPSL2(svid):\n",
    "        code = gps_l2.gps_l2c(svid)\n",
    "        return Signal(svid, GPSL2_CARRIER_FREQUENCY, code, signal_type='GPSL2C')\n",
    "      \n",
    "    def GPSL5_I(svid):\n",
    "        code_i = gps_l5.gps_l5i(svid)\n",
    "        return Signal(svid, GPSL5_CARRIER_FREQUENCY, code_i, signal_type='GPSL5I')\n",
    "    \n",
    "    def GPSL5_Q(svid):\n",
    "        # TODO describe nav data\n",
    "        code_q = gps_l5.gps_l5q(svid)\n",
    "        return Signal(svid, GPSL5_CARRIER_FREQUENCY, code_q, signal_type='GPSL5Q')\n",
    "    "
   ]
  },
  {
   "cell_type": "code",
   "execution_count": 3,
   "metadata": {
    "collapsed": false
   },
   "outputs": [],
   "source": [
    "svid = 1\n",
    "signal = signals.Signal.GPSL1CA(svid)"
   ]
  },
  {
   "cell_type": "code",
   "execution_count": 9,
   "metadata": {
    "collapsed": false
   },
   "outputs": [],
   "source": [
    "svid = 1         # SV id\n",
    "duration = 1e-3  # signal duration\n",
    "f_samp = 5e6     # sample rate\n",
    "f_center = 1.25e6# downconverted carrier frequency at time of sampling\n",
    "f_dopp = 1000.   # doppler frequency added to carrier frequency\n",
    "phi0 = 0.        # initial carrier phase offset at time of sampling, in radians\n",
    "\n",
    "# initial code phase offset (in chips)\n",
    "n0 = 512.  # initial code sample phase (used for easy verification in correlation results)\n",
    "f_chip = signal.code.rate * (1. + f_dopp / signal.f_carrier)\n",
    "c0 = (n0 / f_samp) * f_chip  # chip phase equals time offset / doppler adjusted chip period\n",
    "\n",
    "# carrier-to-noise ratio\n",
    "cn0 = 49."
   ]
  },
  {
   "cell_type": "code",
   "execution_count": 10,
   "metadata": {
    "collapsed": false
   },
   "outputs": [
    {
     "name": "stdout",
     "output_type": "stream",
     "text": [
      "number of samples: 5000\n"
     ]
    }
   ],
   "source": [
    "# number of samples\n",
    "n = int(duration * f_samp)\n",
    "print('number of samples: {0}'.format(n))\n",
    "# time array\n",
    "t = np.arange(n) / f_samp"
   ]
  },
  {
   "cell_type": "code",
   "execution_count": 12,
   "metadata": {
    "collapsed": false
   },
   "outputs": [],
   "source": [
    "code_samples = 1 - 2 * signal.code.sequence[(np.floor(c0 + t * f_chip) % len(signal.code.sequence)).astype(int)]\n",
    "signal_samples = code_samples * np.exp(2j * np.pi * (f_center + f_dopp) * t + 1j * phi0)\n",
    "baseband_samples = signal_samples * np.exp(-2j * np.pi * f_center * t)"
   ]
  },
  {
   "cell_type": "code",
   "execution_count": 29,
   "metadata": {
    "collapsed": false
   },
   "outputs": [],
   "source": [
    "start, end = 0, 500\n",
    "plt.subplot(121)\n",
    "plt.plot(np.real(signal_samples[start:end]))\n",
    "plt.plot(code_samples[start:end])\n",
    "plt.title('signal')\n",
    "\n",
    "plt.subplot(122)\n",
    "plt.plot(np.real(baseband_samples[start:end]))\n",
    "plt.title('downconverted signal')\n",
    "plt.xlabel('sample number')\n",
    "plt.show()"
   ]
  },
  {
   "cell_type": "markdown",
   "metadata": {},
   "source": [
    "To make this functionality easily reusable, we will make a function for simulating receiver signals."
   ]
  },
  {
   "cell_type": "code",
   "execution_count": 18,
   "metadata": {
    "collapsed": false
   },
   "outputs": [],
   "source": [
    "%%writefile ../../gnss/signals/simulate.py\n",
    "\n",
    "\n",
    "from numpy import sin, cos, floor, ones, arange\n",
    "\n",
    "def generate_signal(signal, duration=1e-3, f_samp=5e6, f_center=1.25e6, f_dopp=0., code_phase, phi0=0., real=True):\n",
    "    \"\"\"\n",
    "    Generates `n` signal samples, where `n` is `duration * fs`. The carrier is\n",
    "    multiplied by mapped code samples, where `0` maps to `1` and `1` maps to `-1`.\n",
    "    This effectively implements BPSK of the code onto the carrier. If `real` is true,\n",
    "    (default) then the carrier is just a cosine, otherwise, the carrier is a complex\n",
    "    expontential.\n",
    "    \n",
    "    Parameters\n",
    "    ------\n",
    "    duration: float\n",
    "        signal duration in seconds\n",
    "    f_samp : float\n",
    "        receiver sampling rate (default 5MHz)\n",
    "    f_center: float\n",
    "        front-end center frequency\n",
    "        (default 1.25MHz)\n",
    "    fd: float\n",
    "        the doppler frequency added to signal carrier frequency (default 0Hz)\n",
    "    code_phase: float\n",
    "        the initial code phase (in chips\n",
    "    phi: float\n",
    "        the initial phase offset of the carrier signal in radians (default 0rad)\n",
    "    real: boolean (default True)\n",
    "        if True, returns real sinusoid modulated by code, otherwise returns complex\n",
    "        exponential modulated by code.\n",
    "        \n",
    "    \"\"\"\n",
    "    # we create a time vector according to user specified sampling rate and duration\n",
    "    n = int(duration * f_samp)\n",
    "    t = arange(n) / f_samp\n",
    "    \n",
    "    # samples will store the simulated signal, we use in-phase samples if real=True\n",
    "    i_samples = ones((n,), dtype=float)\n",
    "    if not real:\n",
    "        q_samples = ones((n,), dtype=float)\n",
    "\n",
    "    # the doppler frequency affects the chip rate by a factor of (1 + fd/fc)\n",
    "    # the code indices are detemined by taking the floor of the sampling time\n",
    "    # divided by the doppler frequency adjusted chip period, which is equivalent\n",
    "    # to multiplying by the corrected chip rate.\n",
    "    if i_code:\n",
    "        indices = (floor(i_code_phase + t * (i_code.rate * (1. + fd / fc))) % len(i_code.sequence)).astype(int)\n",
    "        i_samples *= 1 - 2 * i_code.sequence[indices]\n",
    "    if q_code and not real:\n",
    "        indices = (floor(q_code_phase + t * (q_code.rate * (1. + fd / fc))) % len(q_code.sequence)).astype(int)\n",
    "        q_samples *= 1 - 2 * q_code.sequence[indices]\n",
    "    \n",
    "    # we multiply the samples by either a real or complex sinusoid\n",
    "    if real:\n",
    "        i_samples *= cos(2 * np.pi * (fi + fd) * t + phi)\n",
    "        return i_samples\n",
    "    else:\n",
    "        i_samples *= cos(2 * np.pi * (fi + fd) * t + phi)\n",
    "        q_samples *= sin(2 * np.pi * (fi + fd) * t + phi)\n",
    "        return i_samples + 1j * q_samples"
   ]
  },
  {
   "cell_type": "markdown",
   "metadata": {},
   "source": [
    "We have that $C/N_0 = 10 \\log_{10}(\\frac{P_s}{P_n}) = 10\\log_{10}P_s - 10\\log_{10}P_n$\n",
    "\n",
    "The noise power $P_n = kT_k$ where $k = 1.38*10^{-23}$ is Boltzmann's constant.\n",
    "\n",
    "We estimate $T_k = T_{ANT} + T_{RX}*(1-NF) \\approx 100^\\circ + 435^\\circ \\approx 535^\\circ K$, where $T_{ANT}$ is the antenna sky noise, and $T_{RX}$ is the receiver thermal noise, which we multiply by $(1-NF)$, with $NF$ being the receiver noise figure.\n",
    "\n",
    "With these assumptions, we find $P_n = k T_k \\approx -201 dBW$.\n",
    "\n",
    "A nominal $C/N_0$ ratio is around $49dW$."
   ]
  },
  {
   "cell_type": "code",
   "execution_count": 19,
   "metadata": {
    "collapsed": false
   },
   "outputs": [],
   "source": [
    "def add_noise(signals, cn0s=[49.], tk=535., rx_bandwidth=2e6):\n",
    "    \"\"\"\n",
    "    Adds noise to a signal.\n",
    "    \n",
    "    Parameters\n",
    "    ----------\n",
    "    signals: list of ndarrays of shape (N,)\n",
    "        signal vectors that will be modified by an amplitude term and added together\n",
    "    cn0s: list of floats\n",
    "        signal-to-noise ratios (in dbHz), which typically ranges between 33-55 dbHz,\n",
    "        for corresponding signal in signals list. (nominal 49)\n",
    "    tk: float\n",
    "        receiver system noise temperature, which is a combination of sky noise and\n",
    "        thermal noise in the receiver. (default 535)\n",
    "    rx_bandwidth: float\n",
    "        receiver bandwidth (default 2MHz)\n",
    "    \n",
    "    Notes\n",
    "    -----\n",
    "    \"\"\"\n",
    "    # define Boltzmann's constant\n",
    "    k = 1.38e-23\n",
    "    noise_pwr = k * tk\n",
    "    # calculate signal amplitude using relationship Ps = 1/2 A^2 and\n",
    "    # CN0 = 10 * log(Ps/Pn) with Ps in Watts and Pn in Watts/Hz\n",
    "    amplitudes = [np.sqrt(2 * noise_pwr) * 10 ** (cn0 / 20.) for cn0 in cn0s]\n",
    "    samples = np.zeros(signals[0].shape)\n",
    "    for signal, a in zip(signals, amplitudes):\n",
    "        samples += a * signal\n",
    "    # noise amplitude depends on receiver bandwidth\n",
    "    noise_var = noise_pwr * rx_bandwidth\n",
    "    return samples + np.sqrt(noise_var) * np.random.randn(n)"
   ]
  },
  {
   "cell_type": "markdown",
   "metadata": {},
   "source": [
    "And a function to quantize a signal as well."
   ]
  },
  {
   "cell_type": "code",
   "execution_count": 20,
   "metadata": {
    "collapsed": false
   },
   "outputs": [],
   "source": [
    "def quantize(signal, bits=4, signal_level=1.):\n",
    "    \"\"\"\n",
    "    Quantizes a signal.\n",
    "    \n",
    "    Parameters\n",
    "    ----------\n",
    "    bits: int\n",
    "        bits in ADC--the number of signal quantization levels will be 2^`bits`\n",
    "    signal_level: float\n",
    "        the tuned incoming signal level relative to ADC max voltage\n",
    "        \n",
    "    Notes\n",
    "    -----\n",
    "    \"\"\"\n",
    "    levels = 2 ** (bits - 1)\n",
    "    return np.floor(levels * signal / np.max(signal))"
   ]
  },
  {
   "cell_type": "markdown",
   "metadata": {},
   "source": [
    "We can use our new functions like this:"
   ]
  },
  {
   "cell_type": "code",
   "execution_count": 30,
   "metadata": {
    "collapsed": false
   },
   "outputs": [],
   "source": [
    "ca_code = code_gen.gps_l1_ca(sv_id)\n",
    "codes = [(ca_code, 1.023e6, 0., False)]\n",
    "\n",
    "code_samples = generate_signal(fs=fs, duration=duration, fc=fc, fi=0., fd=0., phi=0., codes=codes)\n",
    "signal = generate_signal(fs=fs, duration=duration, fc=fc, fi=fi, fd=fd, phi=phi, codes=codes, real=False)\n",
    "signal = add_noise(signals=[signal], cn0s=[70.])\n",
    "signal = quantize(signal)"
   ]
  },
  {
   "cell_type": "code",
   "execution_count": 31,
   "metadata": {
    "collapsed": false
   },
   "outputs": [],
   "source": [
    "downconverted_signal = signal * generate_signal(fs=fs, duration=duration, fc=fc, fi=-fi, \n",
    "                                                     fd=-fd, phi=phi, codes=[], real=False)"
   ]
  },
  {
   "cell_type": "markdown",
   "metadata": {},
   "source": [
    "Plotting our results, we can see the high frequency components as well as the code modulation components of the signal."
   ]
  },
  {
   "cell_type": "code",
   "execution_count": 32,
   "metadata": {
    "collapsed": false
   },
   "outputs": [],
   "source": [
    "plt.subplot(131)\n",
    "plt.plot(code_samples[:100])\n",
    "plt.title('code')\n",
    "\n",
    "plt.subplot(132)\n",
    "plt.plot(np.abs(signal[:100]))\n",
    "plt.title('signal')\n",
    "\n",
    "plt.subplot(133)\n",
    "plt.plot(np.abs(downconverted_signal[:100]))\n",
    "plt.title('downconverted signal')\n",
    "plt.xlabel('sample number')\n",
    "plt.show()"
   ]
  },
  {
   "cell_type": "markdown",
   "metadata": {},
   "source": [
    "We can see that the downconverted signal still has high-frequency components that inhibit the recovery of the CA code. We can fix this by filtering the signal."
   ]
  },
  {
   "cell_type": "code",
   "execution_count": 24,
   "metadata": {
    "collapsed": false
   },
   "outputs": [],
   "source": [
    "signal_freq = np.fft.fft(downconverted_signal)\n",
    "plt.plot(np.abs(signal_freq))\n",
    "plt.show()"
   ]
  },
  {
   "cell_type": "markdown",
   "metadata": {},
   "source": [
    "We can recover the CA code by filtering. (WHY DOES THE GAUSSIAN LPF WORK???)"
   ]
  },
  {
   "cell_type": "code",
   "execution_count": 26,
   "metadata": {
    "collapsed": false
   },
   "outputs": [],
   "source": [
    "# lpf = np.ones(signal_freq.shape)\n",
    "# lpf[1250:3750] = 0. # high frequencies in middle\n",
    "lpf = 1. - np.exp(-0.5 * ((np.arange(n) - n / 2) / 1000.)**2)  # discard pdf amplitude 1./(1000. * np.sqrt(2 * np.pi))\n",
    "filtered_freq = lpf * signal_freq\n",
    "filtered_signal = np.fft.ifft(filtered_freq)"
   ]
  },
  {
   "cell_type": "code",
   "execution_count": 27,
   "metadata": {
    "collapsed": false
   },
   "outputs": [
    {
     "name": "stderr",
     "output_type": "stream",
     "text": [
      "/usr/lib/python2.7/dist-packages/numpy/core/numeric.py:460: ComplexWarning: Casting complex values to real discards the imaginary part\n",
      "  return array(a, dtype, copy=False, order=order)\n"
     ]
    }
   ],
   "source": [
    "plt.subplot(231)\n",
    "plt.plot(np.fft.fftshift(np.fft.fft(signal)))\n",
    "plt.title('original signal spectrum')\n",
    "plt.subplot(232)\n",
    "plt.plot(np.fft.fftshift(signal_freq))\n",
    "plt.title('downconverted signal spectrum')\n",
    "plt.subplot(233)\n",
    "plt.plot(np.fft.fftshift(lpf))\n",
    "plt.title('filter spectrum')\n",
    "plt.subplot(234)\n",
    "plt.plot(downconverted_signal[:100])\n",
    "plt.title('downconverted signal')\n",
    "plt.subplot(235)\n",
    "plt.plot(np.fft.fftshift(filtered_freq))\n",
    "plt.title('filtered signal spectrum')\n",
    "plt.subplot(236)\n",
    "plt.plot(filtered_signal[:100])\n",
    "plt.title('filtered signal')\n",
    "plt.show()"
   ]
  },
  {
   "cell_type": "code",
   "execution_count": 28,
   "metadata": {
    "collapsed": false
   },
   "outputs": [],
   "source": [
    "plt.subplot(231)\n",
    "plt.plot(np.real(downconverted_signal[:250]))\n",
    "plt.title('real downconverted signal')\n",
    "plt.subplot(232)\n",
    "plt.plot(np.imag(downconverted_signal[:250]))\n",
    "plt.title('imag downconverted signal')\n",
    "plt.subplot(233)\n",
    "plt.plot(np.absolute(downconverted_signal[:250]))\n",
    "plt.title('abs downconverted signal')\n",
    "plt.subplot(234)\n",
    "plt.plot(np.real(filtered_signal[:250]))\n",
    "plt.title('real filtered signal')\n",
    "plt.subplot(235)\n",
    "plt.plot(np.imag(filtered_signal[:250]))\n",
    "plt.title('imag filtered signal')\n",
    "plt.subplot(236)\n",
    "plt.plot(np.absolute(filtered_signal[:250]))\n",
    "plt.title('abs filtered signal')\n",
    "plt.show()"
   ]
  },
  {
   "cell_type": "code",
   "execution_count": null,
   "metadata": {
    "collapsed": false
   },
   "outputs": [],
   "source": []
  }
 ],
 "metadata": {
  "css": [
   ""
  ],
  "kernelspec": {
   "display_name": "Python 3",
   "language": "python",
   "name": "python3"
  },
  "language_info": {
   "codemirror_mode": {
    "name": "ipython",
    "version": 3
   },
   "file_extension": ".py",
   "mimetype": "text/x-python",
   "name": "python",
   "nbconvert_exporter": "python",
   "pygments_lexer": "ipython3",
   "version": "3.4.2"
  }
 },
 "nbformat": 4,
 "nbformat_minor": 0
}
